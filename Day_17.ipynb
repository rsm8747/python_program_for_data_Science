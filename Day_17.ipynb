{
 "cells": [
  {
   "cell_type": "markdown",
   "id": "7b0b57b3-14ed-4181-874b-c8e8127c8db4",
   "metadata": {},
   "source": [
    "### 6 Function as a Data Type"
   ]
  },
  {
   "cell_type": "code",
   "execution_count": 2,
   "id": "a935e99e-4dfe-4403-b328-708f8ca4a4e1",
   "metadata": {},
   "outputs": [],
   "source": [
    "def do_nothing(x):\n",
    "    return x"
   ]
  },
  {
   "cell_type": "code",
   "execution_count": 4,
   "id": "7a88446c-a108-44c4-9163-cce6d9b78551",
   "metadata": {},
   "outputs": [
    {
     "data": {
      "text/plain": [
       "function"
      ]
     },
     "execution_count": 4,
     "metadata": {},
     "output_type": "execute_result"
    }
   ],
   "source": [
    "type(do_nothing)"
   ]
  },
  {
   "cell_type": "code",
   "execution_count": 6,
   "id": "60bcdd15-0d71-400b-9f81-a9065c99b9e8",
   "metadata": {},
   "outputs": [
    {
     "name": "stdout",
     "output_type": "stream",
     "text": [
      "<function do_nothing at 0x000001FA252C0720>\n"
     ]
    }
   ],
   "source": [
    "print(do_nothing)"
   ]
  },
  {
   "cell_type": "markdown",
   "id": "e6cfb039-9caa-4ace-a339-13bd781bc9c0",
   "metadata": {},
   "source": [
    "## THis measn you can pass functions as arguments into other functions."
   ]
  },
  {
   "cell_type": "code",
   "execution_count": 13,
   "id": "87277e76-52b4-4bfd-8976-f6262e722cf3",
   "metadata": {},
   "outputs": [],
   "source": [
    "def square(y):\n",
    "    return y**2\n",
    "\n",
    "def evaluate_function_on_x_plus_1(fun,x):\n",
    "    return fun(x+1)"
   ]
  },
  {
   "cell_type": "code",
   "execution_count": 15,
   "id": "e03d8fa7-e38e-43a0-abb2-1c4e8fbf171a",
   "metadata": {},
   "outputs": [
    {
     "data": {
      "text/plain": [
       "36"
      ]
     },
     "execution_count": 15,
     "metadata": {},
     "output_type": "execute_result"
    }
   ],
   "source": [
    "evaluate_function_on_x_plus_1(square,5)"
   ]
  },
  {
   "cell_type": "markdown",
   "id": "199ee15b-fbe2-4b5b-bc2a-c721f69cf366",
   "metadata": {},
   "source": [
    "### 7  Anonymous Functions"
   ]
  },
  {
   "cell_type": "code",
   "execution_count": 20,
   "id": "3177df4f-6a53-452b-92a3-de7500116fb4",
   "metadata": {},
   "outputs": [
    {
     "data": {
      "text/plain": [
       "8.2"
      ]
     },
     "execution_count": 20,
     "metadata": {},
     "output_type": "execute_result"
    }
   ],
   "source": [
    "def add_one(x):\n",
    "    return x+1\n",
    "\n",
    "add_one(7.2)"
   ]
  },
  {
   "cell_type": "code",
   "execution_count": 22,
   "id": "41a7b5c8-e251-4c2b-bf12-a1776b33f6b7",
   "metadata": {},
   "outputs": [
    {
     "data": {
      "text/plain": [
       "function"
      ]
     },
     "execution_count": 22,
     "metadata": {},
     "output_type": "execute_result"
    }
   ],
   "source": [
    "## or by using lambda function\n",
    "\n",
    "add_one = lambda x: x+1\n",
    "type(add_one)"
   ]
  },
  {
   "cell_type": "code",
   "execution_count": 26,
   "id": "352cf5dc-3b54-4cf4-a456-047417a3227c",
   "metadata": {},
   "outputs": [
    {
     "data": {
      "text/plain": [
       "8.2"
      ]
     },
     "execution_count": 26,
     "metadata": {},
     "output_type": "execute_result"
    }
   ],
   "source": [
    "add_one(7.2)"
   ]
  },
  {
   "cell_type": "markdown",
   "id": "848fad8b-66a9-4ff5-96d3-30e78f83c658",
   "metadata": {},
   "source": [
    "### 8. DRY Principle, Designing Good Functions\n",
    "\n",
    "#### DRY stands for Dont repeat yourself "
   ]
  },
  {
   "cell_type": "code",
   "execution_count": 30,
   "id": "aa495984-1b0a-46a9-803b-f4ef1191e78e",
   "metadata": {},
   "outputs": [],
   "source": [
    "names = [\"milad\",\"tom\",\"tiffany\"]"
   ]
  },
  {
   "cell_type": "code",
   "execution_count": 32,
   "id": "106256be-ea87-4a12-a513-c118cdb9ad86",
   "metadata": {},
   "outputs": [
    {
     "data": {
      "text/plain": [
       "'mot'"
      ]
     },
     "execution_count": 32,
     "metadata": {},
     "output_type": "execute_result"
    }
   ],
   "source": [
    "name = \"tom\"\n",
    "name[::-1]  # creates a slice that starts at the end and moves backwards, syntax is [begin:end:step]"
   ]
  },
  {
   "cell_type": "code",
   "execution_count": 42,
   "id": "1a05bf3f-4a69-4d02-bbd6-f7617d74ef76",
   "metadata": {},
   "outputs": [
    {
     "data": {
      "text/plain": [
       "['miladdalim', 'tommot', 'tiffanyynaffit']"
      ]
     },
     "execution_count": 42,
     "metadata": {},
     "output_type": "execute_result"
    }
   ],
   "source": [
    "names_backwards = list()\n",
    "\n",
    "names_backwards.append(names[0] + names[0][::-1])\n",
    "names_backwards.append(names[1] + names[1][::-1])\n",
    "names_backwards.append(names[2] + names[2][::-1])\n",
    "names_backwards"
   ]
  },
  {
   "cell_type": "markdown",
   "id": "751cf09d-eaff-421c-a251-6b7243da743c",
   "metadata": {},
   "source": [
    "### Desiging Good Functions"
   ]
  },
  {
   "cell_type": "code",
   "execution_count": 45,
   "id": "f03f7227-d3b6-4769-b818-1489096f1aca",
   "metadata": {},
   "outputs": [
    {
     "data": {
      "text/plain": [
       "'miladdalim'"
      ]
     },
     "execution_count": 45,
     "metadata": {},
     "output_type": "execute_result"
    }
   ],
   "source": [
    "def make_palindrome(name):\n",
    "    return name + name[::-1]\n",
    "\n",
    "make_palindrome(\"milad\")"
   ]
  },
  {
   "cell_type": "code",
   "execution_count": 47,
   "id": "8c280946-9cc6-4de4-9f38-a0bd9b0d4f00",
   "metadata": {},
   "outputs": [
    {
     "data": {
      "text/plain": [
       "['miladdalim', 'tommot', 'tiffanyynaffit']"
      ]
     },
     "execution_count": 47,
     "metadata": {},
     "output_type": "execute_result"
    }
   ],
   "source": [
    "[make_palindrome(name) for name in names]"
   ]
  }
 ],
 "metadata": {
  "kernelspec": {
   "display_name": "Python 3 (ipykernel)",
   "language": "python",
   "name": "python3"
  },
  "language_info": {
   "codemirror_mode": {
    "name": "ipython",
    "version": 3
   },
   "file_extension": ".py",
   "mimetype": "text/x-python",
   "name": "python",
   "nbconvert_exporter": "python",
   "pygments_lexer": "ipython3",
   "version": "3.12.7"
  }
 },
 "nbformat": 4,
 "nbformat_minor": 5
}
