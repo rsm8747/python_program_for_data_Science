{
 "cells": [
  {
   "cell_type": "code",
   "execution_count": 1,
   "id": "93fe16d7-f0cf-4e4e-b9e4-6e49ba2a25f9",
   "metadata": {},
   "outputs": [],
   "source": [
    "# 8. DRY Principle, Designing Good Functions"
   ]
  },
  {
   "cell_type": "code",
   "execution_count": 3,
   "id": "7dadcd27-35f1-4b9d-a290-334892c80ba3",
   "metadata": {},
   "outputs": [],
   "source": [
    "names = [\"milad\", \"tom\", \"tiffany\"]"
   ]
  },
  {
   "cell_type": "code",
   "execution_count": 5,
   "id": "e31cd59c-9468-49a0-b248-14727d99905a",
   "metadata": {},
   "outputs": [
    {
     "data": {
      "text/plain": [
       "'mot'"
      ]
     },
     "execution_count": 5,
     "metadata": {},
     "output_type": "execute_result"
    }
   ],
   "source": [
    "name = \"tom\"\n",
    "name[::-1]  # creates a slice that starts at the end and moves backwards, syntax is [begin:end:step]"
   ]
  },
  {
   "cell_type": "code",
   "execution_count": 7,
   "id": "7febfa05-4d66-40c3-8220-bed595f3f5c6",
   "metadata": {},
   "outputs": [
    {
     "data": {
      "text/plain": [
       "['miladdalim', 'tommot', 'tiffanyynaffit']"
      ]
     },
     "execution_count": 7,
     "metadata": {},
     "output_type": "execute_result"
    }
   ],
   "source": [
    "names_backwards = list()\n",
    "\n",
    "names_backwards.append(names[0] + names[0][::-1])\n",
    "names_backwards.append(names[1] + names[1][::-1])\n",
    "names_backwards.append(names[2] + names[2][::-1])\n",
    "names_backwards"
   ]
  },
  {
   "cell_type": "code",
   "execution_count": 9,
   "id": "254832e8-e75b-4ff5-93e9-3c63f087809a",
   "metadata": {},
   "outputs": [
    {
     "data": {
      "text/plain": [
       "['miladdalim', 'tommot', 'tiffanyynaffit']"
      ]
     },
     "execution_count": 9,
     "metadata": {},
     "output_type": "execute_result"
    }
   ],
   "source": [
    "names_backwards = list()\n",
    "\n",
    "for name in names:\n",
    "    names_backwards.append(name + name[::-1])\n",
    "    \n",
    "names_backwards"
   ]
  },
  {
   "cell_type": "code",
   "execution_count": 11,
   "id": "32dc13e9-ad9c-4009-8266-9a5c0864ff38",
   "metadata": {},
   "outputs": [
    {
     "data": {
      "text/plain": [
       "['miladdalim', 'tommot', 'tiffanyynaffit']"
      ]
     },
     "execution_count": 11,
     "metadata": {},
     "output_type": "execute_result"
    }
   ],
   "source": [
    "def make_palindromes(names):\n",
    "    names_backwards = list()\n",
    "    \n",
    "    for name in names:\n",
    "        names_backwards.append(name + name[::-1])\n",
    "    \n",
    "    return names_backwards\n",
    "\n",
    "make_palindromes(names)"
   ]
  },
  {
   "cell_type": "code",
   "execution_count": 13,
   "id": "e4deba65-a3f5-46eb-bc53-8f0fc28946c6",
   "metadata": {},
   "outputs": [],
   "source": [
    "names1 = [\"milad\", \"tom\", \"tiffany\"]\n",
    "names2 = [\"apple\", \"orange\", \"banana\"]"
   ]
  },
  {
   "cell_type": "code",
   "execution_count": 15,
   "id": "4055e343-267a-4ea5-912a-73af4f4353be",
   "metadata": {},
   "outputs": [
    {
     "data": {
      "text/plain": [
       "['miladdalim', 'tommot', 'tiffanyynaffit']"
      ]
     },
     "execution_count": 15,
     "metadata": {},
     "output_type": "execute_result"
    }
   ],
   "source": [
    "make_palindromes(names1)"
   ]
  },
  {
   "cell_type": "code",
   "execution_count": 17,
   "id": "0653e9e6-7e21-4576-ba6d-32371cedc193",
   "metadata": {},
   "outputs": [
    {
     "data": {
      "text/plain": [
       "['appleelppa', 'orangeegnaro', 'bananaananab']"
      ]
     },
     "execution_count": 17,
     "metadata": {},
     "output_type": "execute_result"
    }
   ],
   "source": [
    "make_palindromes(names2)"
   ]
  },
  {
   "cell_type": "code",
   "execution_count": null,
   "id": "b00149dd-3dc2-4ecb-ba69-89425a09365a",
   "metadata": {},
   "outputs": [],
   "source": [
    "## Designing Good Functions"
   ]
  },
  {
   "cell_type": "code",
   "execution_count": 19,
   "id": "ccec751e-cf6e-476b-b018-6020228ee1c0",
   "metadata": {},
   "outputs": [
    {
     "data": {
      "text/plain": [
       "'miladdalim'"
      ]
     },
     "execution_count": 19,
     "metadata": {},
     "output_type": "execute_result"
    }
   ],
   "source": [
    "def make_palindrome(name):\n",
    "    return name + name[::-1]\n",
    "\n",
    "make_palindrome(\"milad\")"
   ]
  },
  {
   "cell_type": "code",
   "execution_count": 21,
   "id": "4e95ed66-bb40-4ae0-b6ba-0b9b106a9728",
   "metadata": {},
   "outputs": [
    {
     "data": {
      "text/plain": [
       "['miladdalim', 'tommot', 'tiffanyynaffit']"
      ]
     },
     "execution_count": 21,
     "metadata": {},
     "output_type": "execute_result"
    }
   ],
   "source": [
    "[make_palindrome(name) for name in names]"
   ]
  },
  {
   "cell_type": "code",
   "execution_count": 23,
   "id": "e149538b-5925-40d5-91c9-6819c495852c",
   "metadata": {},
   "outputs": [
    {
     "data": {
      "text/plain": [
       "['miladdalim', 'tommot', 'tiffanyynaffit']"
      ]
     },
     "execution_count": 23,
     "metadata": {},
     "output_type": "execute_result"
    }
   ],
   "source": [
    "list(map(make_palindrome, names))"
   ]
  },
  {
   "cell_type": "code",
   "execution_count": 25,
   "id": "d8794d0d-7b08-4a8d-ac87-4b9a18710a78",
   "metadata": {},
   "outputs": [],
   "source": [
    "# 9. Generators"
   ]
  },
  {
   "cell_type": "code",
   "execution_count": 27,
   "id": "9789792b-04e9-4558-8e55-c124244cae69",
   "metadata": {},
   "outputs": [
    {
     "data": {
      "text/plain": [
       "[0, 1, 2, 3, 4, 5, 6, 7, 8, 9]"
      ]
     },
     "execution_count": 27,
     "metadata": {},
     "output_type": "execute_result"
    }
   ],
   "source": [
    "[n for n in range(10)]"
   ]
  },
  {
   "cell_type": "code",
   "execution_count": 29,
   "id": "af6b3255-0365-46d0-9782-f0aef0718b17",
   "metadata": {},
   "outputs": [
    {
     "data": {
      "text/plain": [
       "<generator object <genexpr> at 0x00000255AB085840>"
      ]
     },
     "execution_count": 29,
     "metadata": {},
     "output_type": "execute_result"
    }
   ],
   "source": [
    "(n for n in range(10))"
   ]
  },
  {
   "cell_type": "code",
   "execution_count": 33,
   "id": "002d392c-1f0c-4114-aaf8-d349c8949696",
   "metadata": {},
   "outputs": [],
   "source": [
    "gen=( n for n in range(10))"
   ]
  },
  {
   "cell_type": "code",
   "execution_count": 35,
   "id": "503d7a9e-daea-45ac-b911-6a49845a583e",
   "metadata": {},
   "outputs": [
    {
     "data": {
      "text/plain": [
       "0"
      ]
     },
     "execution_count": 35,
     "metadata": {},
     "output_type": "execute_result"
    }
   ],
   "source": [
    "next(gen)"
   ]
  },
  {
   "cell_type": "code",
   "execution_count": 39,
   "id": "64a6f3be-a9c4-4e76-a285-2ff4f41fd6ed",
   "metadata": {},
   "outputs": [
    {
     "data": {
      "text/plain": [
       "1"
      ]
     },
     "execution_count": 39,
     "metadata": {},
     "output_type": "execute_result"
    }
   ],
   "source": [
    "next(gen)"
   ]
  },
  {
   "cell_type": "code",
   "execution_count": 41,
   "id": "e76465f5-f32c-45cc-b25a-6bf01962b753",
   "metadata": {},
   "outputs": [
    {
     "name": "stdout",
     "output_type": "stream",
     "text": [
      "0\n",
      "1\n",
      "2\n",
      "3\n",
      "4\n",
      "5\n",
      "6\n",
      "7\n",
      "8\n",
      "9\n"
     ]
    },
    {
     "ename": "StopIteration",
     "evalue": "",
     "output_type": "error",
     "traceback": [
      "\u001b[1;31m---------------------------------------------------------------------------\u001b[0m",
      "\u001b[1;31mStopIteration\u001b[0m                             Traceback (most recent call last)",
      "Cell \u001b[1;32mIn[41], line 3\u001b[0m\n\u001b[0;32m      1\u001b[0m gen \u001b[38;5;241m=\u001b[39m (n \u001b[38;5;28;01mfor\u001b[39;00m n \u001b[38;5;129;01min\u001b[39;00m \u001b[38;5;28mrange\u001b[39m(\u001b[38;5;241m10\u001b[39m))\n\u001b[0;32m      2\u001b[0m \u001b[38;5;28;01mfor\u001b[39;00m i \u001b[38;5;129;01min\u001b[39;00m \u001b[38;5;28mrange\u001b[39m(\u001b[38;5;241m11\u001b[39m):\n\u001b[1;32m----> 3\u001b[0m     \u001b[38;5;28mprint\u001b[39m(\u001b[38;5;28mnext\u001b[39m(gen))\n",
      "\u001b[1;31mStopIteration\u001b[0m: "
     ]
    }
   ],
   "source": [
    "gen = (n for n in range(10))\n",
    "for i in range(11):\n",
    "    print(next(gen))"
   ]
  },
  {
   "cell_type": "code",
   "execution_count": 43,
   "id": "04c4d22e-bc77-42ed-8a10-7c2ffffeb7a7",
   "metadata": {},
   "outputs": [
    {
     "data": {
      "text/plain": [
       "[0, 1, 2, 3, 4, 5, 6, 7, 8, 9]"
      ]
     },
     "execution_count": 43,
     "metadata": {},
     "output_type": "execute_result"
    }
   ],
   "source": [
    "gen = (n for n in range(10))\n",
    "list(gen)"
   ]
  },
  {
   "cell_type": "code",
   "execution_count": 45,
   "id": "45593bb7-e7fb-47eb-bc4e-15a04fecce76",
   "metadata": {},
   "outputs": [
    {
     "name": "stdout",
     "output_type": "stream",
     "text": [
      "0\n",
      "1\n",
      "2\n",
      "3\n",
      "4\n",
      "5\n",
      "6\n",
      "7\n",
      "8\n",
      "9\n"
     ]
    }
   ],
   "source": [
    "gen = (n for n in range(10))\n",
    "for i in gen:\n",
    "    print(i)"
   ]
  },
  {
   "cell_type": "code",
   "execution_count": 47,
   "id": "e62f828a-cdd4-46ce-9b54-49f6e03b0e31",
   "metadata": {},
   "outputs": [],
   "source": [
    "def gen():\n",
    "    for n in range(10):\n",
    "        yield (n, n ** 2)"
   ]
  },
  {
   "cell_type": "code",
   "execution_count": 49,
   "id": "0ffec6d6-30b1-43e6-872c-ceaed05bae80",
   "metadata": {},
   "outputs": [
    {
     "name": "stdout",
     "output_type": "stream",
     "text": [
      "(0, 0)\n",
      "(1, 1)\n",
      "(2, 4)\n"
     ]
    }
   ],
   "source": [
    "g = gen()\n",
    "print(next(g))\n",
    "print(next(g))\n",
    "print(next(g))"
   ]
  },
  {
   "cell_type": "code",
   "execution_count": 51,
   "id": "e528c8a1-9088-4da9-9836-998c11f49aaf",
   "metadata": {},
   "outputs": [
    {
     "ename": "ModuleNotFoundError",
     "evalue": "No module named 'memory_profiler'",
     "output_type": "error",
     "traceback": [
      "\u001b[1;31m---------------------------------------------------------------------------\u001b[0m",
      "\u001b[1;31mModuleNotFoundError\u001b[0m                       Traceback (most recent call last)",
      "Cell \u001b[1;32mIn[51], line 3\u001b[0m\n\u001b[0;32m      1\u001b[0m \u001b[38;5;28;01mimport\u001b[39;00m \u001b[38;5;21;01mrandom\u001b[39;00m  \u001b[38;5;66;03m# we'll learn about imports in a later chapter\u001b[39;00m\n\u001b[0;32m      2\u001b[0m \u001b[38;5;28;01mimport\u001b[39;00m \u001b[38;5;21;01mtime\u001b[39;00m\n\u001b[1;32m----> 3\u001b[0m \u001b[38;5;28;01mimport\u001b[39;00m \u001b[38;5;21;01mmemory_profiler\u001b[39;00m\n\u001b[0;32m      4\u001b[0m city \u001b[38;5;241m=\u001b[39m [\u001b[38;5;124m'\u001b[39m\u001b[38;5;124mVancouver\u001b[39m\u001b[38;5;124m'\u001b[39m, \u001b[38;5;124m'\u001b[39m\u001b[38;5;124mToronto\u001b[39m\u001b[38;5;124m'\u001b[39m, \u001b[38;5;124m'\u001b[39m\u001b[38;5;124mOttawa\u001b[39m\u001b[38;5;124m'\u001b[39m, \u001b[38;5;124m'\u001b[39m\u001b[38;5;124mMontreal\u001b[39m\u001b[38;5;124m'\u001b[39m]\n",
      "\u001b[1;31mModuleNotFoundError\u001b[0m: No module named 'memory_profiler'"
     ]
    }
   ],
   "source": [
    "import random  # we'll learn about imports in a later chapter\n",
    "import time\n",
    "import memory_profiler\n",
    "city = ['Vancouver', 'Toronto', 'Ottawa', 'Montreal']"
   ]
  },
  {
   "cell_type": "code",
   "execution_count": 57,
   "id": "010e5a8c-b69f-4aef-ac6f-bae62837b846",
   "metadata": {},
   "outputs": [
    {
     "ename": "ModuleNotFoundError",
     "evalue": "No module named 'memory_profiler'",
     "output_type": "error",
     "traceback": [
      "\u001b[1;31m---------------------------------------------------------------------------\u001b[0m",
      "\u001b[1;31mModuleNotFoundError\u001b[0m                       Traceback (most recent call last)",
      "Cell \u001b[1;32mIn[57], line 3\u001b[0m\n\u001b[0;32m      1\u001b[0m \u001b[38;5;28;01mimport\u001b[39;00m \u001b[38;5;21;01mrandom\u001b[39;00m  \u001b[38;5;66;03m# we'll learn about imports in a later chapter\u001b[39;00m\n\u001b[0;32m      2\u001b[0m \u001b[38;5;28;01mimport\u001b[39;00m \u001b[38;5;21;01mtime\u001b[39;00m\n\u001b[1;32m----> 3\u001b[0m \u001b[38;5;28;01mimport\u001b[39;00m \u001b[38;5;21;01mmemory_profiler\u001b[39;00m\n\u001b[0;32m      4\u001b[0m city \u001b[38;5;241m=\u001b[39m [\u001b[38;5;124m'\u001b[39m\u001b[38;5;124mVancouver\u001b[39m\u001b[38;5;124m'\u001b[39m, \u001b[38;5;124m'\u001b[39m\u001b[38;5;124mToronto\u001b[39m\u001b[38;5;124m'\u001b[39m, \u001b[38;5;124m'\u001b[39m\u001b[38;5;124mOttawa\u001b[39m\u001b[38;5;124m'\u001b[39m, \u001b[38;5;124m'\u001b[39m\u001b[38;5;124mMontreal\u001b[39m\u001b[38;5;124m'\u001b[39m]\n\u001b[0;32m      5\u001b[0m \u001b[38;5;28;01mdef\u001b[39;00m \u001b[38;5;21mhouse_list\u001b[39m(n):\n",
      "\u001b[1;31mModuleNotFoundError\u001b[0m: No module named 'memory_profiler'"
     ]
    }
   ],
   "source": [
    "import random  # we'll learn about imports in a later chapter\n",
    "import time\n",
    "import memory_profiler\n",
    "city = ['Vancouver', 'Toronto', 'Ottawa', 'Montreal']\n",
    "def house_list(n):\n",
    "    houses = []\n",
    "    for i in range(n):\n",
    "        house = {\n",
    "            'id': i,\n",
    "            'city': random.choice(city),\n",
    "            'bedrooms': random.randint(1, 5),\n",
    "            'bathrooms': random.randint(1, 3),\n",
    "            'price ($1000s)': random.randint(300, 1000)\n",
    "        }\n",
    "        houses.append(house)\n",
    "    return houses"
   ]
  },
  {
   "cell_type": "code",
   "execution_count": 55,
   "id": "a1c57f32-c1b7-46fb-a055-7d443a1b9a17",
   "metadata": {},
   "outputs": [
    {
     "ename": "NameError",
     "evalue": "name 'city' is not defined",
     "output_type": "error",
     "traceback": [
      "\u001b[1;31m---------------------------------------------------------------------------\u001b[0m",
      "\u001b[1;31mNameError\u001b[0m                                 Traceback (most recent call last)",
      "Cell \u001b[1;32mIn[55], line 1\u001b[0m\n\u001b[1;32m----> 1\u001b[0m house_list(\u001b[38;5;241m2\u001b[39m)\n",
      "Cell \u001b[1;32mIn[53], line 6\u001b[0m, in \u001b[0;36mhouse_list\u001b[1;34m(n)\u001b[0m\n\u001b[0;32m      2\u001b[0m houses \u001b[38;5;241m=\u001b[39m []\n\u001b[0;32m      3\u001b[0m \u001b[38;5;28;01mfor\u001b[39;00m i \u001b[38;5;129;01min\u001b[39;00m \u001b[38;5;28mrange\u001b[39m(n):\n\u001b[0;32m      4\u001b[0m     house \u001b[38;5;241m=\u001b[39m {\n\u001b[0;32m      5\u001b[0m         \u001b[38;5;124m'\u001b[39m\u001b[38;5;124mid\u001b[39m\u001b[38;5;124m'\u001b[39m: i,\n\u001b[1;32m----> 6\u001b[0m         \u001b[38;5;124m'\u001b[39m\u001b[38;5;124mcity\u001b[39m\u001b[38;5;124m'\u001b[39m: random\u001b[38;5;241m.\u001b[39mchoice(city),\n\u001b[0;32m      7\u001b[0m         \u001b[38;5;124m'\u001b[39m\u001b[38;5;124mbedrooms\u001b[39m\u001b[38;5;124m'\u001b[39m: random\u001b[38;5;241m.\u001b[39mrandint(\u001b[38;5;241m1\u001b[39m, \u001b[38;5;241m5\u001b[39m),\n\u001b[0;32m      8\u001b[0m         \u001b[38;5;124m'\u001b[39m\u001b[38;5;124mbathrooms\u001b[39m\u001b[38;5;124m'\u001b[39m: random\u001b[38;5;241m.\u001b[39mrandint(\u001b[38;5;241m1\u001b[39m, \u001b[38;5;241m3\u001b[39m),\n\u001b[0;32m      9\u001b[0m         \u001b[38;5;124m'\u001b[39m\u001b[38;5;124mprice ($1000s)\u001b[39m\u001b[38;5;124m'\u001b[39m: random\u001b[38;5;241m.\u001b[39mrandint(\u001b[38;5;241m300\u001b[39m, \u001b[38;5;241m1000\u001b[39m)\n\u001b[0;32m     10\u001b[0m     }\n\u001b[0;32m     11\u001b[0m     houses\u001b[38;5;241m.\u001b[39mappend(house)\n\u001b[0;32m     12\u001b[0m \u001b[38;5;28;01mreturn\u001b[39;00m houses\n",
      "\u001b[1;31mNameError\u001b[0m: name 'city' is not defined"
     ]
    }
   ],
   "source": [
    "house_list(2)"
   ]
  },
  {
   "cell_type": "code",
   "execution_count": 59,
   "id": "9a07c8a2-47c6-48e2-b02c-8b122ef44b08",
   "metadata": {},
   "outputs": [
    {
     "ename": "NameError",
     "evalue": "name 'memory_profiler' is not defined",
     "output_type": "error",
     "traceback": [
      "\u001b[1;31m---------------------------------------------------------------------------\u001b[0m",
      "\u001b[1;31mNameError\u001b[0m                                 Traceback (most recent call last)",
      "Cell \u001b[1;32mIn[59], line 2\u001b[0m\n\u001b[0;32m      1\u001b[0m tart \u001b[38;5;241m=\u001b[39m time\u001b[38;5;241m.\u001b[39mtime()\n\u001b[1;32m----> 2\u001b[0m mem \u001b[38;5;241m=\u001b[39m memory_profiler\u001b[38;5;241m.\u001b[39mmemory_usage()\n\u001b[0;32m      3\u001b[0m \u001b[38;5;28mprint\u001b[39m(\u001b[38;5;124mf\u001b[39m\u001b[38;5;124m\"\u001b[39m\u001b[38;5;124mMemory usage before: \u001b[39m\u001b[38;5;132;01m{\u001b[39;00mmem[\u001b[38;5;241m0\u001b[39m]\u001b[38;5;132;01m:\u001b[39;00m\u001b[38;5;124m.0f\u001b[39m\u001b[38;5;132;01m}\u001b[39;00m\u001b[38;5;124m mb\u001b[39m\u001b[38;5;124m\"\u001b[39m)\n\u001b[0;32m      4\u001b[0m people \u001b[38;5;241m=\u001b[39m house_list(\u001b[38;5;241m500000\u001b[39m)\n",
      "\u001b[1;31mNameError\u001b[0m: name 'memory_profiler' is not defined"
     ]
    }
   ],
   "source": [
    "tart = time.time()\n",
    "mem = memory_profiler.memory_usage()\n",
    "print(f\"Memory usage before: {mem[0]:.0f} mb\")\n",
    "people = house_list(500000)\n",
    "print(f\"Memory usage after: {memory_profiler.memory_usage()[0]:.0f} mb\")\n",
    "print(f\"Time taken: {time.time() - start:.2f}s\")"
   ]
  }
 ],
 "metadata": {
  "kernelspec": {
   "display_name": "Python 3 (ipykernel)",
   "language": "python",
   "name": "python3"
  },
  "language_info": {
   "codemirror_mode": {
    "name": "ipython",
    "version": 3
   },
   "file_extension": ".py",
   "mimetype": "text/x-python",
   "name": "python",
   "nbconvert_exporter": "python",
   "pygments_lexer": "ipython3",
   "version": "3.12.7"
  }
 },
 "nbformat": 4,
 "nbformat_minor": 5
}
