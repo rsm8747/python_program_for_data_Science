{
 "cells": [
  {
   "cell_type": "markdown",
   "id": "9b367e5b-1c91-4fef-a2bf-98740abb2417",
   "metadata": {},
   "source": [
    "# 5 Functions"
   ]
  },
  {
   "cell_type": "markdown",
   "id": "d9832ca3-5947-4fe3-b109-3cef6814c5f8",
   "metadata": {},
   "source": [
    "##### A function is a reusable piece of code that can accept input parameters, also known as -arguments-. For example, lets define a function called square which takes one input parameter n and returns the square n**2 "
   ]
  },
  {
   "cell_type": "code",
   "execution_count": 3,
   "id": "d3f1355d-2ba5-4507-aa28-40ff042c0871",
   "metadata": {},
   "outputs": [],
   "source": [
    "def square(n):\n",
    "    n_squared = n**2\n",
    "    return n_squared"
   ]
  },
  {
   "cell_type": "code",
   "execution_count": 7,
   "id": "06cf261e-5c60-46c8-8748-86dc34a1228d",
   "metadata": {},
   "outputs": [
    {
     "name": "stdout",
     "output_type": "stream",
     "text": [
      "4\n",
      "400\n",
      "1\n"
     ]
    }
   ],
   "source": [
    "print(square(2))\n",
    "print(square(20))\n",
    "print(square(1))"
   ]
  },
  {
   "cell_type": "markdown",
   "id": "2486b00d-1155-4a90-81af-cc8c0bb4f7e4",
   "metadata": {},
   "source": [
    "## Side Effects & Local Variables"
   ]
  },
  {
   "cell_type": "markdown",
   "id": "6a4ebf19-beb3-41e4-999b-db0db18e4ddc",
   "metadata": {},
   "source": [
    "### When you create a variable inside a function, it is local, which means that it only exists inside the function, for example"
   ]
  },
  {
   "cell_type": "code",
   "execution_count": 13,
   "id": "f1c6f1eb-6513-4c8b-a8b5-39cc1400c1cb",
   "metadata": {},
   "outputs": [],
   "source": [
    "def cat_string(str1, str2):\n",
    "    string = str1 + str2\n",
    "    return string"
   ]
  },
  {
   "cell_type": "code",
   "execution_count": 15,
   "id": "e3cf2f44-4e9a-4803-8a02-cbc7f91e87a3",
   "metadata": {},
   "outputs": [
    {
     "data": {
      "text/plain": [
       "'My name is Tom'"
      ]
     },
     "execution_count": 15,
     "metadata": {},
     "output_type": "execute_result"
    }
   ],
   "source": [
    "cat_string('My name is ','Tom')"
   ]
  },
  {
   "cell_type": "code",
   "execution_count": 17,
   "id": "6e4b1794-53fe-4605-a58a-ea6759996818",
   "metadata": {},
   "outputs": [
    {
     "ename": "NameError",
     "evalue": "name 'string' is not defined",
     "output_type": "error",
     "traceback": [
      "\u001b[1;31m---------------------------------------------------------------------------\u001b[0m",
      "\u001b[1;31mNameError\u001b[0m                                 Traceback (most recent call last)",
      "Cell \u001b[1;32mIn[17], line 1\u001b[0m\n\u001b[1;32m----> 1\u001b[0m string\n",
      "\u001b[1;31mNameError\u001b[0m: name 'string' is not defined"
     ]
    }
   ],
   "source": [
    "string"
   ]
  },
  {
   "cell_type": "code",
   "execution_count": 19,
   "id": "d1405063-8629-489c-8b5f-dc2d16d5c4d5",
   "metadata": {},
   "outputs": [],
   "source": [
    "def silly_sum(my_list):\n",
    "    my_list.append(0)\n",
    "    return sum(my_list)"
   ]
  },
  {
   "cell_type": "code",
   "execution_count": 21,
   "id": "7aa966ba-0faf-4d06-a181-015624911c52",
   "metadata": {},
   "outputs": [
    {
     "data": {
      "text/plain": [
       "10"
      ]
     },
     "execution_count": 21,
     "metadata": {},
     "output_type": "execute_result"
    }
   ],
   "source": [
    "l = [1,2,3,4]\n",
    "out = silly_sum(l)\n",
    "out"
   ]
  },
  {
   "cell_type": "code",
   "execution_count": 23,
   "id": "a7d47829-9a46-4cf7-a303-15ede1a27248",
   "metadata": {},
   "outputs": [
    {
     "data": {
      "text/plain": [
       "[1, 2, 3, 4, 0]"
      ]
     },
     "execution_count": 23,
     "metadata": {},
     "output_type": "execute_result"
    }
   ],
   "source": [
    "l"
   ]
  },
  {
   "cell_type": "markdown",
   "id": "847a0d25-c5f7-4935-9788-178123be9eec",
   "metadata": {},
   "source": [
    "## Null Return Type"
   ]
  }
 ],
 "metadata": {
  "kernelspec": {
   "display_name": "Python 3 (ipykernel)",
   "language": "python",
   "name": "python3"
  },
  "language_info": {
   "codemirror_mode": {
    "name": "ipython",
    "version": 3
   },
   "file_extension": ".py",
   "mimetype": "text/x-python",
   "name": "python",
   "nbconvert_exporter": "python",
   "pygments_lexer": "ipython3",
   "version": "3.12.7"
  }
 },
 "nbformat": 4,
 "nbformat_minor": 5
}
