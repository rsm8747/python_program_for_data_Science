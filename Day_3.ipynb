{
 "cells": [
  {
   "cell_type": "markdown",
   "id": "5849b464-b785-4914-af23-9ae9b209fb03",
   "metadata": {},
   "source": [
    "#### 1️⃣ Basic String Manipulation\n",
    "#### Write a Python program to check if a given string is a palindrome."
   ]
  },
  {
   "cell_type": "code",
   "execution_count": 8,
   "id": "b7b86c5b-5701-4aec-8f1b-a76b72c4c503",
   "metadata": {},
   "outputs": [
    {
     "name": "stdin",
     "output_type": "stream",
     "text": [
      "Enter a word:  kaka\n"
     ]
    },
    {
     "name": "stdout",
     "output_type": "stream",
     "text": [
      "'kaka' is not a palindrome.\n"
     ]
    },
    {
     "data": {
      "text/plain": [
       "False"
      ]
     },
     "execution_count": 8,
     "metadata": {},
     "output_type": "execute_result"
    }
   ],
   "source": [
    "def is_palindrome(word):\n",
    "    word = word.lower()\n",
    "    if word == word[::-1]:\n",
    "        print(f\"'{word}' is a palindrome!\")\n",
    "        return True\n",
    "    else:\n",
    "        print(f\"'{word}' is not a palindrome.\")\n",
    "        return False\n",
    "\n",
    "user_input = input(\"Enter a word: \")\n",
    "is_palindrome(user_input)"
   ]
  },
  {
   "cell_type": "markdown",
   "id": "eedc33e1-1524-41b7-a6ef-9edd466f1f33",
   "metadata": {},
   "source": [
    "#### 2 List Operations\n",
    "#### Write a program that removes duplicates from a list while maintaining the order."
   ]
  },
  {
   "cell_type": "code",
   "execution_count": 17,
   "id": "3579e245-9eac-4e35-985c-fe238485d862",
   "metadata": {},
   "outputs": [
    {
     "name": "stdout",
     "output_type": "stream",
     "text": [
      "[1, 2, 3, 4, 5, 6, 7]\n"
     ]
    }
   ],
   "source": [
    "def remove_duplicates(lst):\n",
    "    seen = set()\n",
    "    result = []\n",
    "    for item in lst:\n",
    "        if item not in seen:\n",
    "            seen.add(item)\n",
    "            result.append(item)\n",
    "    return result\n",
    "\n",
    "original_list = [1,2,2,3,4,4,5,6,7,2]\n",
    "unique_list = remove_duplicates(original_list)\n",
    "print(unique_list)"
   ]
  },
  {
   "cell_type": "markdown",
   "id": "480ab8c4-7fd2-4bce-8793-f2bf983e1962",
   "metadata": {},
   "source": [
    "#### 3️⃣ Dictionary Handling\n",
    "#### Create a dictionary where keys are numbers from 1 to 5, and values are their squares. Print the dictionary."
   ]
  },
  {
   "cell_type": "code",
   "execution_count": 20,
   "id": "90248be5-80b7-4d04-859c-e4dbb0a44eef",
   "metadata": {},
   "outputs": [
    {
     "name": "stdout",
     "output_type": "stream",
     "text": [
      "{1: 1, 2: 4, 3: 9, 4: 16, 5: 25}\n"
     ]
    }
   ],
   "source": [
    "suares_dict = {num: num**2 for num in range(1,6)}\n",
    "print(suares_dict)"
   ]
  },
  {
   "cell_type": "markdown",
   "id": "6d599cfd-e30e-4a5e-a8c5-7f3f837031b3",
   "metadata": {},
   "source": [
    "#### 4️⃣ Tuple Operations\n",
    "#### Write a program to find the maximum and minimum elements in a given tuple."
   ]
  },
  {
   "cell_type": "code",
   "execution_count": 23,
   "id": "73b89c70-b3bc-4018-b028-c58dbc683d3d",
   "metadata": {},
   "outputs": [
    {
     "name": "stdout",
     "output_type": "stream",
     "text": [
      "minimum element: 5\n",
      "maximum element: 78\n"
     ]
    }
   ],
   "source": [
    "def find_min_max(tpl):\n",
    "    return min(tpl), max(tpl)\n",
    "\n",
    "numbers = (10,25,5,78,45,12)\n",
    "minimum, maximum = find_min_max(numbers)\n",
    "\n",
    "print(f\"minimum element: {minimum}\")\n",
    "print(f\"maximum element: {maximum}\")"
   ]
  },
  {
   "cell_type": "code",
   "execution_count": null,
   "id": "242fe9dd-f712-433a-8fff-bc9209c72b46",
   "metadata": {},
   "outputs": [],
   "source": [
    "\n",
    "\n",
    "\n",
    "\n",
    "    \n",
    "\n",
    "\n",
    "\n"
   ]
  },
  {
   "cell_type": "code",
   "execution_count": 27,
   "id": "ee647977-012e-4fb8-b4d9-efab04795e10",
   "metadata": {},
   "outputs": [
    {
     "name": "stdout",
     "output_type": "stream",
     "text": [
      "File not found. Please check the filename and try again.\n"
     ]
    }
   ],
   "source": [
    "def count_words(filename):\n",
    "    try:\n",
    "        with open(filename, 'r', encoding='utf-8') as file:\n",
    "            text = file.read()\n",
    "            words = text.split()\n",
    "            return len(words)\n",
    "    except FileNotFoundError:\n",
    "        print(\"File not found. Please check the filename and try again.\")\n",
    "        return None\n",
    "\n",
    "# Example usage\n",
    "filename = \"sample.txt\"  # Replace with your file name\n",
    "word_count = count_words(filename)\n",
    "\n",
    "if word_count is not None:\n",
    "    print(f\"The number of words in '{filename}' is: {word_count}\")\n"
   ]
  },
  {
   "cell_type": "code",
   "execution_count": 29,
   "id": "94bb3e96-a9c2-48b5-9cee-b01e065a1682",
   "metadata": {},
   "outputs": [
    {
     "name": "stdout",
     "output_type": "stream",
     "text": [
      "Common elements: {4, 5}\n"
     ]
    }
   ],
   "source": [
    "''' 6️⃣ Set Operations\n",
    "Write a program that finds the common elements between two sets and prints them.\n",
    "'''\n",
    "\n",
    "def find_common_elements(set1, set2):\n",
    "    common_elements = set1.intersection(set2)\n",
    "    return common_elements\n",
    "\n",
    "# Example sets\n",
    "set1 = {1, 2, 3, 4, 5}\n",
    "set2 = {4, 5, 6, 7, 8}\n",
    "\n",
    "common = find_common_elements(set1, set2)\n",
    "print(\"Common elements:\", common)\n"
   ]
  },
  {
   "cell_type": "code",
   "execution_count": 33,
   "id": "a4e5899e-ab43-4239-b438-87290335a1f4",
   "metadata": {},
   "outputs": [
    {
     "name": "stdout",
     "output_type": "stream",
     "text": [
      "Square of 5: 25\n"
     ]
    }
   ],
   "source": [
    "''' 7️⃣ Lambda Function\n",
    "Write a Python program using a lambda function to calculate the square of a given number. '''\n",
    "\n",
    "square = lambda X: X**2\n",
    "\n",
    "num = 5\n",
    "print(f\"Square of {num}: {square(num)}\")"
   ]
  },
  {
   "cell_type": "code",
   "execution_count": 35,
   "id": "20a443fc-a8e8-426e-9c93-2a9abc84e822",
   "metadata": {},
   "outputs": [
    {
     "name": "stdout",
     "output_type": "stream",
     "text": [
      "[2, 4, 6, 8, 10, 12, 14, 16, 18, 20, 22, 24, 26, 28, 30, 32, 34, 36, 38, 40, 42, 44, 46, 48, 50]\n"
     ]
    }
   ],
   "source": [
    "''' 8️⃣ List Comprehension\n",
    "Generate a list of even numbers between 1 and 50 using list comprehension. '''\n",
    "\n",
    "\n",
    "even_numbers = [num for num in range(1,51) if num%2==0]\n",
    "\n",
    "print(even_numbers)"
   ]
  },
  {
   "cell_type": "code",
   "execution_count": 37,
   "id": "3e67ead5-3c48-4613-9c82-b69707bbb5d6",
   "metadata": {},
   "outputs": [
    {
     "name": "stdin",
     "output_type": "stream",
     "text": [
      "Enter the numerator:  12\n",
      "Enter the denominator:  2\n"
     ]
    },
    {
     "name": "stdout",
     "output_type": "stream",
     "text": [
      "Result: 6.0\n"
     ]
    }
   ],
   "source": [
    "''' 9️⃣ Exception Handling\n",
    "Write a Python program that takes two numbers\n",
    "as input and divides them. Handle the case where\n",
    "the denominator is zero using exception handling.'''\n",
    "\n",
    "def divide_numbers():\n",
    "    try:\n",
    "        num1 = float(input(\"Enter the numerator: \"))\n",
    "        num2 = float(input(\"Enter the denominator: \"))\n",
    "        result = num1/num2\n",
    "        print(f\"Result: {result}\")\n",
    "    except ZeroDivisionError:\n",
    "        print(\"error: Division by zero is not allowed.\")\n",
    "\n",
    "    except ValueError:\n",
    "        print(\"Error: please enter valid numbers.\")\n",
    "\n",
    "divide_numbers()\n"
   ]
  },
  {
   "cell_type": "code",
   "execution_count": 51,
   "id": "07bf3ee2-172b-4ade-b36e-b8a630096577",
   "metadata": {},
   "outputs": [
    {
     "name": "stdin",
     "output_type": "stream",
     "text": [
      "Enter a number for factorial 2\n"
     ]
    },
    {
     "name": "stdout",
     "output_type": "stream",
     "text": [
      "Factorial of 2:2\n"
     ]
    }
   ],
   "source": [
    "''' 🔟 Recursion\n",
    "Write a recursive function to calculate the factorial of a given number. '''\n",
    "\n",
    "def factorial(n):\n",
    "    if n ==0 or n==1:\n",
    "        return 1\n",
    "    else:\n",
    "        return n*factorial(n-1)\n",
    "\n",
    "num = int(input(\"Enter a number for factorial\"))\n",
    "print(f\"Factorial of {num}:{factorial(num)}\")"
   ]
  }
 ],
 "metadata": {
  "kernelspec": {
   "display_name": "Python 3 (ipykernel)",
   "language": "python",
   "name": "python3"
  },
  "language_info": {
   "codemirror_mode": {
    "name": "ipython",
    "version": 3
   },
   "file_extension": ".py",
   "mimetype": "text/x-python",
   "name": "python",
   "nbconvert_exporter": "python",
   "pygments_lexer": "ipython3",
   "version": "3.12.7"
  }
 },
 "nbformat": 4,
 "nbformat_minor": 5
}
