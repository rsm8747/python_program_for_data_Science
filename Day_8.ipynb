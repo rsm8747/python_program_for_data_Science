{
 "cells": [
  {
   "cell_type": "code",
   "execution_count": 5,
   "id": "d1b160b9-8ce4-438a-9cc3-9bc4b1023c2f",
   "metadata": {},
   "outputs": [
    {
     "name": "stdout",
     "output_type": "stream",
     "text": [
      "123\n",
      "370\n",
      "185\n",
      "556\n",
      "278\n",
      "139\n",
      "418\n",
      "209\n",
      "628\n",
      "314\n",
      "Ugh, too many iterations!\n"
     ]
    }
   ],
   "source": [
    "n = 123\n",
    "i =0\n",
    "while n !=1:\n",
    "    print(int(n))\n",
    "    if n % 2 ==0: # n is even\n",
    "        n = n /2\n",
    "    else: #n is odd\n",
    "        n = n*3 +1\n",
    "    i+=1\n",
    "    if i==10:\n",
    "        print(f\"Ugh, too many iterations!\")\n",
    "        break\n",
    "        "
   ]
  },
  {
   "cell_type": "code",
   "execution_count": 9,
   "id": "93876ec5-d753-475b-a82d-81076dda353b",
   "metadata": {},
   "outputs": [
    {
     "name": "stdout",
     "output_type": "stream",
     "text": [
      "10\n",
      "8\n",
      "6\n",
      "4\n",
      "2\n",
      "Blast off !\n"
     ]
    }
   ],
   "source": [
    "n = 10\n",
    "while n > 0:\n",
    "    if n % 2!=0:\n",
    "        n = n-1\n",
    "        continue\n",
    "        break\n",
    "    print(n)\n",
    "    n = n-1\n",
    "\n",
    "print(\"Blast off !\")"
   ]
  },
  {
   "cell_type": "markdown",
   "id": "e70c6d6d-79ef-4827-a116-68554747581b",
   "metadata": {},
   "source": [
    "## 3. Comprehensions\n",
    "\n",
    "#### Comprehensions allow us to build lists/tuples/sets/dictionaries in one convenient, compact line of code. I use these quite a bit! Below is a standard for loop you might use to iterate over an iterable and create a list:\n"
   ]
  },
  {
   "cell_type": "code",
   "execution_count": 13,
   "id": "c43d9a44-baa9-403b-a714-69db46408ce6",
   "metadata": {},
   "outputs": [
    {
     "name": "stdout",
     "output_type": "stream",
     "text": [
      "['T', 'i', 'm', 'e', 't', 'o', 'l', 'e', 'a', 'r', 'n', '!']\n"
     ]
    }
   ],
   "source": [
    "subliminal = ['Tom','ingests','many','eggs','to','outrun','large','eagles','after','running','near','!']\n",
    "first_letters=[]\n",
    "for word in subliminal:\n",
    "    first_letters.append(word[0])\n",
    "\n",
    "print(first_letters)"
   ]
  },
  {
   "cell_type": "markdown",
   "id": "57cea1cd-4a92-4808-b622-6c167358905c",
   "metadata": {},
   "source": [
    "### List comprehension allows us to do this in one compact line:"
   ]
  },
  {
   "cell_type": "code",
   "execution_count": 16,
   "id": "ae60cc7c-bda6-4cf1-8a5a-1b8d5db7b321",
   "metadata": {},
   "outputs": [
    {
     "data": {
      "text/plain": [
       "['T', 'i', 'm', 'e', 't', 'o', 'l', 'e', 'a', 'r', 'n', '!']"
      ]
     },
     "execution_count": 16,
     "metadata": {},
     "output_type": "execute_result"
    }
   ],
   "source": [
    "letters = [word[0] for word in subliminal]\n",
    "letters"
   ]
  },
  {
   "cell_type": "markdown",
   "id": "f6af2a39-4373-469c-8ffc-ba8bd33bde5f",
   "metadata": {},
   "source": [
    "#### e can make things more complicated by doing multiple iteration or conditional iteration:"
   ]
  },
  {
   "cell_type": "code",
   "execution_count": 21,
   "id": "3345e04c-9b7d-4307-bd0e-c408a276b1d1",
   "metadata": {},
   "outputs": [
    {
     "data": {
      "text/plain": [
       "[(0, 0),\n",
       " (0, 1),\n",
       " (0, 2),\n",
       " (0, 3),\n",
       " (1, 0),\n",
       " (1, 1),\n",
       " (1, 2),\n",
       " (1, 3),\n",
       " (2, 0),\n",
       " (2, 1),\n",
       " (2, 2),\n",
       " (2, 3)]"
      ]
     },
     "execution_count": 21,
     "metadata": {},
     "output_type": "execute_result"
    }
   ],
   "source": [
    "[(i,j) for i in range(3) for j in range(4)]"
   ]
  },
  {
   "cell_type": "code",
   "execution_count": 25,
   "id": "ea33e3f9-586d-4d7b-b27f-b8e38b4fa6f4",
   "metadata": {},
   "outputs": [
    {
     "data": {
      "text/plain": [
       "[0, 2, 4, 6, 8, 10]"
      ]
     },
     "execution_count": 25,
     "metadata": {},
     "output_type": "execute_result"
    }
   ],
   "source": [
    "[i for i in range(11) if i %2 ==0] #condition the iterator, select only even numbers"
   ]
  },
  {
   "cell_type": "code",
   "execution_count": 27,
   "id": "534600ee-7d53-4711-a9e4-489fb7758494",
   "metadata": {},
   "outputs": [
    {
     "data": {
      "text/plain": [
       "[0, -1, 2, -3, 4, -5, 6, -7, 8, -9, 10]"
      ]
     },
     "execution_count": 27,
     "metadata": {},
     "output_type": "execute_result"
    }
   ],
   "source": [
    "[-i if i % 2 else i for i in range(11)] # condition the value, -ve odd and +ve even numbers"
   ]
  },
  {
   "cell_type": "markdown",
   "id": "50d72a82-7894-44b5-9b25-81f0141c9611",
   "metadata": {},
   "source": [
    "### There is also set comprehension:"
   ]
  },
  {
   "cell_type": "code",
   "execution_count": 32,
   "id": "96675e49-d6a6-491e-8049-09374e1bbee0",
   "metadata": {},
   "outputs": [
    {
     "data": {
      "text/plain": [
       "{'e', 'm', 'o'}"
      ]
     },
     "execution_count": 32,
     "metadata": {},
     "output_type": "execute_result"
    }
   ],
   "source": [
    "words = ['hello', 'goodbye', 'the', 'antidisestablishmentarianism']\n",
    "y = {word[-1] for word in words} # set comprehension\n",
    "y # only has 3 elements because a set contains only unique items and there would have been two e's"
   ]
  },
  {
   "cell_type": "markdown",
   "id": "ba1a785a-9602-4ffb-9d56-3101adfccdd7",
   "metadata": {},
   "source": [
    "## Dictionary comprehension:"
   ]
  },
  {
   "cell_type": "code",
   "execution_count": 41,
   "id": "0f043fff-0652-4234-85d0-af6fba95658e",
   "metadata": {},
   "outputs": [
    {
     "data": {
      "text/plain": [
       "{'hello': 5, 'goodbye': 7, 'the': 3, 'antidisestablishmentarianism': 28}"
      ]
     },
     "execution_count": 41,
     "metadata": {},
     "output_type": "execute_result"
    }
   ],
   "source": [
    "word_lengths = {word:len(word) for word in words} # dictionary comprehension\n",
    "word_lengths"
   ]
  },
  {
   "cell_type": "markdown",
   "id": "3f9bad04-411b-4355-bb97-b1bd7bdba906",
   "metadata": {},
   "source": [
    "### Tuple comprehension doesn’t work as you might expect… We get a “generator” instead (more on that later)."
   ]
  },
  {
   "cell_type": "code",
   "execution_count": 44,
   "id": "97f1acad-6fd8-4c93-979d-78f5072cb4e7",
   "metadata": {},
   "outputs": [
    {
     "name": "stdout",
     "output_type": "stream",
     "text": [
      "<generator object <genexpr> at 0x000001E43C499E50>\n"
     ]
    }
   ],
   "source": [
    "y = (word[-1] for word in words) ## this is NOT a tuple comprehension - more on generators later\n",
    "print(y)"
   ]
  }
 ],
 "metadata": {
  "kernelspec": {
   "display_name": "Python 3 (ipykernel)",
   "language": "python",
   "name": "python3"
  },
  "language_info": {
   "codemirror_mode": {
    "name": "ipython",
    "version": 3
   },
   "file_extension": ".py",
   "mimetype": "text/x-python",
   "name": "python",
   "nbconvert_exporter": "python",
   "pygments_lexer": "ipython3",
   "version": "3.12.7"
  }
 },
 "nbformat": 4,
 "nbformat_minor": 5
}
