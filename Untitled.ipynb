{
 "cells": [
  {
   "cell_type": "markdown",
   "id": "f1b6a741-b81e-4258-b485-39c6b813466d",
   "metadata": {},
   "source": [
    "# Print \"Hello, Data Science!\""
   ]
  },
  {
   "cell_type": "code",
   "execution_count": 4,
   "id": "e16dc854-7fad-4728-afe7-cfed4e5570ec",
   "metadata": {},
   "outputs": [
    {
     "name": "stdout",
     "output_type": "stream",
     "text": [
      "Hello, Data Science\n"
     ]
    }
   ],
   "source": [
    "print (\"Hello, Data Science\")"
   ]
  },
  {
   "cell_type": "markdown",
   "id": "d00a632d-303f-4c33-ace5-239edfc040e0",
   "metadata": {},
   "source": [
    " ## 2️⃣ Swap Two Variables\n",
    "\n",
    "### Take two numbers as input and swap them without using a third variable."
   ]
  },
  {
   "cell_type": "code",
   "execution_count": 19,
   "id": "fae1becb-ce41-4fd7-a649-5ff7214994d5",
   "metadata": {},
   "outputs": [
    {
     "name": "stdout",
     "output_type": "stream",
     "text": [
      "x=  20\n",
      "y=  10\n"
     ]
    }
   ],
   "source": [
    "x = 10\n",
    "y = 20\n",
    "x= x+y; #10+20=30=>x\n",
    "y = x-y; #30-20=10=>y;\n",
    "x=x-y; # 30-10=20=>x\n",
    "print(\"x= \" ,x)\n",
    "print(\"y= \",y)"
   ]
  },
  {
   "cell_type": "markdown",
   "id": "857aaa57-af47-4688-ab21-9061676b930e",
   "metadata": {},
   "source": [
    "### 3️⃣ Check Even or Odd\n",
    "\n",
    "##### Write a program to check if a given number is even or odd.\n"
   ]
  },
  {
   "cell_type": "code",
   "execution_count": 24,
   "id": "0a3711ba-9768-4d21-b5f4-cac53b9bc70d",
   "metadata": {},
   "outputs": [
    {
     "name": "stdin",
     "output_type": "stream",
     "text": [
      "Enter a number:  9\n"
     ]
    },
    {
     "name": "stdout",
     "output_type": "stream",
     "text": [
      "9 is odd\n"
     ]
    }
   ],
   "source": [
    "num = int(input(\"Enter a number: \"))\n",
    "if num %2 == 0:\n",
    "    print(f\"{num} is Even\")\n",
    "else:\n",
    "    print(f\"{num} is odd\")"
   ]
  },
  {
   "cell_type": "code",
   "execution_count": null,
   "id": "e6a7e443-bdba-4f12-81f0-03a82e8e72aa",
   "metadata": {},
   "outputs": [],
   "source": []
  },
  {
   "cell_type": "code",
   "execution_count": null,
   "id": "37ef4040-841d-4229-8f0a-be21de63ea97",
   "metadata": {},
   "outputs": [],
   "source": [
    "### 4️⃣ Sum of First N Natural Numbers\n",
    "#### Write a program that takes an integer N as input and prints the sum of the first N natural numbers."
   ]
  },
  {
   "cell_type": "code",
   "execution_count": 34,
   "id": "25c891bb-26d9-475f-80f8-5acc05cc9571",
   "metadata": {},
   "outputs": [
    {
     "name": "stdin",
     "output_type": "stream",
     "text": [
      "Enter number:  3\n"
     ]
    },
    {
     "name": "stdout",
     "output_type": "stream",
     "text": [
      "The sum of first 3 natural numbers is : 6\n"
     ]
    }
   ],
   "source": [
    "N = int(input(\"Enter number: \"))\n",
    "sum_natural = (N * (N + 1)) // 2\n",
    "print(f\"The sum of first {N} natural numbers is : {sum_natural}\")"
   ]
  },
  {
   "cell_type": "code",
   "execution_count": null,
   "id": "9f1d551e-2a88-43c2-ac3b-6b3eda8da4ea",
   "metadata": {},
   "outputs": [],
   "source": [
    "### 5️⃣ Find the Largest Number\n",
    "#### Write a program to find the largest number among three user-input numbers."
   ]
  },
  {
   "cell_type": "code",
   "execution_count": 36,
   "id": "1b0d0a1a-0027-496a-bde2-cdb20c8585d2",
   "metadata": {},
   "outputs": [
    {
     "name": "stdin",
     "output_type": "stream",
     "text": [
      "Enter 1st number  10\n",
      "Enter 2st number  100\n",
      "Enter 3st number  9\n"
     ]
    },
    {
     "name": "stdout",
     "output_type": "stream",
     "text": [
      "The largest number is :100\n"
     ]
    }
   ],
   "source": [
    "num1= int(input(\"Enter 1st number \"))\n",
    "num2= int(input(\"Enter 2st number \"))\n",
    "num3= int(input(\"Enter 3st number \"))\n",
    "\n",
    "if num1>=num2 and num1>=num3:\n",
    "    largest=num1\n",
    "elif num2>=num1 and num2>=num3:\n",
    "    largest=num2\n",
    "else:\n",
    "    largest=num3\n",
    "print(f\"The largest number is :{largest}\")"
   ]
  },
  {
   "cell_type": "code",
   "execution_count": 38,
   "id": "05b1e375-138e-4f14-9cc4-952d1dac16ed",
   "metadata": {},
   "outputs": [
    {
     "name": "stdin",
     "output_type": "stream",
     "text": [
      "Enter 1st number  0.99\n",
      "Enter 2st number  0.81\n",
      "Enter 3st number  1\n"
     ]
    },
    {
     "name": "stdout",
     "output_type": "stream",
     "text": [
      "The largest number is :1.0\n"
     ]
    }
   ],
   "source": [
    "num1= float(input(\"Enter 1st number \"))\n",
    "num2= float(input(\"Enter 2st number \"))\n",
    "num3= float(input(\"Enter 3st number \"))\n",
    "largest=max(num1,num2,num3)\n",
    "print(f\"The largest number is :{largest}\")"
   ]
  },
  {
   "cell_type": "code",
   "execution_count": null,
   "id": "e806e47a-ea68-4b12-b0ff-739da97a33ea",
   "metadata": {},
   "outputs": [],
   "source": [
    "### 6️⃣ Factorial Calculation\n",
    "#### Write a program to calculate the factorial of a given number."
   ]
  },
  {
   "cell_type": "code",
   "execution_count": 46,
   "id": "4cca44c2-726f-49db-9021-1f5e1d0267f9",
   "metadata": {},
   "outputs": [
    {
     "name": "stdin",
     "output_type": "stream",
     "text": [
      "Enter a number:  3\n"
     ]
    },
    {
     "name": "stdout",
     "output_type": "stream",
     "text": [
      "The factorial of 3 is 6\n"
     ]
    }
   ],
   "source": [
    "# Take user input\n",
    "num = int(input(\"Enter a number: \"))\n",
    "\n",
    "# Check if the number is negative\n",
    "if num < 0:\n",
    "    print(\"Factorial is not defined for negative numbers.\")\n",
    "elif num == 0 or num == 1:\n",
    "    print(f\"The factorial of {num} is 1\")\n",
    "else:\n",
    "    factorial = 1\n",
    "    for i in range(1, num + 1):\n",
    "        factorial *= i\n",
    "    print(f\"The factorial of {num} is {factorial}\")\n"
   ]
  },
  {
   "cell_type": "code",
   "execution_count": 50,
   "id": "94c9e97c-2b2b-4a65-a455-fa73656dde18",
   "metadata": {},
   "outputs": [
    {
     "name": "stdin",
     "output_type": "stream",
     "text": [
      "Enter factorial number:  3\n"
     ]
    },
    {
     "name": "stdout",
     "output_type": "stream",
     "text": [
      "factorial of 3 is 6\n"
     ]
    }
   ],
   "source": [
    "def factorial(n):\n",
    "    if n == 0 or n ==1:\n",
    "        return 1\n",
    "    else:\n",
    "        return n*factorial(n-1)\n",
    "num = int(input(\"Enter factorial number: \"))\n",
    "if num <0:\n",
    "    print(\"factorial is not defined for negative numbers.\")\n",
    "else:\n",
    "    print(f\"factorial of {num} is {factorial(num)}\")"
   ]
  },
  {
   "cell_type": "raw",
   "id": "c8dd6890-55fa-4a78-92de-9c59a4256cce",
   "metadata": {},
   "source": [
    "### 7️⃣ Check Prime Number\n",
    "#### Write a program to check if a given number is prime or not."
   ]
  },
  {
   "cell_type": "code",
   "execution_count": 56,
   "id": "1326589d-c561-4366-8dfc-b6249f50373a",
   "metadata": {},
   "outputs": [
    {
     "name": "stdin",
     "output_type": "stream",
     "text": [
      "Enter a number to check if it's prime or not:  4\n"
     ]
    },
    {
     "name": "stdout",
     "output_type": "stream",
     "text": [
      "4 is NOT a Prime number\n"
     ]
    }
   ],
   "source": [
    "def is_prime(n):\n",
    "    if n < 2:\n",
    "        return False  # Correct case for False\n",
    "    \n",
    "    for i in range(2, int(n ** 0.5) + 1):\n",
    "        if n % i == 0:\n",
    "            return False  # If divisible, not prime\n",
    "    return True  # Should be outside the loop\n",
    "\n",
    "# Take user input\n",
    "num = int(input(\"Enter a number to check if it's prime or not: \"))\n",
    "\n",
    "# Check and print the result\n",
    "if is_prime(num):\n",
    "    print(f\"{num} is a Prime number\")\n",
    "else:\n",
    "    print(f\"{num} is NOT a Prime number\")\n"
   ]
  },
  {
   "cell_type": "code",
   "execution_count": null,
   "id": "ca14574f-ae6a-4c53-a459-dff8dbed01d8",
   "metadata": {},
   "outputs": [],
   "source": [
    "### 8️⃣ Reverse a String\n",
    "#### Write a program to reverse a string given by the user."
   ]
  },
  {
   "cell_type": "code",
   "execution_count": 62,
   "id": "41c98a1a-087c-4a14-9df6-3dfad85d205a",
   "metadata": {},
   "outputs": [
    {
     "name": "stdin",
     "output_type": "stream",
     "text": [
      "Enter a string:  Rahul\n"
     ]
    },
    {
     "name": "stdout",
     "output_type": "stream",
     "text": [
      "Reversed string: luhaR\n"
     ]
    }
   ],
   "source": [
    "text = input(\"Enter a string: \")\n",
    "\n",
    "# Reverse the string using slicing\n",
    "reversed_text = text[::-1]\n",
    "\n",
    "# Print the reversed string\n",
    "print(f\"Reversed string: {reversed_text}\")"
   ]
  },
  {
   "cell_type": "code",
   "execution_count": null,
   "id": "37bdedc3-fa06-42bf-beb2-490ea1aae467",
   "metadata": {},
   "outputs": [],
   "source": [
    "### 9️⃣ Fibonacci Series (First N Terms)\n",
    "#### Write a program to print the first N terms of the Fibonacci series."
   ]
  },
  {
   "cell_type": "code",
   "execution_count": 70,
   "id": "9d4293b7-f01d-45d4-87b0-d86d71879747",
   "metadata": {},
   "outputs": [
    {
     "name": "stdin",
     "output_type": "stream",
     "text": [
      "Enter a number for Fibonacci series:  1\n"
     ]
    },
    {
     "name": "stdout",
     "output_type": "stream",
     "text": [
      "Fibonacci series: 0\n"
     ]
    }
   ],
   "source": [
    "# Take user input\n",
    "N = int(input(\"Enter a number for Fibonacci series: \"))\n",
    "\n",
    "# Initialize first two terms\n",
    "a, b = 0, 1\n",
    "\n",
    "# Check for valid input\n",
    "if N <= 0:\n",
    "    print(\"Please enter a positive integer.\")\n",
    "elif N == 1:\n",
    "    print(f\"Fibonacci series: {a}\")\n",
    "else:\n",
    "    print(\"Fibonacci series:\", a, b, end=\" \")\n",
    "    \n",
    "    # Generate Fibonacci series\n",
    "    for i in range(2, N):  # Start loop from the 3rd term\n",
    "        next_term = a + b\n",
    "        print(next_term, end=\" \")\n",
    "        a, b = b, next_term  # Update values\n"
   ]
  },
  {
   "cell_type": "code",
   "execution_count": null,
   "id": "90047a2e-24c4-491e-aec5-ec43d41a81b3",
   "metadata": {},
   "outputs": [],
   "source": [
    "    ### 🔟 Count Vowels in a String\n",
    "    #### Write a program to count the number of vowels (a, e, i, o, u) in a given string."
   ]
  },
  {
   "cell_type": "code",
   "execution_count": 72,
   "id": "52dc31a0-7adb-4fb1-a1b6-91d51d69decc",
   "metadata": {},
   "outputs": [
    {
     "name": "stdin",
     "output_type": "stream",
     "text": [
      "Enter a string rahuyl\n"
     ]
    },
    {
     "name": "stdout",
     "output_type": "stream",
     "text": [
      "Number of vowel in the string : 2\n"
     ]
    }
   ],
   "source": [
    "text = input(\"Enter a string\")\n",
    "text = text.lower()\n",
    "vowel='aeiou'\n",
    "count = 0\n",
    "for char in text:\n",
    "    if char in vowel:\n",
    "        count+=1\n",
    "print(f\"Number of vowel in the string : {count}\")"
   ]
  },
  {
   "cell_type": "code",
   "execution_count": null,
   "id": "e75b90f8-1688-4580-82f2-544fcad6dbd9",
   "metadata": {},
   "outputs": [],
   "source": [
    "###\n",
    "####"
   ]
  },
  {
   "cell_type": "code",
   "execution_count": null,
   "id": "5f9ce765-4be7-4403-8a00-f3941fdb6594",
   "metadata": {},
   "outputs": [],
   "source": []
  },
  {
   "cell_type": "code",
   "execution_count": null,
   "id": "79066d6c-8717-4efb-8f16-dcc9685a11f4",
   "metadata": {},
   "outputs": [],
   "source": [
    "###\n",
    "####"
   ]
  },
  {
   "cell_type": "code",
   "execution_count": null,
   "id": "111a536f-bba3-4294-aa7f-b93db90ef33e",
   "metadata": {},
   "outputs": [],
   "source": []
  },
  {
   "cell_type": "code",
   "execution_count": null,
   "id": "e0f3c5d0-3bed-499e-ac11-601ec77f05c3",
   "metadata": {},
   "outputs": [],
   "source": [
    "###\n",
    "####"
   ]
  },
  {
   "cell_type": "code",
   "execution_count": null,
   "id": "074f3f56-df8d-409a-a72f-724517e7e796",
   "metadata": {},
   "outputs": [],
   "source": []
  }
 ],
 "metadata": {
  "kernelspec": {
   "display_name": "Python 3 (ipykernel)",
   "language": "python",
   "name": "python3"
  },
  "language_info": {
   "codemirror_mode": {
    "name": "ipython",
    "version": 3
   },
   "file_extension": ".py",
   "mimetype": "text/x-python",
   "name": "python",
   "nbconvert_exporter": "python",
   "pygments_lexer": "ipython3",
   "version": "3.12.7"
  }
 },
 "nbformat": 4,
 "nbformat_minor": 5
}
