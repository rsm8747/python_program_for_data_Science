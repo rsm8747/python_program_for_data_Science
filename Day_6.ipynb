{
 "cells": [
  {
   "cell_type": "code",
   "execution_count": 1,
   "id": "4ec6028e-ea13-46fe-8291-72225899fb9b",
   "metadata": {},
   "outputs": [
    {
     "name": "stdout",
     "output_type": "stream",
     "text": [
      "1\n",
      "2\n",
      "3\n",
      "4\n",
      "5\n",
      "6\n",
      "7\n",
      "8\n",
      "9\n",
      "10\n"
     ]
    }
   ],
   "source": [
    "\"\"\" \n",
    "1. Print numbers from 1 to 10 using a for loop\n",
    "\"\"\"\n",
    "\n",
    "for i in range(1,11):\n",
    "    print(i)\n",
    "    "
   ]
  },
  {
   "cell_type": "code",
   "execution_count": 2,
   "id": "f27fd578-a8df-4096-9fba-02f3f56302f1",
   "metadata": {},
   "outputs": [
    {
     "name": "stdout",
     "output_type": "stream",
     "text": [
      "Number is odd 1\n",
      "Number is even:  2\n",
      "Number is odd 3\n",
      "Number is even:  4\n",
      "Number is odd 5\n",
      "Number is even:  6\n",
      "Number is odd 7\n",
      "Number is even:  8\n",
      "Number is odd 9\n",
      "Number is even:  10\n",
      "Number is odd 11\n",
      "Number is even:  12\n",
      "Number is odd 13\n",
      "Number is even:  14\n",
      "Number is odd 15\n",
      "Number is even:  16\n",
      "Number is odd 17\n",
      "Number is even:  18\n",
      "Number is odd 19\n",
      "Number is even:  20\n"
     ]
    }
   ],
   "source": [
    "\"\"\"\n",
    "2. Print even numbers from 1 to 20\n",
    "\"\"\"\n",
    "for i in range(1,21):\n",
    "    if i % 2== 0:\n",
    "        print(\"Number is even: \",+i)\n",
    "    else:\n",
    "        print(\"Number is odd\",+i)"
   ]
  },
  {
   "cell_type": "code",
   "execution_count": 3,
   "id": "c2f1bc01-5488-4f88-8918-6a0328d49b8e",
   "metadata": {},
   "outputs": [
    {
     "name": "stdin",
     "output_type": "stream",
     "text": [
      "Enter a number:  3\n"
     ]
    },
    {
     "name": "stdout",
     "output_type": "stream",
     "text": [
      "Sum: 6\n"
     ]
    }
   ],
   "source": [
    "\"\"\"\n",
    "3. Calculate the sum of numbers from 1 to n (User Input)\n",
    "\"\"\"\n",
    "n = int(input(\"Enter a number: \"))\n",
    "total =0\n",
    "for i in range(1,n+1):\n",
    "    total+=i\n",
    "print(\"Sum:\",total)\n",
    "    \n",
    "    "
   ]
  },
  {
   "cell_type": "code",
   "execution_count": 4,
   "id": "3c16bd70-6ca3-49f1-b6f9-119cdc224837",
   "metadata": {},
   "outputs": [
    {
     "name": "stdin",
     "output_type": "stream",
     "text": [
      "Enter a number:  4\n"
     ]
    },
    {
     "name": "stdout",
     "output_type": "stream",
     "text": [
      "Sum: 10\n"
     ]
    }
   ],
   "source": [
    "n = int(input(\"Enter a number: \"))\n",
    "total = n*(n+1)//2\n",
    "print(\"Sum:\",total)"
   ]
  },
  {
   "cell_type": "code",
   "execution_count": 5,
   "id": "9d82ee92-a68b-4fca-882b-ce6fdfd6ee3c",
   "metadata": {},
   "outputs": [
    {
     "name": "stdin",
     "output_type": "stream",
     "text": [
      "Enter number to find factorial 5\n"
     ]
    },
    {
     "name": "stdout",
     "output_type": "stream",
     "text": [
      "factorial of 5 is 120\n"
     ]
    }
   ],
   "source": [
    "\"\"\"\n",
    "4. Factorial of a number using a while loop\n",
    "\"\"\"\n",
    "n = int(input(\"Enter number to find factorial\"))\n",
    "factorial =1\n",
    "i=1\n",
    "while i <= n:\n",
    "    factorial*=i\n",
    "    i+=1\n",
    "print(f\"factorial of {n} is {factorial}\")"
   ]
  },
  {
   "cell_type": "code",
   "execution_count": 25,
   "id": "d2e6f591-65e8-4288-abce-63da1c3007a2",
   "metadata": {},
   "outputs": [
    {
     "name": "stdin",
     "output_type": "stream",
     "text": [
      "Enter a number:  5\n"
     ]
    },
    {
     "name": "stdout",
     "output_type": "stream",
     "text": [
      "0 1 1 2 3 "
     ]
    }
   ],
   "source": [
    "\"\"\"\n",
    "5. Print the Fibonacci series up to n terms\n",
    "\"\"\"\n",
    "n = int(input(\"Enter a number: \"))\n",
    "a,b=0,1\n",
    "count =0\n",
    "while count <n:\n",
    "    print(a,end=\" \")\n",
    "    next_term=a+b\n",
    "    a=b\n",
    "    b=next_term\n",
    "    count+=1"
   ]
  },
  {
   "cell_type": "code",
   "execution_count": 31,
   "id": "01f2790f-3b33-4ce0-93fe-d10fa40e8813",
   "metadata": {},
   "outputs": [
    {
     "name": "stdin",
     "output_type": "stream",
     "text": [
      "Enter a number for fib series:  5\n"
     ]
    },
    {
     "name": "stdout",
     "output_type": "stream",
     "text": [
      "0 1 1 2 3 "
     ]
    }
   ],
   "source": [
    "n = int (input(\"Enter a number for fib series: \"))\n",
    "a,b =0,1\n",
    "for _ in range(n): # _ is for throwaway variable used when we don't need the loop variable.\n",
    "    print(a,end=\" \")\n",
    "    next_term =a+b\n",
    "    a,b =b,next_term"
   ]
  },
  {
   "cell_type": "code",
   "execution_count": 33,
   "id": "67c90f7b-5398-4de0-8e53-57bb67cec48c",
   "metadata": {},
   "outputs": [
    {
     "name": "stdin",
     "output_type": "stream",
     "text": [
      "Enter a number to reverse:  5\n"
     ]
    },
    {
     "name": "stdout",
     "output_type": "stream",
     "text": [
      "Reversed number: 5\n"
     ]
    }
   ],
   "source": [
    "\"\"\"\n",
    "6. Reverse a number using a while loop\n",
    "\"\"\"\n",
    "num = int(input(\"Enter a number to reverse: \"))  \n",
    "rev = 0  \n",
    "\n",
    "while num > 0:  \n",
    "    last_digit = num % 10  # Extract last digit\n",
    "    rev = rev * 10 + last_digit  # Append it to reversed number\n",
    "    num //= 10  # Remove last digit\n",
    "\n",
    "print(f\"Reversed number: {rev}\")\n"
   ]
  },
  {
   "cell_type": "code",
   "execution_count": 37,
   "id": "e23c5345-3161-4e16-bc7b-83dbd7dfbd3a",
   "metadata": {},
   "outputs": [
    {
     "name": "stdin",
     "output_type": "stream",
     "text": [
      "Enter a number to check prime or not 4\n"
     ]
    },
    {
     "name": "stdout",
     "output_type": "stream",
     "text": [
      "4 is not a prime number\n"
     ]
    }
   ],
   "source": [
    "\"\"\"\n",
    "7. Check if a number is prime\n",
    "\"\"\"\n",
    "num = int(input(\"Enter a number to check prime or not\"))\n",
    "if num<=1:\n",
    "    print(f\"{num} is not a prime number\")\n",
    "else:\n",
    "    is_prime = True\n",
    "    for i in range(2,int(num**0.5)+1):\n",
    "        if num % i == 0:\n",
    "            is_prime = False\n",
    "            break\n",
    "    if is_prime:\n",
    "        print(f\"{num} is a prime number\")\n",
    "    else:\n",
    "        print(f\"{num} is not a prime number\")"
   ]
  },
  {
   "cell_type": "code",
   "execution_count": 63,
   "id": "6ba2fa98-7b23-4e96-95bf-72f0c1359c87",
   "metadata": {},
   "outputs": [
    {
     "name": "stdin",
     "output_type": "stream",
     "text": [
      "Enter a number 2\n"
     ]
    },
    {
     "name": "stdout",
     "output_type": "stream",
     "text": [
      "1 2\n",
      "2 4\n",
      "3 6\n",
      "4 8\n",
      "5 10\n",
      "6 12\n",
      "7 14\n",
      "8 16\n",
      "9 18\n",
      "10 20\n"
     ]
    },
    {
     "name": "stdin",
     "output_type": "stream",
     "text": [
      "enter num1 3\n"
     ]
    },
    {
     "name": "stdout",
     "output_type": "stream",
     "text": [
      "1 3\n",
      "2 6\n",
      "3 9\n",
      "4 12\n",
      "5 15\n",
      "6 18\n",
      "7 21\n",
      "8 24\n",
      "9 27\n",
      "10 30\n"
     ]
    }
   ],
   "source": [
    "\"\"\"\n",
    "8. Print a multiplication table for a given number\n",
    "\"\"\"\n",
    "\n",
    "num = int(input(\"Enter a number\"))\n",
    "for i in range(1,11):\n",
    "    print(i,i*num)\n",
    "\n",
    "\n",
    "\n",
    "num1 = int(input(\"enter num1\"))\n",
    "numbers=[]\n",
    "multiples = []\n",
    "\n",
    "for i in range(1,11):\n",
    "    numbers.append(i)\n",
    "\n",
    "for i in range(1,11):\n",
    "    multiples.append(i*num1)\n",
    "\n",
    "for i in range(10):\n",
    "    print(numbers[i],multiples[i])\n",
    "    "
   ]
  },
  {
   "cell_type": "code",
   "execution_count": 1,
   "id": "e8ce74e2-5d87-44aa-8c72-c6e0c5732d1f",
   "metadata": {},
   "outputs": [
    {
     "name": "stdin",
     "output_type": "stream",
     "text": [
      "Enter a number:  123\n"
     ]
    },
    {
     "name": "stdout",
     "output_type": "stream",
     "text": [
      "sum of digits:6\n"
     ]
    }
   ],
   "source": [
    "\"\"\"\n",
    "9. Find the sum of digits of a number\n",
    "\"\"\"\n",
    "num = int(input(\"Enter a number: \"))\n",
    "sum_of_digits=0\n",
    "while num>0:\n",
    "    digit = num % 10\n",
    "    sum_of_digits +=digit\n",
    "    num //= 10\n",
    "print(f\"sum of digits:{sum_of_digits}\")\n"
   ]
  },
  {
   "cell_type": "code",
   "execution_count": 5,
   "id": "b1be4815-b8d1-4a29-9e38-5a6682c2768c",
   "metadata": {},
   "outputs": [
    {
     "name": "stdin",
     "output_type": "stream",
     "text": [
      "Enter a number of rows:  5\n"
     ]
    },
    {
     "name": "stdout",
     "output_type": "stream",
     "text": [
      "* \n",
      "* * \n",
      "* * * \n",
      "* * * * \n",
      "* * * * * \n"
     ]
    }
   ],
   "source": [
    "\"\"\"\n",
    "10. Print a right-angled triangle pattern\n",
    "\"\"\"\n",
    "n = int(input(\"Enter a number of rows: \"))\n",
    "for i in range(1,n+1):\n",
    "    for j in range(i):\n",
    "        print(\"*\",end=\" \")\n",
    "    print()"
   ]
  }
 ],
 "metadata": {
  "kernelspec": {
   "display_name": "Python 3 (ipykernel)",
   "language": "python",
   "name": "python3"
  },
  "language_info": {
   "codemirror_mode": {
    "name": "ipython",
    "version": 3
   },
   "file_extension": ".py",
   "mimetype": "text/x-python",
   "name": "python",
   "nbconvert_exporter": "python",
   "pygments_lexer": "ipython3",
   "version": "3.12.7"
  }
 },
 "nbformat": 4,
 "nbformat_minor": 5
}
