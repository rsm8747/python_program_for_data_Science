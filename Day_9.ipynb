{
 "cells": [
  {
   "cell_type": "markdown",
   "id": "b203619d-6ab0-47c7-bec7-accb0d485250",
   "metadata": {},
   "source": [
    "### Try - Except"
   ]
  },
  {
   "cell_type": "markdown",
   "id": "b8b3a394-2f61-44f5-8124-1dd09fb79c08",
   "metadata": {},
   "source": [
    "#### if something goes wrong ww dont want our code to crash -wee want it to fail gracefully, in pyhton, thsi can be accomplished using try/except "
   ]
  },
  {
   "cell_type": "code",
   "execution_count": 3,
   "id": "701068e1-6d17-4d2c-8858-b23fac5f6a7b",
   "metadata": {},
   "outputs": [
    {
     "ename": "NameError",
     "evalue": "name 'this_variables_does_not_exist' is not defined",
     "output_type": "error",
     "traceback": [
      "\u001b[1;31m---------------------------------------------------------------------------\u001b[0m",
      "\u001b[1;31mNameError\u001b[0m                                 Traceback (most recent call last)",
      "Cell \u001b[1;32mIn[3], line 1\u001b[0m\n\u001b[1;32m----> 1\u001b[0m this_variables_does_not_exist\n\u001b[0;32m      2\u001b[0m \u001b[38;5;28mprint\u001b[39m(\u001b[38;5;124m\"\u001b[39m\u001b[38;5;124mAnother line\u001b[39m\u001b[38;5;124m\"\u001b[39m)\n",
      "\u001b[1;31mNameError\u001b[0m: name 'this_variables_does_not_exist' is not defined"
     ]
    }
   ],
   "source": [
    "this_variables_does_not_exist\n",
    "print(\"Another line\")"
   ]
  },
  {
   "cell_type": "code",
   "execution_count": 5,
   "id": "638a6851-32a8-4a39-8e98-49de17f4c3e4",
   "metadata": {},
   "outputs": [
    {
     "name": "stdout",
     "output_type": "stream",
     "text": [
      "You did something bad\n",
      "Another line\n"
     ]
    }
   ],
   "source": [
    "try:\n",
    "    this_variables_does_not_exist\n",
    "except:\n",
    "    pass # do nothing\n",
    "    print(\"You did something bad\")\n",
    "\n",
    "print(\"Another line\")\n",
    "    "
   ]
  },
  {
   "cell_type": "markdown",
   "id": "566cab07-1e40-4f6e-9854-1c76fe6e46fa",
   "metadata": {},
   "source": [
    "### python try to execute the code in the try block if an error is encountered, we \"catch\" this in the except block(also called try/catch in other lang) THere are many diff error types, or exceptions -we saw NameError above"
   ]
  },
  {
   "cell_type": "code",
   "execution_count": 8,
   "id": "6eb93153-45aa-4296-915a-96ee7d62f70f",
   "metadata": {},
   "outputs": [
    {
     "ename": "IndexError",
     "evalue": "list index out of range",
     "output_type": "error",
     "traceback": [
      "\u001b[1;31m---------------------------------------------------------------------------\u001b[0m",
      "\u001b[1;31mIndexError\u001b[0m                                Traceback (most recent call last)",
      "Cell \u001b[1;32mIn[8], line 2\u001b[0m\n\u001b[0;32m      1\u001b[0m my_list \u001b[38;5;241m=\u001b[39m [\u001b[38;5;241m1\u001b[39m,\u001b[38;5;241m2\u001b[39m,\u001b[38;5;241m3\u001b[39m]\n\u001b[1;32m----> 2\u001b[0m my_list[\u001b[38;5;241m5\u001b[39m]\n",
      "\u001b[1;31mIndexError\u001b[0m: list index out of range"
     ]
    }
   ],
   "source": [
    "my_list = [1,2,3]\n",
    "my_list[5] #index error"
   ]
  },
  {
   "cell_type": "code",
   "execution_count": 10,
   "id": "e123f686-f878-418d-8f8b-fcac3ebfd759",
   "metadata": {},
   "outputs": [
    {
     "ename": "TypeError",
     "evalue": "'tuple' object does not support item assignment",
     "output_type": "error",
     "traceback": [
      "\u001b[1;31m---------------------------------------------------------------------------\u001b[0m",
      "\u001b[1;31mTypeError\u001b[0m                                 Traceback (most recent call last)",
      "Cell \u001b[1;32mIn[10], line 2\u001b[0m\n\u001b[0;32m      1\u001b[0m my_tuple \u001b[38;5;241m=\u001b[39m (\u001b[38;5;241m1\u001b[39m,\u001b[38;5;241m2\u001b[39m,\u001b[38;5;241m3\u001b[39m)\n\u001b[1;32m----> 2\u001b[0m my_tuple[\u001b[38;5;241m0\u001b[39m] \u001b[38;5;241m=\u001b[39m\u001b[38;5;241m0\u001b[39m\n",
      "\u001b[1;31mTypeError\u001b[0m: 'tuple' object does not support item assignment"
     ]
    }
   ],
   "source": [
    "my_tuple = (1,2,3)\n",
    "my_tuple[0] =0 #typeError"
   ]
  },
  {
   "cell_type": "markdown",
   "id": "ca782ea0-6332-4c70-85f9-268f56921a62",
   "metadata": {},
   "source": [
    "## how to find which error occur"
   ]
  },
  {
   "cell_type": "code",
   "execution_count": 13,
   "id": "3bbfcaba-677b-4442-9f3c-baed3fa15cf7",
   "metadata": {},
   "outputs": [
    {
     "name": "stdout",
     "output_type": "stream",
     "text": [
      "You did something bad!\n",
      "name 'this_variable_does_not_exist' is not defined\n",
      "<class 'NameError'>\n"
     ]
    }
   ],
   "source": [
    "try:\n",
    "    this_variable_does_not_exist\n",
    "except Exception as ex:\n",
    "    print(\"You did something bad!\")\n",
    "    print(ex)\n",
    "    print(type(ex))"
   ]
  },
  {
   "cell_type": "code",
   "execution_count": 15,
   "id": "9baa749c-99c5-4665-b7b0-3a646b6562a9",
   "metadata": {},
   "outputs": [
    {
     "name": "stdout",
     "output_type": "stream",
     "text": [
      "You made a name error!\n"
     ]
    }
   ],
   "source": [
    "try:\n",
    "    this_variable_does_not_exist #name error\n",
    "# (1,2,3)[0] = 1 #type error\n",
    "# 5/0 #ZeroDivisionError\n",
    "except TypeError:\n",
    "    print(\"you made a type errror!\")\n",
    "except NameError:\n",
    "    print(\"You made a name error!\")\n",
    "\n",
    "except:\n",
    "    print(\"ypu made some other sort of error\")"
   ]
  },
  {
   "cell_type": "code",
   "execution_count": 19,
   "id": "33e3ce3f-d8e5-4ae9-802f-3178c40e5136",
   "metadata": {},
   "outputs": [
    {
     "name": "stdout",
     "output_type": "stream",
     "text": [
      "The variables does not exist!\n",
      "I'm printing anyway\n"
     ]
    }
   ],
   "source": [
    "try:\n",
    "    this_variable_does_not_exist\n",
    "except:\n",
    "    print(\"The variables does not exist!\")\n",
    "finally: # we reach finally always if error happns or not haapping finally always execute\n",
    "    print(\"I'm printing anyway\")"
   ]
  },
  {
   "cell_type": "code",
   "execution_count": 21,
   "id": "ffd26218-1cd1-4d89-8b34-86c985c922db",
   "metadata": {},
   "outputs": [],
   "source": [
    "def add_one(x): # we'll get to functions in the next section(day_10)\n",
    "    return x+1"
   ]
  },
  {
   "cell_type": "code",
   "execution_count": 23,
   "id": "eae478a4-59d3-4ce4-bdc9-f235efcdec2f",
   "metadata": {},
   "outputs": [
    {
     "ename": "TypeError",
     "evalue": "can only concatenate str (not \"int\") to str",
     "output_type": "error",
     "traceback": [
      "\u001b[1;31m---------------------------------------------------------------------------\u001b[0m",
      "\u001b[1;31mTypeError\u001b[0m                                 Traceback (most recent call last)",
      "Cell \u001b[1;32mIn[23], line 1\u001b[0m\n\u001b[1;32m----> 1\u001b[0m add_one(\u001b[38;5;124m\"\u001b[39m\u001b[38;5;124mblah\u001b[39m\u001b[38;5;124m\"\u001b[39m)\n",
      "Cell \u001b[1;32mIn[21], line 2\u001b[0m, in \u001b[0;36madd_one\u001b[1;34m(x)\u001b[0m\n\u001b[0;32m      1\u001b[0m \u001b[38;5;28;01mdef\u001b[39;00m \u001b[38;5;21madd_one\u001b[39m(x): \u001b[38;5;66;03m# we'll get to functions in the next section(day_10)\u001b[39;00m\n\u001b[1;32m----> 2\u001b[0m     \u001b[38;5;28;01mreturn\u001b[39;00m x\u001b[38;5;241m+\u001b[39m\u001b[38;5;241m1\u001b[39m\n",
      "\u001b[1;31mTypeError\u001b[0m: can only concatenate str (not \"int\") to str"
     ]
    }
   ],
   "source": [
    "add_one(\"blah\")"
   ]
  },
  {
   "cell_type": "code",
   "execution_count": 31,
   "id": "f72bcb45-489c-457f-9287-473048c081d9",
   "metadata": {},
   "outputs": [],
   "source": [
    "def add_one(x):\n",
    "    if not isinstance(x,float) and not isinstance(x,int):\n",
    "        raise TypeError(f\"Sorry, x must be numeric, you entered a {type(x)}.\")\n",
    "    return x+1"
   ]
  },
  {
   "cell_type": "code",
   "execution_count": 33,
   "id": "b42a29f5-8c9b-493d-8773-ffd6af193a3f",
   "metadata": {},
   "outputs": [
    {
     "ename": "TypeError",
     "evalue": "Sorry, x must be numeric, you entered a <class 'str'>.",
     "output_type": "error",
     "traceback": [
      "\u001b[1;31m---------------------------------------------------------------------------\u001b[0m",
      "\u001b[1;31mTypeError\u001b[0m                                 Traceback (most recent call last)",
      "Cell \u001b[1;32mIn[33], line 1\u001b[0m\n\u001b[1;32m----> 1\u001b[0m add_one(\u001b[38;5;124m\"\u001b[39m\u001b[38;5;124mblah\u001b[39m\u001b[38;5;124m\"\u001b[39m)\n",
      "Cell \u001b[1;32mIn[31], line 3\u001b[0m, in \u001b[0;36madd_one\u001b[1;34m(x)\u001b[0m\n\u001b[0;32m      1\u001b[0m \u001b[38;5;28;01mdef\u001b[39;00m \u001b[38;5;21madd_one\u001b[39m(x):\n\u001b[0;32m      2\u001b[0m     \u001b[38;5;28;01mif\u001b[39;00m \u001b[38;5;129;01mnot\u001b[39;00m \u001b[38;5;28misinstance\u001b[39m(x,\u001b[38;5;28mfloat\u001b[39m) \u001b[38;5;129;01mand\u001b[39;00m \u001b[38;5;129;01mnot\u001b[39;00m \u001b[38;5;28misinstance\u001b[39m(x,\u001b[38;5;28mint\u001b[39m):\n\u001b[1;32m----> 3\u001b[0m         \u001b[38;5;28;01mraise\u001b[39;00m \u001b[38;5;167;01mTypeError\u001b[39;00m(\u001b[38;5;124mf\u001b[39m\u001b[38;5;124m\"\u001b[39m\u001b[38;5;124mSorry, x must be numeric, you entered a \u001b[39m\u001b[38;5;132;01m{\u001b[39;00m\u001b[38;5;28mtype\u001b[39m(x)\u001b[38;5;132;01m}\u001b[39;00m\u001b[38;5;124m.\u001b[39m\u001b[38;5;124m\"\u001b[39m)\n\u001b[0;32m      4\u001b[0m     \u001b[38;5;28;01mreturn\u001b[39;00m x\u001b[38;5;241m+\u001b[39m\u001b[38;5;241m1\u001b[39m\n",
      "\u001b[1;31mTypeError\u001b[0m: Sorry, x must be numeric, you entered a <class 'str'>."
     ]
    }
   ],
   "source": [
    "add_one(\"blah\")"
   ]
  },
  {
   "cell_type": "code",
   "execution_count": 35,
   "id": "047fb85b-8ae3-4274-a3a0-4977a076e268",
   "metadata": {},
   "outputs": [
    {
     "data": {
      "text/plain": [
       "'\\n- This is useful when your function is complicated and would fail in a complicated way,\\nwith a weird error message. You can make the cause of the error much clearer to the\\nuser of the function. If you do this, you should ideally describe these exceptions \\nin the function documentation, so a user knows what to expect if they call your \\nfunction.\\n'"
      ]
     },
     "execution_count": 35,
     "metadata": {},
     "output_type": "execute_result"
    }
   ],
   "source": [
    "\"\"\"\n",
    "- This is useful when your function is complicated and would fail in a complicated way,\n",
    "with a weird error message. You can make the cause of the error much clearer to the\n",
    "user of the function. If you do this, you should ideally describe these exceptions \n",
    "in the function documentation, so a user knows what to expect if they call your \n",
    "function.\n",
    "\"\"\""
   ]
  },
  {
   "cell_type": "markdown",
   "id": "4304dc78-ebe9-46e8-83bc-fb56f41f419b",
   "metadata": {},
   "source": [
    "#### Finally, we can even define our own exception types. We do this by inheriting from the Exception class - we’ll explore classes and inheritance more in the next chapter!"
   ]
  },
  {
   "cell_type": "code",
   "execution_count": 39,
   "id": "7fefb217-9d86-412e-9505-55a99fab4fae",
   "metadata": {},
   "outputs": [],
   "source": [
    "class CustomAdditionError(Exception):\n",
    "    pass"
   ]
  },
  {
   "cell_type": "code",
   "execution_count": 41,
   "id": "a5baa1d0-8c4c-4cfc-9e7e-af5ae59c6d53",
   "metadata": {},
   "outputs": [],
   "source": [
    "def add_one(x):\n",
    "    if not isinstance(x, float) and not isinstance(x,int):\n",
    "        raise CustomAdditionError(\"Sorry,x must be numeric\")\n",
    "    return x+1"
   ]
  },
  {
   "cell_type": "code",
   "execution_count": 43,
   "id": "f8172495-d52f-4813-b9ed-9795222ab90e",
   "metadata": {},
   "outputs": [
    {
     "ename": "CustomAdditionError",
     "evalue": "Sorry,x must be numeric",
     "output_type": "error",
     "traceback": [
      "\u001b[1;31m---------------------------------------------------------------------------\u001b[0m",
      "\u001b[1;31mCustomAdditionError\u001b[0m                       Traceback (most recent call last)",
      "Cell \u001b[1;32mIn[43], line 1\u001b[0m\n\u001b[1;32m----> 1\u001b[0m add_one(\u001b[38;5;124m\"\u001b[39m\u001b[38;5;124mblah\u001b[39m\u001b[38;5;124m\"\u001b[39m)\n",
      "Cell \u001b[1;32mIn[41], line 3\u001b[0m, in \u001b[0;36madd_one\u001b[1;34m(x)\u001b[0m\n\u001b[0;32m      1\u001b[0m \u001b[38;5;28;01mdef\u001b[39;00m \u001b[38;5;21madd_one\u001b[39m(x):\n\u001b[0;32m      2\u001b[0m     \u001b[38;5;28;01mif\u001b[39;00m \u001b[38;5;129;01mnot\u001b[39;00m \u001b[38;5;28misinstance\u001b[39m(x, \u001b[38;5;28mfloat\u001b[39m) \u001b[38;5;129;01mand\u001b[39;00m \u001b[38;5;129;01mnot\u001b[39;00m \u001b[38;5;28misinstance\u001b[39m(x,\u001b[38;5;28mint\u001b[39m):\n\u001b[1;32m----> 3\u001b[0m         \u001b[38;5;28;01mraise\u001b[39;00m CustomAdditionError(\u001b[38;5;124m\"\u001b[39m\u001b[38;5;124mSorry,x must be numeric\u001b[39m\u001b[38;5;124m\"\u001b[39m)\n\u001b[0;32m      4\u001b[0m     \u001b[38;5;28;01mreturn\u001b[39;00m x\u001b[38;5;241m+\u001b[39m\u001b[38;5;241m1\u001b[39m\n",
      "\u001b[1;31mCustomAdditionError\u001b[0m: Sorry,x must be numeric"
     ]
    }
   ],
   "source": [
    "add_one(\"blah\")"
   ]
  }
 ],
 "metadata": {
  "kernelspec": {
   "display_name": "Python 3 (ipykernel)",
   "language": "python",
   "name": "python3"
  },
  "language_info": {
   "codemirror_mode": {
    "name": "ipython",
    "version": 3
   },
   "file_extension": ".py",
   "mimetype": "text/x-python",
   "name": "python",
   "nbconvert_exporter": "python",
   "pygments_lexer": "ipython3",
   "version": "3.12.7"
  }
 },
 "nbformat": 4,
 "nbformat_minor": 5
}
