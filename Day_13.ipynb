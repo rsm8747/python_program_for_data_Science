{
 "cells": [
  {
   "cell_type": "code",
   "execution_count": 1,
   "id": "e5d0d345-28ff-465e-9085-906bfe7e6553",
   "metadata": {},
   "outputs": [],
   "source": [
    "# 6 Functions as Data Type\n",
    "## in python functions are actually a data type\n",
    "\n",
    "def do_nothing(x):\n",
    "    return x"
   ]
  },
  {
   "cell_type": "code",
   "execution_count": 3,
   "id": "05890175-0021-4640-82d2-47504c68ccf2",
   "metadata": {},
   "outputs": [
    {
     "data": {
      "text/plain": [
       "function"
      ]
     },
     "execution_count": 3,
     "metadata": {},
     "output_type": "execute_result"
    }
   ],
   "source": [
    "type(do_nothing)"
   ]
  },
  {
   "cell_type": "raw",
   "id": "0376b586-577d-4073-be60-0c63a075344b",
   "metadata": {},
   "source": [
    "print(do_nothing)"
   ]
  },
  {
   "cell_type": "code",
   "execution_count": 5,
   "id": "b003750e-705f-4e4f-bb22-5d9f7d070924",
   "metadata": {},
   "outputs": [],
   "source": [
    "# This means you can pass functions as arguments into other functions.\n",
    "def square(y):\n",
    "    return y**2\n",
    "\n",
    "def evaluate_function_on_x_plus_1(fun,x):\n",
    "    return fun(x+1)"
   ]
  },
  {
   "cell_type": "code",
   "execution_count": 7,
   "id": "c5558e43-8050-4940-8fdf-9d33467ef457",
   "metadata": {},
   "outputs": [
    {
     "data": {
      "text/plain": [
       "36"
      ]
     },
     "execution_count": 7,
     "metadata": {},
     "output_type": "execute_result"
    }
   ],
   "source": [
    "evaluate_function_on_x_plus_1(square, 5)"
   ]
  },
  {
   "cell_type": "code",
   "execution_count": 11,
   "id": "2e04dbd4-8855-45af-8758-d11796952559",
   "metadata": {},
   "outputs": [],
   "source": [
    "## 7. Anonymous Functions\n",
    "### THEra are two ways to define functions in python the way we've beenusing up until now:\n"
   ]
  },
  {
   "cell_type": "code",
   "execution_count": 15,
   "id": "4d73c232-a9f4-4ceb-af14-f80cf34f5801",
   "metadata": {},
   "outputs": [],
   "source": [
    "def add_one(x):\n",
    "    return x+1"
   ]
  },
  {
   "cell_type": "code",
   "execution_count": 17,
   "id": "a0937d0a-45c9-4a8e-80db-9162e3d8c53a",
   "metadata": {},
   "outputs": [
    {
     "data": {
      "text/plain": [
       "8.2"
      ]
     },
     "execution_count": 17,
     "metadata": {},
     "output_type": "execute_result"
    }
   ],
   "source": [
    "add_one(7.2)"
   ]
  },
  {
   "cell_type": "code",
   "execution_count": 19,
   "id": "6aa6a6c8-c262-45d9-8d7e-ebd25690b73c",
   "metadata": {},
   "outputs": [],
   "source": [
    "add_one = lambda x: x+1"
   ]
  },
  {
   "cell_type": "code",
   "execution_count": 21,
   "id": "3d7b5d00-3b0c-48dd-96e6-a4457507e9d3",
   "metadata": {},
   "outputs": [
    {
     "data": {
      "text/plain": [
       "function"
      ]
     },
     "execution_count": 21,
     "metadata": {},
     "output_type": "execute_result"
    }
   ],
   "source": [
    "type(add_one)"
   ]
  },
  {
   "cell_type": "code",
   "execution_count": 23,
   "id": "55815a74-815d-4f9c-9d93-2efbf492af98",
   "metadata": {},
   "outputs": [
    {
     "data": {
      "text/plain": [
       "36"
      ]
     },
     "execution_count": 23,
     "metadata": {},
     "output_type": "execute_result"
    }
   ],
   "source": [
    "evaluate_function_on_x_plus_1(lambda x: x ** 2, 5)"
   ]
  }
 ],
 "metadata": {
  "kernelspec": {
   "display_name": "Python 3 (ipykernel)",
   "language": "python",
   "name": "python3"
  },
  "language_info": {
   "codemirror_mode": {
    "name": "ipython",
    "version": 3
   },
   "file_extension": ".py",
   "mimetype": "text/x-python",
   "name": "python",
   "nbconvert_exporter": "python",
   "pygments_lexer": "ipython3",
   "version": "3.12.7"
  }
 },
 "nbformat": 4,
 "nbformat_minor": 5
}
