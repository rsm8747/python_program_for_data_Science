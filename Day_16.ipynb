{
 "cells": [
  {
   "cell_type": "markdown",
   "id": "1e27e3d4-ae80-4fd8-961b-698252b531ed",
   "metadata": {},
   "source": [
    "## Function "
   ]
  },
  {
   "cell_type": "markdown",
   "id": "1d739470-5234-468e-a35f-dc6d009a92fd",
   "metadata": {},
   "source": [
    "#### A function is a reusable piece of code that can accept input parameters, also known as \"arguments\". For example let's define a function called square which takes one input paramter n and returns the square n**2:"
   ]
  },
  {
   "cell_type": "code",
   "execution_count": 3,
   "id": "6931b6cb-ee9a-498e-a38b-99371fbf1565",
   "metadata": {},
   "outputs": [],
   "source": [
    "def square(n):\n",
    "    n_squared = n**2\n",
    "    return n_squared"
   ]
  },
  {
   "cell_type": "code",
   "execution_count": 5,
   "id": "b9227a11-ae23-4315-b4ec-b4ac472b6ebc",
   "metadata": {},
   "outputs": [
    {
     "data": {
      "text/plain": [
       "4"
      ]
     },
     "execution_count": 5,
     "metadata": {},
     "output_type": "execute_result"
    }
   ],
   "source": [
    "square(2)"
   ]
  },
  {
   "cell_type": "markdown",
   "id": "3694c338-686d-4a93-ad34-c525fc9f88e3",
   "metadata": {},
   "source": [
    "##### Functions begin with the def keyword, then the fuction name, arguments in parentheses, and then a colon(:), The code executed by the function is define by indentation. The output or \"return\" value of the function is specified using the return keyword"
   ]
  },
  {
   "cell_type": "markdown",
   "id": "5c17da29-3b7a-42be-8629-1ce5a51468bf",
   "metadata": {},
   "source": [
    "### Side Effect & Local Varibables \n",
    "\n",
    "#### When you create a variable inside a function, it is local, whoch means that it only  exists inside the function for example"
   ]
  },
  {
   "cell_type": "code",
   "execution_count": 15,
   "id": "1d0734e2-4717-4bce-abd9-2b47ec1a6b9d",
   "metadata": {},
   "outputs": [],
   "source": [
    "def cat_string(str1,str2):\n",
    "    string = str1 + str2\n",
    "    return string"
   ]
  },
  {
   "cell_type": "code",
   "execution_count": 17,
   "id": "cc6f111d-f67d-4b7b-adbd-e82f899f26cc",
   "metadata": {},
   "outputs": [
    {
     "data": {
      "text/plain": [
       "'My name is TOM'"
      ]
     },
     "execution_count": 17,
     "metadata": {},
     "output_type": "execute_result"
    }
   ],
   "source": [
    "cat_string(\"My name is \",\"TOM\")"
   ]
  },
  {
   "cell_type": "code",
   "execution_count": 19,
   "id": "c2b29214-f957-4439-b699-93e263ee44fb",
   "metadata": {},
   "outputs": [
    {
     "ename": "NameError",
     "evalue": "name 'string' is not defined",
     "output_type": "error",
     "traceback": [
      "\u001b[1;31m---------------------------------------------------------------------------\u001b[0m",
      "\u001b[1;31mNameError\u001b[0m                                 Traceback (most recent call last)",
      "Cell \u001b[1;32mIn[19], line 1\u001b[0m\n\u001b[1;32m----> 1\u001b[0m string\n",
      "\u001b[1;31mNameError\u001b[0m: name 'string' is not defined"
     ]
    }
   ],
   "source": [
    "string"
   ]
  },
  {
   "cell_type": "code",
   "execution_count": 21,
   "id": "96c39fb6-d3be-46b6-b7c1-657d89c606b0",
   "metadata": {},
   "outputs": [],
   "source": [
    "def silly_sum(my_list):\n",
    "    my_list.append(0)\n",
    "    return sum(my_list)"
   ]
  },
  {
   "cell_type": "code",
   "execution_count": 25,
   "id": "fc8db77a-7283-4810-ae11-f861cf4f9a2e",
   "metadata": {},
   "outputs": [
    {
     "data": {
      "text/plain": [
       "10"
      ]
     },
     "execution_count": 25,
     "metadata": {},
     "output_type": "execute_result"
    }
   ],
   "source": [
    "l = [1,2,3,4]\n",
    "out = silly_sum(l)\n",
    "out"
   ]
  },
  {
   "cell_type": "markdown",
   "id": "accc7b5a-6368-42a1-a4ec-e71e34f49f64",
   "metadata": {},
   "source": [
    "#### Null REturn Type\n",
    "##### if you do not specify a return value,the function returns None when it terminates:"
   ]
  },
  {
   "cell_type": "code",
   "execution_count": 28,
   "id": "9049f897-d0f3-428c-b58c-675b1c6eaad3",
   "metadata": {},
   "outputs": [
    {
     "name": "stdout",
     "output_type": "stream",
     "text": [
      "None\n"
     ]
    }
   ],
   "source": [
    "def f(x):\n",
    "    x + 1 #no return!\n",
    "    if x == 999:\n",
    "        return \n",
    "\n",
    "print(f(0))"
   ]
  },
  {
   "cell_type": "markdown",
   "id": "f96f75c5-660f-476c-a14e-181e19421744",
   "metadata": {},
   "source": [
    "### Optional & Required Arguments\n",
    "#### sometimes it is convenient to have default values for some arguments in a function. Because they have default values, these arguments are optional, and are hence called “optional arguments”. For example: "
   ]
  },
  {
   "cell_type": "code",
   "execution_count": 31,
   "id": "57d30335-809b-4f25-805e-58d01ff27573",
   "metadata": {},
   "outputs": [],
   "source": [
    "def repeat_string(s, n =2):\n",
    "    return s*n"
   ]
  },
  {
   "cell_type": "code",
   "execution_count": 33,
   "id": "e6931592-3695-412d-9266-40dba0090210",
   "metadata": {},
   "outputs": [
    {
     "data": {
      "text/plain": [
       "'mdsmds'"
      ]
     },
     "execution_count": 33,
     "metadata": {},
     "output_type": "execute_result"
    }
   ],
   "source": [
    "repeat_string(\"mds\",2)"
   ]
  },
  {
   "cell_type": "code",
   "execution_count": 35,
   "id": "0cae06b6-3ec5-403b-a0e1-8f229d82bef6",
   "metadata": {},
   "outputs": [
    {
     "data": {
      "text/plain": [
       "'mdsmdsmdsmdsmds'"
      ]
     },
     "execution_count": 35,
     "metadata": {},
     "output_type": "execute_result"
    }
   ],
   "source": [
    "repeat_string(\"mds\",5)"
   ]
  },
  {
   "cell_type": "code",
   "execution_count": 37,
   "id": "ed9c7fed-0bac-4e2b-b02b-19ed7eb99e83",
   "metadata": {},
   "outputs": [
    {
     "name": "stdout",
     "output_type": "stream",
     "text": [
      "1 2 3 4\n"
     ]
    }
   ],
   "source": [
    "def example(a,b,c=\"DEFAULT\", d=\"DEFAULT\"):\n",
    "    print(a,b,c,d)\n",
    "\n",
    "example(1,2,3,4)"
   ]
  },
  {
   "cell_type": "code",
   "execution_count": 39,
   "id": "af6618d3-cd7e-4618-bab6-c2e129839a46",
   "metadata": {},
   "outputs": [
    {
     "name": "stdout",
     "output_type": "stream",
     "text": [
      "1 2 DEFAULT DEFAULT\n"
     ]
    }
   ],
   "source": [
    "example(1,2)"
   ]
  },
  {
   "cell_type": "code",
   "execution_count": 41,
   "id": "ba89017d-529f-4297-a217-488af4dd7eba",
   "metadata": {},
   "outputs": [
    {
     "name": "stdout",
     "output_type": "stream",
     "text": [
      "1 2 3 4\n"
     ]
    }
   ],
   "source": [
    "example(1, 2, c=3, d=4)"
   ]
  },
  {
   "cell_type": "code",
   "execution_count": 43,
   "id": "1d559c0a-6390-4273-b665-8a840428eae7",
   "metadata": {},
   "outputs": [
    {
     "name": "stdout",
     "output_type": "stream",
     "text": [
      "1 2 3 DEFAULT\n"
     ]
    }
   ],
   "source": [
    "example(1, 2, c=3)"
   ]
  },
  {
   "cell_type": "code",
   "execution_count": 45,
   "id": "2faafa15-ac21-4e90-be83-0872c233992e",
   "metadata": {},
   "outputs": [
    {
     "name": "stdout",
     "output_type": "stream",
     "text": [
      "1 2 3 4\n"
     ]
    }
   ],
   "source": [
    "example(a=1, b=2, c=3, d=4)"
   ]
  },
  {
   "cell_type": "code",
   "execution_count": 47,
   "id": "74ed49b1-c130-44bf-bf76-4fcc579f741b",
   "metadata": {},
   "outputs": [
    {
     "name": "stdout",
     "output_type": "stream",
     "text": [
      "1 2 3 DEFAULT\n"
     ]
    }
   ],
   "source": [
    "example(1, 2, 3)"
   ]
  },
  {
   "cell_type": "markdown",
   "id": "2db79523-6ce3-4b81-95fc-55c66c6d4d10",
   "metadata": {},
   "source": [
    "## Multiple Return Values"
   ]
  },
  {
   "cell_type": "code",
   "execution_count": 50,
   "id": "0b03347a-d9b1-4657-a509-771bfa8372df",
   "metadata": {},
   "outputs": [],
   "source": [
    "def sum_and_product(x, y):\n",
    "    return (x + y, x * y)"
   ]
  },
  {
   "cell_type": "code",
   "execution_count": 52,
   "id": "3f340dc3-134e-4ce0-b818-a3dcd4f3061d",
   "metadata": {},
   "outputs": [
    {
     "data": {
      "text/plain": [
       "(11, 30)"
      ]
     },
     "execution_count": 52,
     "metadata": {},
     "output_type": "execute_result"
    }
   ],
   "source": [
    "sum_and_product(5, 6)"
   ]
  },
  {
   "cell_type": "code",
   "execution_count": 54,
   "id": "2dff3461-c03b-4ba8-8852-ac6a0b142728",
   "metadata": {},
   "outputs": [],
   "source": [
    "def sum_and_product(x, y):\n",
    "    return x + y, x * y"
   ]
  },
  {
   "cell_type": "code",
   "execution_count": 56,
   "id": "4f5837f5-d5f5-4e18-891d-c9ce195fb448",
   "metadata": {},
   "outputs": [
    {
     "data": {
      "text/plain": [
       "(11, 30)"
      ]
     },
     "execution_count": 56,
     "metadata": {},
     "output_type": "execute_result"
    }
   ],
   "source": [
    "sum_and_product(5, 6)"
   ]
  },
  {
   "cell_type": "markdown",
   "id": "50983c53-ae97-44ae-b2d6-e0a43d950809",
   "metadata": {},
   "source": [
    "### Functions with Arbitrary Number of Arguments"
   ]
  },
  {
   "cell_type": "code",
   "execution_count": 59,
   "id": "cc2a4846-f862-4692-9c5f-c2d6dbdb667c",
   "metadata": {},
   "outputs": [],
   "source": [
    "def add(*args):\n",
    "    print(args)\n",
    "    return sum(args)"
   ]
  },
  {
   "cell_type": "code",
   "execution_count": 61,
   "id": "bcd40689-3fef-442f-beb5-dda05418b100",
   "metadata": {},
   "outputs": [
    {
     "name": "stdout",
     "output_type": "stream",
     "text": [
      "(1, 2, 3, 4, 5, 6)\n"
     ]
    },
    {
     "data": {
      "text/plain": [
       "21"
      ]
     },
     "execution_count": 61,
     "metadata": {},
     "output_type": "execute_result"
    }
   ],
   "source": [
    "add(1, 2, 3, 4, 5, 6)"
   ]
  },
  {
   "cell_type": "code",
   "execution_count": 63,
   "id": "2d4932e2-d8ac-408e-b587-615cfadbdc8e",
   "metadata": {},
   "outputs": [],
   "source": [
    "def add(**kwargs):\n",
    "    print(kwargs)\n",
    "    return sum(kwargs.values())"
   ]
  },
  {
   "cell_type": "code",
   "execution_count": 65,
   "id": "73c63a5a-6909-45ff-8fb5-2dee4a67fb63",
   "metadata": {},
   "outputs": [
    {
     "name": "stdout",
     "output_type": "stream",
     "text": [
      "{'a': 3, 'b': 4, 'c': 5}\n"
     ]
    },
    {
     "data": {
      "text/plain": [
       "12"
      ]
     },
     "execution_count": 65,
     "metadata": {},
     "output_type": "execute_result"
    }
   ],
   "source": [
    "add(a=3, b=4, c=5)"
   ]
  }
 ],
 "metadata": {
  "kernelspec": {
   "display_name": "Python 3 (ipykernel)",
   "language": "python",
   "name": "python3"
  },
  "language_info": {
   "codemirror_mode": {
    "name": "ipython",
    "version": 3
   },
   "file_extension": ".py",
   "mimetype": "text/x-python",
   "name": "python",
   "nbconvert_exporter": "python",
   "pygments_lexer": "ipython3",
   "version": "3.12.7"
  }
 },
 "nbformat": 4,
 "nbformat_minor": 5
}
