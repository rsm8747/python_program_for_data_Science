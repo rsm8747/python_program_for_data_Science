{
 "cells": [
  {
   "cell_type": "code",
   "execution_count": 3,
   "id": "108ef214-a64d-4f56-a78a-25bc65a84c3b",
   "metadata": {},
   "outputs": [
    {
     "name": "stdout",
     "output_type": "stream",
     "text": [
      "* * * * * \n",
      "*       * \n",
      "*       * \n",
      "*       * \n",
      "* * * * * \n"
     ]
    }
   ],
   "source": [
    "\"\"\" 1. Hollow Square Pattern  \"\"\"\n",
    "\"\"\" Logic: Print stars on the border, spaces inside \"\"\"\n",
    "\n",
    "n = 5 \n",
    "for i in range(n):\n",
    "    for j in range(n):\n",
    "        if i == 0 or i == n-1 or j == 0  or j == n-1:\n",
    "            print(\"*\", end=\" \")\n",
    "        else:\n",
    "            print(\" \",end=\" \")\n",
    "    print()"
   ]
  },
  {
   "cell_type": "code",
   "execution_count": 11,
   "id": "8386c343-b18f-434b-8c64-ac5cd76258de",
   "metadata": {},
   "outputs": [
    {
     "name": "stdout",
     "output_type": "stream",
     "text": [
      "            1 \n",
      "          1 1 \n",
      "        1 2 1 \n",
      "      1 3 3 1 \n",
      "    1 4 6 4 1 \n"
     ]
    }
   ],
   "source": [
    "\"\"\" 2. Pascal’s Triangle  \"\"\"\n",
    "\"\"\" Logic: Use combinations formula (nCr = n! / (r! * (n-r)!)). \"\"\"\n",
    "\n",
    "from math import factorial \n",
    "n = 5\n",
    "for i in range(n):\n",
    "    for j in range(n-i+1):\n",
    "        print(\" \",end=\" \")\n",
    "    for j in range(i+1):\n",
    "        print(factorial(i)//(factorial(j)*factorial(i-j)),end = \" \")\n",
    "        \n",
    "    print()"
   ]
  },
  {
   "cell_type": "code",
   "execution_count": 15,
   "id": "141e2cd0-6949-4bab-81b2-b537304ab5ef",
   "metadata": {},
   "outputs": [
    {
     "name": "stdout",
     "output_type": "stream",
     "text": [
      "1 \n",
      "2 3 \n",
      "4 5 6 \n",
      "7 8 9 10 \n",
      "11 12 13 14 15 \n"
     ]
    }
   ],
   "source": [
    "\"\"\" 3. Floyd’s Triangle  \"\"\"\n",
    "\"\"\"  Logic: Print numbers in a triangular shape \"\"\"\n",
    "num = 1\n",
    "n = 5\n",
    "for i in range(1,n+1):\n",
    "    for j in range(i):\n",
    "        print(num, end=\" \")\n",
    "        num+=1\n",
    "    print()"
   ]
  },
  {
   "cell_type": "code",
   "execution_count": 21,
   "id": "0843074c-153d-48ad-9c2d-8a03f63413ea",
   "metadata": {},
   "outputs": [
    {
     "name": "stdout",
     "output_type": "stream",
     "text": [
      "*      *\n",
      "**    **\n",
      "***  ***\n",
      "********\n",
      "********\n",
      "***  ***\n",
      "**    **\n",
      "*      *\n"
     ]
    }
   ],
   "source": [
    "\"\"\" 4. Butterfly Pattern\n",
    "  \"\"\"\n",
    "\"\"\" Logic: Create two mirrored triangles. \"\"\"\n",
    "\n",
    "n = 4\n",
    "for i in range(1, n+1):\n",
    "    print(\"*\" * i+\" \" * (2*(n-i)) + \"*\" * i)\n",
    "for i in range(4,0,-1):\n",
    "    print(\"*\" * i+\" \" * (2*(n-i)) + \"*\" * i)"
   ]
  },
  {
   "cell_type": "code",
   "execution_count": 29,
   "id": "16ec0fe7-9f6d-40b6-96f9-ea4ce208a71a",
   "metadata": {},
   "outputs": [
    {
     "name": "stdout",
     "output_type": "stream",
     "text": [
      "    *\n",
      "   * *\n",
      "  *   *\n",
      " *     *\n",
      "*       *\n",
      " *     *\n",
      "  *   *\n",
      "   * *\n",
      "    *\n"
     ]
    }
   ],
   "source": [
    "\"\"\" 5. Hollow Diamond Pattern  \"\"\"\n",
    "\"\"\"🔹 Logic: Print stars at the boundary of a diamond shape.\"\"\"\n",
    "n = 5\n",
    "for i in range(1,n+1):\n",
    "    print(\" \" *(n-i)+\"*\" + \" \" * (2*i-3) + (\"*\" if i > 1 else \"\"))\n",
    "for i in range(n-1,0,-1):\n",
    "    print(\" \" *(n-i) + \"*\"+ \" \" * (2*i-3) + (\"*\" if i >1 else \"\"))"
   ]
  },
  {
   "cell_type": "code",
   "execution_count": 31,
   "id": "16e67ccf-4742-4f32-8103-e4831f0022a0",
   "metadata": {},
   "outputs": [
    {
     "name": "stdout",
     "output_type": "stream",
     "text": [
      "1 2 3 4 5\n",
      "16 17 18 19 6\n",
      "15 24 25 20 7\n",
      "14 23 22 21 8\n",
      "13 12 11 10 9\n"
     ]
    }
   ],
   "source": [
    "\"\"\" 6. Spiral Number Pattern\n",
    "🔹 Logic: Fill a 2D matrix in a spiral order. \"\"\"\n",
    "\n",
    "n = 5\n",
    "matrix = [[0] * n for _ in range(n)]\n",
    "num, top, left, bottom, right = 1, 0, 0, n-1, n-1\n",
    "\n",
    "while num <= n*n:\n",
    "    for i in range(left, right+1):  # Left to Right\n",
    "        matrix[top][i] = num\n",
    "        num += 1\n",
    "    top += 1\n",
    "    for i in range(top, bottom+1):  # Top to Bottom\n",
    "        matrix[i][right] = num\n",
    "        num += 1\n",
    "    right -= 1\n",
    "    for i in range(right, left-1, -1):  # Right to Left\n",
    "        matrix[bottom][i] = num\n",
    "        num += 1\n",
    "    bottom -= 1\n",
    "    for i in range(bottom, top-1, -1):  # Bottom to Top\n",
    "        matrix[i][left] = num\n",
    "        num += 1\n",
    "    left += 1\n",
    "\n",
    "for row in matrix:\n",
    "    print(\" \".join(map(str, row)))\n",
    "\n"
   ]
  },
  {
   "cell_type": "code",
   "execution_count": 33,
   "id": "493caf17-3935-4007-b2ba-3dd1a1ef8dd5",
   "metadata": {},
   "outputs": [
    {
     "name": "stdout",
     "output_type": "stream",
     "text": [
      "*       *       *   \n",
      "      *       *     \n",
      "    *       *       \n"
     ]
    }
   ],
   "source": [
    "\"\"\" 7. Zigzag Pattern\n",
    "🔹 Logic: Print stars in a zigzag shape. \"\"\"\n",
    "n = 10\n",
    "for i in range(3):\n",
    "    for j in range(n):\n",
    "        if (i + j) % 4 == 0 or (i == 1 and j % 4 == 3):\n",
    "            print(\"*\", end=\" \")\n",
    "        else:\n",
    "            print(\" \", end=\" \")\n",
    "    print()\n"
   ]
  },
  {
   "cell_type": "code",
   "execution_count": 35,
   "id": "ae6fbac1-0d79-4de2-bfb5-64e02ee5bd3f",
   "metadata": {},
   "outputs": [
    {
     "name": "stdout",
     "output_type": "stream",
     "text": [
      "*           * \n",
      "  *       *   \n",
      "    *   *     \n",
      "      *       \n",
      "    *   *     \n",
      "  *       *   \n",
      "*           * \n"
     ]
    }
   ],
   "source": [
    "\"\"\" 8. X Pattern\n",
    "🔹 Logic: Print * at positions where row == column or row + column == n-1. \"\"\"\n",
    "\n",
    "n = 7\n",
    "for i in range(n):\n",
    "    for j in range(n):\n",
    "        if i == j or i + j == n-1:\n",
    "            print(\"*\", end=\" \")\n",
    "        else:\n",
    "            print(\" \", end=\" \")\n",
    "    print()\n"
   ]
  },
  {
   "cell_type": "code",
   "execution_count": 37,
   "id": "ea1dbe03-2006-4894-b198-99978bc592ae",
   "metadata": {},
   "outputs": [
    {
     "name": "stdout",
     "output_type": "stream",
     "text": [
      "1 \n",
      "0 1 \n",
      "1 0 1 \n",
      "0 1 0 1 \n",
      "1 0 1 0 1 \n"
     ]
    }
   ],
   "source": [
    "\"\"\" 9. Binary Number Triangle\n",
    "🔹 Logic: Print 0 and 1 alternately. \"\"\"\n",
    "\n",
    "n = 5\n",
    "for i in range(1, n+1):\n",
    "    for j in range(i):\n",
    "        print((i+j) % 2, end=\" \")\n",
    "    print()\n"
   ]
  },
  {
   "cell_type": "code",
   "execution_count": null,
   "id": "4b14d255-f5fb-473d-afdb-2af17d6e5dc7",
   "metadata": {},
   "outputs": [],
   "source": [
    "\"\"\" 10. Hourglass Pattern\n",
    "🔹 Logic: Print an inverted pyramid followed by a normal pyramid \"\"\"\n"
   ]
  }
 ],
 "metadata": {
  "kernelspec": {
   "display_name": "Python 3 (ipykernel)",
   "language": "python",
   "name": "python3"
  },
  "language_info": {
   "codemirror_mode": {
    "name": "ipython",
    "version": 3
   },
   "file_extension": ".py",
   "mimetype": "text/x-python",
   "name": "python",
   "nbconvert_exporter": "python",
   "pygments_lexer": "ipython3",
   "version": "3.12.7"
  }
 },
 "nbformat": 4,
 "nbformat_minor": 5
}
