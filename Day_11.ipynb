{
 "cells": [
  {
   "cell_type": "markdown",
   "id": "fdc3ea11-b874-4bfd-b551-4c1c4aada8c9",
   "metadata": {},
   "source": [
    "### NULL RETURN TYPE"
   ]
  },
  {
   "cell_type": "code",
   "execution_count": 4,
   "id": "6eeb4c80-0f3c-4e8e-b47f-0333c1644a3e",
   "metadata": {},
   "outputs": [
    {
     "name": "stdout",
     "output_type": "stream",
     "text": [
      "None\n"
     ]
    }
   ],
   "source": [
    "# If you do not specify a return value, the function returns None when it terminates:\n",
    "def f(x):\n",
    "    x+1 # no return\n",
    "    if x == 999:\n",
    "        return\n",
    "print(f(0))"
   ]
  },
  {
   "cell_type": "code",
   "execution_count": 6,
   "id": "92548dd6-b62c-48ed-b7db-e72b02ef747d",
   "metadata": {},
   "outputs": [],
   "source": [
    "## Optional & Required Arguments\n",
    "# Sometimes it is convenient to have default values for some arguments in a function. Because they have default values, these arguments are optional, and are hence called “optional arguments”. \n",
    "\n",
    "def repeat_string(s,n=2):\n",
    "    return s*n"
   ]
  },
  {
   "cell_type": "code",
   "execution_count": 8,
   "id": "8b06ad55-bac7-47bd-b95c-5825a7fdcb2e",
   "metadata": {},
   "outputs": [
    {
     "data": {
      "text/plain": [
       "'mdsmds'"
      ]
     },
     "execution_count": 8,
     "metadata": {},
     "output_type": "execute_result"
    }
   ],
   "source": [
    "repeat_string(\"mds\",2)"
   ]
  },
  {
   "cell_type": "code",
   "execution_count": 10,
   "id": "f0660009-1a0f-4469-a0a8-aa02065c27d3",
   "metadata": {},
   "outputs": [
    {
     "data": {
      "text/plain": [
       "'rarararara'"
      ]
     },
     "execution_count": 10,
     "metadata": {},
     "output_type": "execute_result"
    }
   ],
   "source": [
    "repeat_string(\"ra\",5)"
   ]
  },
  {
   "cell_type": "code",
   "execution_count": 12,
   "id": "8a1b9d4a-81af-4573-b771-9eb2d399fef6",
   "metadata": {},
   "outputs": [
    {
     "data": {
      "text/plain": [
       "'abab'"
      ]
     },
     "execution_count": 12,
     "metadata": {},
     "output_type": "execute_result"
    }
   ],
   "source": [
    "repeat_string(\"ab\")\n",
    "# Ideally, the default value for optional arguments should be carefully chosen. In the function above, the idea of “repeating” something makes me think of having 2 copies, so n=2 feels like a reasonable default"
   ]
  },
  {
   "cell_type": "markdown",
   "id": "e72bafcf-c844-4137-8844-9c178adc4e4f",
   "metadata": {},
   "source": [
    "## You can have any number of required arguments and any number of optional arguments. All the optional arguments must come after the required arguments. The required arguments are mapped by the order they appear. The optional arguments can be specified out of order when using the function."
   ]
  },
  {
   "cell_type": "markdown",
   "id": "0e401af6-6416-4e17-ad12-d713900a273a",
   "metadata": {},
   "source": []
  },
  {
   "cell_type": "code",
   "execution_count": 15,
   "id": "b924027b-3622-4729-9d0f-75ec11fc87a6",
   "metadata": {},
   "outputs": [
    {
     "name": "stdout",
     "output_type": "stream",
     "text": [
      "1 2 3 4\n"
     ]
    }
   ],
   "source": [
    "def example(a,b, c=\"DEFAULT\", d=\"DEFAULT\"):\n",
    "    print(a,b,c,d)\n",
    "\n",
    "example(1,2,3,4)"
   ]
  },
  {
   "cell_type": "code",
   "execution_count": 17,
   "id": "75b08543-84fd-4b2c-a4fa-bb4ae12e6b6d",
   "metadata": {},
   "outputs": [
    {
     "name": "stdout",
     "output_type": "stream",
     "text": [
      "1 2 DEFAULT DEFAULT\n"
     ]
    }
   ],
   "source": [
    "example(1,2)"
   ]
  },
  {
   "cell_type": "code",
   "execution_count": 19,
   "id": "5f352437-cb24-446d-80df-96a2ad61954f",
   "metadata": {},
   "outputs": [
    {
     "name": "stdout",
     "output_type": "stream",
     "text": [
      "1 2 3 4\n"
     ]
    }
   ],
   "source": [
    "# Specifying c and d as keyword arguments (i.e. by name):\n",
    "example(1,2, c=3,d=4)"
   ]
  },
  {
   "cell_type": "code",
   "execution_count": 21,
   "id": "0069022c-b177-4f34-af3e-092dad0f94c7",
   "metadata": {},
   "outputs": [
    {
     "name": "stdout",
     "output_type": "stream",
     "text": [
      "1 2 3 4\n"
     ]
    }
   ],
   "source": [
    "# Specifying only one of the optional arguments, by keyword:\n",
    "example(a=1, b=2, c=3, d=4)"
   ]
  },
  {
   "cell_type": "code",
   "execution_count": 23,
   "id": "cabf4916-e952-4e11-ba34-7ab6b0875a9f",
   "metadata": {},
   "outputs": [
    {
     "name": "stdout",
     "output_type": "stream",
     "text": [
      "1 2 3 4\n"
     ]
    }
   ],
   "source": [
    "# Specifying c by the fact that it comes 3rd (I do not recommend this because I find it is confusing):\n",
    "example(1,2,d=4,c=3)"
   ]
  },
  {
   "cell_type": "code",
   "execution_count": 25,
   "id": "1050b4c4-dd6c-43a4-a8dd-107c5cb3dc11",
   "metadata": {},
   "outputs": [
    {
     "name": "stdout",
     "output_type": "stream",
     "text": [
      "1 2 DEFAULT DEFAULT\n"
     ]
    }
   ],
   "source": [
    "# Specifying the non-optional arguments by keyword (I am fine with this):\n",
    "example(a=1, b=2)"
   ]
  },
  {
   "cell_type": "code",
   "execution_count": 27,
   "id": "34d69ab2-1f6b-43d9-9b7c-0e00176f27b6",
   "metadata": {},
   "outputs": [
    {
     "name": "stdout",
     "output_type": "stream",
     "text": [
      "1 2 DEFAULT DEFAULT\n"
     ]
    }
   ],
   "source": [
    "# Specifying the non-optional arguments by keyword, but in the wrong order (not recommended, I find it confusing):\n",
    "example(b=2, a=1)"
   ]
  },
  {
   "cell_type": "code",
   "execution_count": 29,
   "id": "8d0ef26a-f59b-43d7-8893-b6564ed6f29b",
   "metadata": {},
   "outputs": [
    {
     "ename": "SyntaxError",
     "evalue": "positional argument follows keyword argument (2214878887.py, line 2)",
     "output_type": "error",
     "traceback": [
      "\u001b[1;36m  Cell \u001b[1;32mIn[29], line 2\u001b[1;36m\u001b[0m\n\u001b[1;33m    example(a=2,1)\u001b[0m\n\u001b[1;37m                 ^\u001b[0m\n\u001b[1;31mSyntaxError\u001b[0m\u001b[1;31m:\u001b[0m positional argument follows keyword argument\n"
     ]
    }
   ],
   "source": [
    "# Specifying keyword arguments before non-keyword arguments (this throws an error):\n",
    "example(a=2,1)"
   ]
  },
  {
   "cell_type": "markdown",
   "id": "992031e1-1e61-4f61-9c92-5e90eed6e4f1",
   "metadata": {},
   "source": [
    "## Multiple Return Values¶\n",
    "#### In many programming languages, functions can only return one object. That is technically true in Python too, but there is a “workaround”, which is to return a tuple."
   ]
  },
  {
   "cell_type": "code",
   "execution_count": 32,
   "id": "afc17106-b115-4dc0-bc05-d183aa7cfb52",
   "metadata": {},
   "outputs": [],
   "source": [
    "def sum_and_product(x,y):\n",
    "    return (x+y, x*y)"
   ]
  },
  {
   "cell_type": "code",
   "execution_count": 34,
   "id": "acaee93d-a3a6-4123-9230-3e5554f43341",
   "metadata": {},
   "outputs": [
    {
     "data": {
      "text/plain": [
       "(11, 30)"
      ]
     },
     "execution_count": 34,
     "metadata": {},
     "output_type": "execute_result"
    }
   ],
   "source": [
    "sum_and_product(5,6)"
   ]
  },
  {
   "cell_type": "markdown",
   "id": "0f52a7c6-f8fe-4fec-bfc9-e08e1b97015d",
   "metadata": {},
   "source": [
    "## The parentheses can be omitted (and often are), and a tuple is implicitly returned as defined by the use of the comma:"
   ]
  },
  {
   "cell_type": "code",
   "execution_count": 37,
   "id": "f7c84947-37f8-40eb-8f2f-a573160a08ab",
   "metadata": {},
   "outputs": [],
   "source": [
    "def sum_and_product(x,y):\n",
    "    return x+y,x*y"
   ]
  },
  {
   "cell_type": "code",
   "execution_count": 39,
   "id": "8026cb8a-9ba5-4a60-8786-3af1411b1ed8",
   "metadata": {},
   "outputs": [
    {
     "data": {
      "text/plain": [
       "(11, 30)"
      ]
     },
     "execution_count": 39,
     "metadata": {},
     "output_type": "execute_result"
    }
   ],
   "source": [
    "sum_and_product(5,6)"
   ]
  },
  {
   "cell_type": "markdown",
   "id": "95622970-3016-4418-88d3-0e5545dcd78a",
   "metadata": {},
   "source": [
    "### It is common to immediately unpack a returned tuple into separate variables, so it really feels like the function is returning multiple values:"
   ]
  },
  {
   "cell_type": "code",
   "execution_count": 44,
   "id": "725e0ca2-8d6c-4634-8fc6-a2d86975c68e",
   "metadata": {},
   "outputs": [
    {
     "data": {
      "text/plain": [
       "11"
      ]
     },
     "execution_count": 44,
     "metadata": {},
     "output_type": "execute_result"
    }
   ],
   "source": [
    "s, p = sum_and_product(5, 6)\n",
    "s"
   ]
  },
  {
   "cell_type": "code",
   "execution_count": 46,
   "id": "502f348a-7b81-4c8a-9722-632ef00b73fe",
   "metadata": {},
   "outputs": [
    {
     "data": {
      "text/plain": [
       "30"
      ]
     },
     "execution_count": 46,
     "metadata": {},
     "output_type": "execute_result"
    }
   ],
   "source": [
    "p"
   ]
  },
  {
   "cell_type": "code",
   "execution_count": 48,
   "id": "cb1d562e-5d9d-48a3-8d8a-b85874cda367",
   "metadata": {},
   "outputs": [
    {
     "data": {
      "text/plain": [
       "11"
      ]
     },
     "execution_count": 48,
     "metadata": {},
     "output_type": "execute_result"
    }
   ],
   "source": [
    "# As an aside, it is conventional in Python to use _ for values you don’t want\n",
    "s, _ = sum_and_product(5, 6)\n",
    "s"
   ]
  },
  {
   "cell_type": "markdown",
   "id": "c08aed8d-6b58-4397-83d1-06e531b5229b",
   "metadata": {},
   "source": [
    "## Functions with Arbitrary Number of Arguments\n",
    "### You can also call/define functions that accept an arbitrary number of positional or keyword arguments using *args and **kwargs."
   ]
  },
  {
   "cell_type": "code",
   "execution_count": 51,
   "id": "f23db024-3b3e-434d-9c46-d8ce649b6b48",
   "metadata": {},
   "outputs": [],
   "source": [
    "def add(*args):\n",
    "    print(args)\n",
    "    return sum(args)"
   ]
  },
  {
   "cell_type": "code",
   "execution_count": 53,
   "id": "01f7d45d-0054-4d81-921c-aac6af307363",
   "metadata": {},
   "outputs": [
    {
     "name": "stdout",
     "output_type": "stream",
     "text": [
      "(1, 2, 3, 4, 5, 6)\n"
     ]
    },
    {
     "data": {
      "text/plain": [
       "21"
      ]
     },
     "execution_count": 53,
     "metadata": {},
     "output_type": "execute_result"
    }
   ],
   "source": [
    "add(1, 2, 3, 4, 5, 6)"
   ]
  },
  {
   "cell_type": "code",
   "execution_count": 55,
   "id": "9d47d570-1a4c-46be-9077-43d207483199",
   "metadata": {},
   "outputs": [],
   "source": [
    "def add(**kwargs):\n",
    "    print(kwargs)\n",
    "    return sum(kwargs.values())"
   ]
  },
  {
   "cell_type": "code",
   "execution_count": 58,
   "id": "aacd761e-c47c-446c-9c2a-e63a214070bb",
   "metadata": {},
   "outputs": [
    {
     "name": "stdout",
     "output_type": "stream",
     "text": [
      "{'a': 3, 'b': 4, 'c': 5}\n"
     ]
    },
    {
     "data": {
      "text/plain": [
       "12"
      ]
     },
     "execution_count": 58,
     "metadata": {},
     "output_type": "execute_result"
    }
   ],
   "source": [
    "add(a=3, b=4, c=5)"
   ]
  },
  {
   "cell_type": "code",
   "execution_count": null,
   "id": "bd84fef1-0922-4a2f-95e9-023102a93abb",
   "metadata": {},
   "outputs": [],
   "source": []
  }
 ],
 "metadata": {
  "kernelspec": {
   "display_name": "Python 3 (ipykernel)",
   "language": "python",
   "name": "python3"
  },
  "language_info": {
   "codemirror_mode": {
    "name": "ipython",
    "version": 3
   },
   "file_extension": ".py",
   "mimetype": "text/x-python",
   "name": "python",
   "nbconvert_exporter": "python",
   "pygments_lexer": "ipython3",
   "version": "3.12.7"
  }
 },
 "nbformat": 4,
 "nbformat_minor": 5
}
