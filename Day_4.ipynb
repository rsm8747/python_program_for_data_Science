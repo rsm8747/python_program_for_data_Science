{
 "cells": [
  {
   "cell_type": "code",
   "execution_count": 3,
   "id": "a5fcf5f2-87a6-4124-8dff-04a8dd0eaae1",
   "metadata": {},
   "outputs": [],
   "source": [
    "\"\"\"--------------------------------------------------- 1 ---------------------------------------------------\"\"\"\n",
    "'''\n",
    "Given an array of integers nums and an integer target, return indices of the two numbers such that they add up to target.\n",
    "\n",
    "You may assume that each input would have exactly one solution, and you may not use the same element twice.\n",
    "\n",
    "You can return the answer in any order.\n",
    "\n",
    "Example 1:\n",
    "\n",
    "Input: nums = [2,7,11,15], target = 9\n",
    "Output: [0,1]\n",
    "Explanation: Because nums[0] + nums[1] == 9, we return [0, 1].\n",
    "Example 2:\n",
    "\n",
    "Input: nums = [3,2,4], target = 6\n",
    "Output: [1,2]\n",
    "Example 3:\n",
    "\n",
    "Input: nums = [3,3], target = 6\n",
    "Output: [0,1]\n",
    "'''\n",
    "\n",
    "''' CODE '''\n",
    "\n",
    "class Solution(object):\n",
    "    def twoSum(self, nums, target):\n",
    "        \n",
    "        num_map = {}\n",
    "        for i, num in enumerate(nums):\n",
    "            complement = target - num\n",
    "            if complement in num_map:\n",
    "                return [num_map[complement],i]\n",
    "            num_map[num]=i\n",
    "        return []"
   ]
  },
  {
   "cell_type": "code",
   "execution_count": 9,
   "id": "8880bfd6-12df-4529-a8fa-838ad646a1d4",
   "metadata": {},
   "outputs": [
    {
     "name": "stdout",
     "output_type": "stream",
     "text": [
      "[1, 2]\n"
     ]
    }
   ],
   "source": [
    "solution = Solution()\n",
    "nums = [3,2,4]\n",
    "target = 6\n",
    "print(solution.twoSum(nums, target))  # Output: [0, 1]\n"
   ]
  },
  {
   "cell_type": "code",
   "execution_count": 25,
   "id": "09f3229e-31ba-42cf-aaa7-e42ed527fee9",
   "metadata": {},
   "outputs": [
    {
     "name": "stdout",
     "output_type": "stream",
     "text": [
      "True\n",
      "False\n",
      "False\n"
     ]
    }
   ],
   "source": [
    "\"\"\"--------------------------------------------------- 2 ---------------------------------------------------\"\"\"\n",
    "\"\"\" \n",
    "Given an integer x, return true if x is a palindrome, and false otherwise.\n",
    "\n",
    " \n",
    "\n",
    "Example 1:\n",
    "\n",
    "Input: x = 121\n",
    "Output: true\n",
    "Explanation: 121 reads as 121 from left to right and from right to left.\n",
    "Example 2:\n",
    "\n",
    "Input: x = -121\n",
    "Output: false\n",
    "Explanation: From left to right, it reads -121. From right to left, it becomes 121-. Therefore it is not a palindrome.\n",
    "\"\"\"\n",
    "\n",
    "\"\"\" ---------------------------- CODE 1 ---------------------------- \"\"\"\n",
    "class Solution2(object):\n",
    "    def isPalindrome(self, x):\n",
    "        return str(x) == str(x)[::-1]\n",
    "\n",
    "\n",
    "solution2 = Solution2()\n",
    "print(solution2.isPalindrome(121))\n",
    "print(solution2.isPalindrome(-121))\n",
    "print(solution2.isPalindrome(87))"
   ]
  },
  {
   "cell_type": "code",
   "execution_count": 29,
   "id": "29ff2a3a-1667-48e4-9b50-ef81c2d746e3",
   "metadata": {},
   "outputs": [
    {
     "name": "stdout",
     "output_type": "stream",
     "text": [
      "True\n",
      "False\n",
      "False\n"
     ]
    }
   ],
   "source": [
    "\"\"\" ---------------------------- CODE 2 mathematical Approach ---------------------------- \"\"\"\n",
    "\n",
    "class Solution2(object):\n",
    "    def isPalindrome(self, x):\n",
    "        \"\"\"\n",
    "        :type x: int\n",
    "        :rtype: bool\n",
    "        \"\"\"\n",
    "        if x < 0 or (x % 10 == 0 and x != 0):  # Negative and trailing zero cases\n",
    "            return False\n",
    "\n",
    "        reversed_half = 0\n",
    "        while x > reversed_half:\n",
    "            reversed_half = reversed_half * 10 + x % 10  # Build the reversed half\n",
    "            x //= 10  # Remove the last digit of x\n",
    "\n",
    "        return x == reversed_half or x == reversed_half // 10  # Handle even/odd length cases\n",
    "\n",
    "\n",
    "solution2 = Solution2()\n",
    "print(solution2.isPalindrome(121))\n",
    "print(solution2.isPalindrome(-121))\n",
    "print(solution2.isPalindrome(87))"
   ]
  },
  {
   "cell_type": "code",
   "execution_count": 39,
   "id": "93c0a5e9-5278-4e54-b976-580a9e0f3a95",
   "metadata": {},
   "outputs": [
    {
     "name": "stdout",
     "output_type": "stream",
     "text": [
      "58\n"
     ]
    }
   ],
   "source": [
    "\"\"\"--------------------------------------------------- 3 ---------------------------------------------------\"\"\"\n",
    "\"\"\"\n",
    "Roman numerals are represented by seven different symbols: I, V, X, L, C, D and M.\n",
    "\n",
    "Symbol       Value\n",
    "I             1\n",
    "V             5\n",
    "X             10\n",
    "L             50\n",
    "C             100\n",
    "D             500\n",
    "M             1000\n",
    "\n",
    "Example 1:\n",
    "\n",
    "Input: s = \"III\"\n",
    "Output: 3\n",
    "Explanation: III = 3.\n",
    "Example 2:\n",
    "\n",
    "Input: s = \"LVIII\"\n",
    "Output: 58\n",
    "Explanation: L = 50, V= 5, III = 3.\n",
    "\"\"\"\n",
    "\n",
    "\"\"\" _____________________________ CODE _____________________________ \"\"\"\n",
    "\n",
    "class Solution3(object):\n",
    "    def romanToInt(self, s):\n",
    "        roman_map = {\n",
    "            'I': 1, 'V': 5, 'X': 10, 'L': 50, \n",
    "            'C': 100, 'D': 500, 'M': 1000\n",
    "        }\n",
    "        \n",
    "        total = 0\n",
    "        prev_value = 0  # To track the previous numeral's value\n",
    "\n",
    "        for char in reversed(s):  # Iterate from right to left\n",
    "            curr_value = roman_map[char]\n",
    "\n",
    "            if curr_value < prev_value:\n",
    "                total -= curr_value  # Subtract when a smaller value appears before a larger one\n",
    "            else:\n",
    "                total += curr_value  # Otherwise, just add the value\n",
    "\n",
    "            prev_value = curr_value  # Update previous value\n",
    "\n",
    "        return total\n",
    "\n",
    "\n",
    "solution3 = Solution3()\n",
    "s = \"LVIII\"\n",
    "print(solution3.romanToInt(s))"
   ]
  },
  {
   "cell_type": "code",
   "execution_count": 49,
   "id": "5c1bbce1-9b0a-46c4-ae51-21e11151e2c6",
   "metadata": {},
   "outputs": [
    {
     "name": "stdout",
     "output_type": "stream",
     "text": [
      "ap\n"
     ]
    }
   ],
   "source": [
    "\"\"\"--------------------------------------------------- 4 ---------------------------------------------------\"\"\"\n",
    "\"\"\"\n",
    "Write a function to find the longest common prefix string amongst an array of strings.\n",
    "\n",
    "If there is no common prefix, return an empty string \"\".\n",
    "\n",
    " \n",
    "\n",
    "Example 1:\n",
    "\n",
    "Input: strs = [\"flower\",\"flow\",\"flight\"]\n",
    "Output: \"fl\"\n",
    "Example 2:\n",
    "\n",
    "Input: strs = [\"dog\",\"racecar\",\"car\"]\n",
    "Output: \"\"\n",
    "Explanation: There is no common prefix among the input strings.\n",
    "\"\"\"\n",
    "\n",
    "\"\"\" _____________________________ CODE _____________________________ \"\"\"\n",
    "\n",
    "class Solution4(object):\n",
    "    def longestCommonPrefix(self, strs):\n",
    "        \"\"\"\n",
    "        :type strs: List[str]\n",
    "        :rtype: str\n",
    "        \"\"\"\n",
    "        if not strs:\n",
    "            return \"\"\n",
    "        \n",
    "        prefix = strs[0]\n",
    "\n",
    "        for word in strs[1:]:\n",
    "            while not word.startswith(prefix):\n",
    "                prefix = prefix[:-1]\n",
    "                if not prefix:\n",
    "                    return \"\"\n",
    "        return prefix\n",
    "\n",
    "\n",
    "\n",
    "solution4 = Solution4()\n",
    "#s = [\"flower\", \"flow\", \"flight\"]\n",
    "#s=  [\"dog\", \"racecar\", \"car\"]\n",
    "s = [\"apple\", \"app\", \"apricot\"]\n",
    "print(solution4.longestCommonPrefix(s))"
   ]
  },
  {
   "cell_type": "code",
   "execution_count": 61,
   "id": "161a802c-47cc-4c1f-aef7-141f903464a1",
   "metadata": {},
   "outputs": [
    {
     "name": "stdout",
     "output_type": "stream",
     "text": [
      "False\n"
     ]
    }
   ],
   "source": [
    "\"\"\"--------------------------------------------------- 5 ---------------------------------------------------\"\"\"\n",
    "\"\"\"\n",
    "Given a string s containing just the characters '(', ')', '{', '}', '[' and ']', determine if the input string is valid.\n",
    "\n",
    "An input string is valid if:\n",
    "\n",
    "Open brackets must be closed by the same type of brackets.\n",
    "Open brackets must be closed in the correct order.\n",
    "Every close bracket has a corresponding open bracket of the same type.\n",
    " \n",
    "\n",
    "Example 1:\n",
    "\n",
    "Input: s = \"()\"\n",
    "\n",
    "Output: true\n",
    "\n",
    "\"\"\"\n",
    "\n",
    "\"\"\" _____________________________ CODE _____________________________ \"\"\"\n",
    "class Solution(object):\n",
    "    def isValid(self, s):\n",
    "        \"\"\"\n",
    "        :type s: str\n",
    "        :rtype: bool\n",
    "        \"\"\"\n",
    "        stack =[]\n",
    "        bracket_map = {')':'(','}':'{',']':'['}\n",
    "        for char in s:\n",
    "            if char in bracket_map:\n",
    "                top_element = stack.pop() if stack else '#'\n",
    "                if bracket_map[char] != top_element:\n",
    "                    return False\n",
    "            else:\n",
    "                stack.append(char)\n",
    "        return not stack\n",
    "\n",
    "#s = \"()\"\n",
    "s = \"(\"\n",
    "solution = Solution()\n",
    "print(solution.isValid(s))"
   ]
  },
  {
   "cell_type": "code",
   "execution_count": 65,
   "id": "9d7f1430-296e-496b-9133-f3a1cb6504e9",
   "metadata": {},
   "outputs": [
    {
     "name": "stdout",
     "output_type": "stream",
     "text": [
      "* \n",
      "* * \n",
      "* * * \n",
      "* * * * \n",
      "* * * * * \n"
     ]
    }
   ],
   "source": [
    "\"\"\" Basic Logical program \"\"\"\n",
    "\"\"\"--------------------------------------------------- 6 ---------------------------------------------------\"\"\"\n",
    "\n",
    "\"\"\" 1. Right-Angled Triangle Pattern \n",
    "* \n",
    "* * \n",
    "* * * \n",
    "* * * * \n",
    "* * * * * \n",
    "\"\"\"\n",
    "\n",
    "n =5\n",
    "for i in range(1,n+1):\n",
    "    print(\"* \"*i)"
   ]
  },
  {
   "cell_type": "code",
   "execution_count": 67,
   "id": "dad53691-8b39-4ec2-a7d1-59bf526a6009",
   "metadata": {},
   "outputs": [
    {
     "name": "stdout",
     "output_type": "stream",
     "text": [
      "* * * * * \n",
      "* * * * \n",
      "* * * \n",
      "* * \n",
      "* \n"
     ]
    }
   ],
   "source": [
    "\"\"\"--------------------------------------------------- 7 ---------------------------------------------------\"\"\"\n",
    "\n",
    "\"\"\" 2. LEFT-Angled Triangle Pattern \n",
    "* * * * * \n",
    "* * * * \n",
    "* * * \n",
    "* * \n",
    "* \n",
    "\"\"\"\n",
    "n =5 \n",
    "for i in range(n,0,-1):\n",
    "    print(\"* \"*i)"
   ]
  },
  {
   "cell_type": "code",
   "execution_count": 73,
   "id": "a6f98488-5d4c-45cb-86d1-ba584de1911a",
   "metadata": {},
   "outputs": [
    {
     "name": "stdout",
     "output_type": "stream",
     "text": [
      "    * \n",
      "   * * \n",
      "  * * * \n",
      " * * * * \n",
      "* * * * * \n"
     ]
    }
   ],
   "source": [
    "\"\"\"--------------------------------------------------- 8 ---------------------------------------------------\"\"\"\n",
    "\n",
    "\"\"\" 3. Pyranid Triangle Pattern \n",
    "\n",
    "    * \n",
    "   * * \n",
    "  * * * \n",
    " * * * * \n",
    "* * * * *\n",
    "\n",
    "\"\"\"\n",
    "\n",
    "n =5 \n",
    "for i in range(1,n+1):\n",
    "    print(\" \"*(n-i)+\"* \"*i)"
   ]
  },
  {
   "cell_type": "code",
   "execution_count": 81,
   "id": "911cfa24-bfd3-4583-b0d1-747f413f4ed6",
   "metadata": {},
   "outputs": [
    {
     "name": "stdout",
     "output_type": "stream",
     "text": [
      "  * \n",
      " * * * \n",
      "* * * * * \n",
      " * * * \n",
      "  * \n"
     ]
    }
   ],
   "source": [
    "\"\"\"--------------------------------------------------- 9 ---------------------------------------------------\"\"\"\n",
    "\n",
    "\"\"\" 4. Diamond  Pattern \n",
    "\n",
    "    * \n",
    " * * * \n",
    "* * * * * \n",
    " * * * \n",
    "  * \n",
    "\n",
    "\"\"\"\n",
    "n = 5\n",
    "for i in range(1, n + 1, 2):\n",
    "    print(\" \" * ((n - i) // 2) + \"* \" * i)\n",
    "for i in range(n - 2, 0, -2):\n",
    "    print(\" \" * ((n - i) // 2) + \"* \" * i)"
   ]
  },
  {
   "cell_type": "code",
   "execution_count": 85,
   "id": "4f1230b9-03de-4a70-872d-7d50cdfdd622",
   "metadata": {},
   "outputs": [
    {
     "name": "stdout",
     "output_type": "stream",
     "text": [
      "1 \n",
      "1 2 \n",
      "1 2 3 \n",
      "1 2 3 4 \n",
      "1 2 3 4 5 \n"
     ]
    }
   ],
   "source": [
    "\"\"\"--------------------------------------------------- 10 ---------------------------------------------------\"\"\"\n",
    "\n",
    "\"\"\" 5. Number Triangle Pattern\n",
    "1 \n",
    "1 2 \n",
    "1 2 3 \n",
    "1 2 3 4 \n",
    "1 2 3 4 5 \n",
    "\n",
    "\"\"\"\n",
    "\n",
    "n =5\n",
    "for i in range(1,n+1):\n",
    "    for j in range(1,i+1):\n",
    "        print(j,end=\" \")\n",
    "    print()"
   ]
  },
  {
   "cell_type": "code",
   "execution_count": null,
   "id": "956fa358-0aa3-4bae-8573-965e7d2a2665",
   "metadata": {},
   "outputs": [],
   "source": []
  }
 ],
 "metadata": {
  "kernelspec": {
   "display_name": "Python 3 (ipykernel)",
   "language": "python",
   "name": "python3"
  },
  "language_info": {
   "codemirror_mode": {
    "name": "ipython",
    "version": 3
   },
   "file_extension": ".py",
   "mimetype": "text/x-python",
   "name": "python",
   "nbconvert_exporter": "python",
   "pygments_lexer": "ipython3",
   "version": "3.12.7"
  }
 },
 "nbformat": 4,
 "nbformat_minor": 5
}
