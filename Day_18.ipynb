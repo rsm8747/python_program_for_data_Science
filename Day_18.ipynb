{
 "cells": [
  {
   "cell_type": "markdown",
   "id": "7575c155-bf26-4fcb-88b6-c7c24b754b96",
   "metadata": {},
   "source": [
    "### 9 Generators\n",
    "##### Recall list comprehension from earlier in the chapter"
   ]
  },
  {
   "cell_type": "code",
   "execution_count": 2,
   "id": "148a9425-ae3f-47a8-b324-aa9e6c8e5e10",
   "metadata": {},
   "outputs": [
    {
     "data": {
      "text/plain": [
       "[0, 1, 2, 3, 4, 5, 6, 7, 8, 9]"
      ]
     },
     "execution_count": 2,
     "metadata": {},
     "output_type": "execute_result"
    }
   ],
   "source": [
    "[n for n in range(10)]"
   ]
  },
  {
   "cell_type": "code",
   "execution_count": 4,
   "id": "3a1872f7-6dc7-4610-933b-9b806ed17677",
   "metadata": {},
   "outputs": [
    {
     "data": {
      "text/plain": [
       "<generator object <genexpr> at 0x000001C0A8DC5C00>"
      ]
     },
     "execution_count": 4,
     "metadata": {},
     "output_type": "execute_result"
    }
   ],
   "source": [
    "( n for n in range(10))"
   ]
  },
  {
   "cell_type": "code",
   "execution_count": 6,
   "id": "3330712c-215e-4e09-a0bc-bd1a13da7bc2",
   "metadata": {},
   "outputs": [],
   "source": [
    "gen = (n for n in range(10))"
   ]
  },
  {
   "cell_type": "code",
   "execution_count": 8,
   "id": "32e65ba9-14ac-45ac-859f-7988908a2ac6",
   "metadata": {},
   "outputs": [
    {
     "data": {
      "text/plain": [
       "0"
      ]
     },
     "execution_count": 8,
     "metadata": {},
     "output_type": "execute_result"
    }
   ],
   "source": [
    "next(gen)"
   ]
  },
  {
   "cell_type": "code",
   "execution_count": 10,
   "id": "9f1b734f-6014-4ade-906c-d8e4ea47df33",
   "metadata": {},
   "outputs": [
    {
     "data": {
      "text/plain": [
       "1"
      ]
     },
     "execution_count": 10,
     "metadata": {},
     "output_type": "execute_result"
    }
   ],
   "source": [
    "next(gen)"
   ]
  },
  {
   "cell_type": "code",
   "execution_count": 12,
   "id": "48e9f89a-9527-43a8-a293-b9f88a7e0a23",
   "metadata": {},
   "outputs": [
    {
     "name": "stdout",
     "output_type": "stream",
     "text": [
      "0\n",
      "1\n",
      "2\n",
      "3\n",
      "4\n",
      "5\n",
      "6\n",
      "7\n",
      "8\n",
      "9\n"
     ]
    },
    {
     "ename": "StopIteration",
     "evalue": "",
     "output_type": "error",
     "traceback": [
      "\u001b[1;31m---------------------------------------------------------------------------\u001b[0m",
      "\u001b[1;31mStopIteration\u001b[0m                             Traceback (most recent call last)",
      "Cell \u001b[1;32mIn[12], line 3\u001b[0m\n\u001b[0;32m      1\u001b[0m gen \u001b[38;5;241m=\u001b[39m (n \u001b[38;5;28;01mfor\u001b[39;00m n \u001b[38;5;129;01min\u001b[39;00m \u001b[38;5;28mrange\u001b[39m(\u001b[38;5;241m10\u001b[39m))\n\u001b[0;32m      2\u001b[0m \u001b[38;5;28;01mfor\u001b[39;00m i \u001b[38;5;129;01min\u001b[39;00m \u001b[38;5;28mrange\u001b[39m(\u001b[38;5;241m11\u001b[39m):\n\u001b[1;32m----> 3\u001b[0m     \u001b[38;5;28mprint\u001b[39m(\u001b[38;5;28mnext\u001b[39m(gen))\n",
      "\u001b[1;31mStopIteration\u001b[0m: "
     ]
    }
   ],
   "source": [
    "gen = (n for n in range(10))\n",
    "for i in range(11):\n",
    "    print(next(gen))"
   ]
  },
  {
   "cell_type": "code",
   "execution_count": 14,
   "id": "2c7b3ed3-da96-4d4b-ad19-f6f8ba138d79",
   "metadata": {},
   "outputs": [
    {
     "data": {
      "text/plain": [
       "[0, 1, 2, 3, 4, 5, 6, 7, 8, 9]"
      ]
     },
     "execution_count": 14,
     "metadata": {},
     "output_type": "execute_result"
    }
   ],
   "source": [
    "gen = (n for n in range(10))\n",
    "list(gen)"
   ]
  },
  {
   "cell_type": "code",
   "execution_count": 18,
   "id": "1c332b08-5677-4cf2-8d37-b101b487c1f1",
   "metadata": {},
   "outputs": [
    {
     "name": "stdout",
     "output_type": "stream",
     "text": [
      "0\n",
      "1\n",
      "2\n",
      "3\n",
      "4\n",
      "5\n",
      "6\n",
      "7\n",
      "8\n",
      "9\n"
     ]
    }
   ],
   "source": [
    "gen = (n for n in range(10))\n",
    "for i in gen:\n",
    "    print(i)"
   ]
  },
  {
   "cell_type": "code",
   "execution_count": 20,
   "id": "bea02903-7c5a-48a4-94ec-b97c64a3ca10",
   "metadata": {},
   "outputs": [],
   "source": [
    "def gen():\n",
    "    for n in range(10):\n",
    "        yield (n,n**2)"
   ]
  },
  {
   "cell_type": "code",
   "execution_count": 22,
   "id": "40d56b2b-824c-4288-b532-bcd9daa456bf",
   "metadata": {},
   "outputs": [
    {
     "name": "stdout",
     "output_type": "stream",
     "text": [
      "(0, 0)\n",
      "(1, 1)\n",
      "(2, 4)\n"
     ]
    }
   ],
   "source": [
    "g = gen()\n",
    "print(next(g))\n",
    "print(next(g))\n",
    "print(next(g))"
   ]
  },
  {
   "cell_type": "code",
   "execution_count": 26,
   "id": "d8847bf6-8cf2-466d-9f45-27cd2971a1cb",
   "metadata": {},
   "outputs": [
    {
     "ename": "ModuleNotFoundError",
     "evalue": "No module named 'memory_profiler'",
     "output_type": "error",
     "traceback": [
      "\u001b[1;31m---------------------------------------------------------------------------\u001b[0m",
      "\u001b[1;31mModuleNotFoundError\u001b[0m                       Traceback (most recent call last)",
      "Cell \u001b[1;32mIn[26], line 3\u001b[0m\n\u001b[0;32m      1\u001b[0m \u001b[38;5;28;01mimport\u001b[39;00m \u001b[38;5;21;01mrandom\u001b[39;00m  \u001b[38;5;66;03m# we'll learn about imports in a later chapter\u001b[39;00m\n\u001b[0;32m      2\u001b[0m \u001b[38;5;28;01mimport\u001b[39;00m \u001b[38;5;21;01mtime\u001b[39;00m\n\u001b[1;32m----> 3\u001b[0m \u001b[38;5;28;01mimport\u001b[39;00m \u001b[38;5;21;01mmemory_profiler\u001b[39;00m\n\u001b[0;32m      4\u001b[0m city \u001b[38;5;241m=\u001b[39m [\u001b[38;5;124m'\u001b[39m\u001b[38;5;124mVancouver\u001b[39m\u001b[38;5;124m'\u001b[39m, \u001b[38;5;124m'\u001b[39m\u001b[38;5;124mToronto\u001b[39m\u001b[38;5;124m'\u001b[39m, \u001b[38;5;124m'\u001b[39m\u001b[38;5;124mOttawa\u001b[39m\u001b[38;5;124m'\u001b[39m, \u001b[38;5;124m'\u001b[39m\u001b[38;5;124mMontreal\u001b[39m\u001b[38;5;124m'\u001b[39m]\n",
      "\u001b[1;31mModuleNotFoundError\u001b[0m: No module named 'memory_profiler'"
     ]
    }
   ],
   "source": [
    "import random  # we'll learn about imports in a later chapter\n",
    "import time\n",
    "import memory_profiler\n",
    "city = ['Vancouver', 'Toronto', 'Ottawa', 'Montreal']"
   ]
  },
  {
   "cell_type": "code",
   "execution_count": 42,
   "id": "a31d73a5-229e-4fc1-afaf-cfea6e11c0b8",
   "metadata": {},
   "outputs": [],
   "source": [
    "def house_list(n):\n",
    "    houses = []\n",
    "    for i in range(n):\n",
    "        house = {\n",
    "            'id': i,\n",
    "            'city': random.choice(city),\n",
    "            'bedrooms': random.randint(1, 5),\n",
    "            'bathrooms': random.randint(1, 3),\n",
    "            'price ($1000s)': random.randint(300, 1000)\n",
    "        }\n",
    "        houses.append(house)\n",
    "    return houses"
   ]
  },
  {
   "cell_type": "code",
   "execution_count": null,
   "id": "182b1d95-1946-4ad0-8507-a765fc762ded",
   "metadata": {},
   "outputs": [],
   "source": [
    "house_list(2)"
   ]
  },
  {
   "cell_type": "markdown",
   "id": "7da3e5b1-4e7f-4023-a5bb-0965052fbef4",
   "metadata": {},
   "source": [
    "### 10 Docstrings"
   ]
  },
  {
   "cell_type": "code",
   "execution_count": 59,
   "id": "42e59ed7-9520-435b-b4b1-3165010460ea",
   "metadata": {},
   "outputs": [],
   "source": [
    "def make_palindrome(string):\n",
    "    \"\"\"Turns the string into a palindrome\"\"\"\n",
    "    return string + string[::-1]"
   ]
  },
  {
   "cell_type": "code",
   "execution_count": 61,
   "id": "46b614b8-f40c-4273-8329-ebd34726af27",
   "metadata": {},
   "outputs": [
    {
     "data": {
      "text/plain": [
       "\u001b[1;31mSignature:\u001b[0m \u001b[0mmake_palindrome\u001b[0m\u001b[1;33m(\u001b[0m\u001b[0mstring\u001b[0m\u001b[1;33m)\u001b[0m\u001b[1;33m\u001b[0m\u001b[1;33m\u001b[0m\u001b[0m\n",
       "\u001b[1;31mDocstring:\u001b[0m Turns the string into a palindrome\n",
       "\u001b[1;31mFile:\u001b[0m      c:\\users\\rahul\\appdata\\local\\temp\\ipykernel_10588\\1795330939.py\n",
       "\u001b[1;31mType:\u001b[0m      function"
      ]
     },
     "metadata": {},
     "output_type": "display_data"
    }
   ],
   "source": [
    "make_palindrome?"
   ]
  },
  {
   "cell_type": "markdown",
   "id": "be9a16f8-f187-46a3-a648-c568f78ae700",
   "metadata": {},
   "source": [
    "### Docstring Structure"
   ]
  },
  {
   "cell_type": "code",
   "execution_count": 66,
   "id": "d614fdb4-f515-4e2b-8e73-08ae558c6d4c",
   "metadata": {},
   "outputs": [],
   "source": [
    "def function_name(param1, param2, param3):\n",
    "    \"\"\"First line is a short description of the function.\n",
    "    \n",
    "    A paragraph describing in a bit more detail what the\n",
    "    function does and what algorithms it uses and common\n",
    "    use cases.\n",
    "    \n",
    "    Parameters\n",
    "    ----------\n",
    "    param1 : datatype\n",
    "        A description of param1.\n",
    "    param2 : datatype\n",
    "        A description of param2.\n",
    "    param3 : datatype\n",
    "        A longer description because maybe this requires\n",
    "        more explanation and we can use several lines.\n",
    "    \n",
    "    Returns\n",
    "    -------\n",
    "    datatype\n",
    "        A description of the output, datatypes and behaviours.\n",
    "        Describe special cases and anything the user needs to\n",
    "        know to use the function.\n",
    "    \n",
    "    Examples\n",
    "    --------\n",
    "    >>> function_name(3,8,-5)\n",
    "    2.0\n",
    "    \"\"\""
   ]
  },
  {
   "cell_type": "code",
   "execution_count": 68,
   "id": "64d5247d-b2a5-46cd-8833-77ad3427b836",
   "metadata": {},
   "outputs": [],
   "source": [
    "def make_palindrome(string):\n",
    "    \"\"\"Turns the string into a palindrome by concatenating \n",
    "    itself with a reversed version of itself.\n",
    "    \n",
    "    Parameters\n",
    "    ----------\n",
    "    string : str\n",
    "        The string to turn into a palindrome.\n",
    "        \n",
    "    Returns\n",
    "    -------\n",
    "    str\n",
    "        string concatenated with a reversed version of string\n",
    "        \n",
    "    Examples\n",
    "    --------\n",
    "    >>> make_palindrome('tom')\n",
    "    'tommot'\n",
    "    \"\"\"\n",
    "    return string + string[::-1]"
   ]
  },
  {
   "cell_type": "code",
   "execution_count": 70,
   "id": "1eb1e1c5-ec97-42fc-9de9-d766fb7b7f69",
   "metadata": {},
   "outputs": [
    {
     "data": {
      "text/plain": [
       "\u001b[1;31mSignature:\u001b[0m \u001b[0mmake_palindrome\u001b[0m\u001b[1;33m(\u001b[0m\u001b[0mstring\u001b[0m\u001b[1;33m)\u001b[0m\u001b[1;33m\u001b[0m\u001b[1;33m\u001b[0m\u001b[0m\n",
       "\u001b[1;31mDocstring:\u001b[0m\n",
       "Turns the string into a palindrome by concatenating \n",
       "itself with a reversed version of itself.\n",
       "\n",
       "Parameters\n",
       "----------\n",
       "string : str\n",
       "    The string to turn into a palindrome.\n",
       "    \n",
       "Returns\n",
       "-------\n",
       "str\n",
       "    string concatenated with a reversed version of string\n",
       "    \n",
       "Examples\n",
       "--------\n",
       ">>> make_palindrome('tom')\n",
       "'tommot'\n",
       "\u001b[1;31mFile:\u001b[0m      c:\\users\\rahul\\appdata\\local\\temp\\ipykernel_10588\\1879425040.py\n",
       "\u001b[1;31mType:\u001b[0m      function"
      ]
     },
     "metadata": {},
     "output_type": "display_data"
    }
   ],
   "source": [
    "make_palindrome?"
   ]
  },
  {
   "cell_type": "markdown",
   "id": "2fd76fbe-0e6d-43fd-88bd-3cdec60b968d",
   "metadata": {},
   "source": [
    "## Docstrings with Optional Arguments"
   ]
  },
  {
   "cell_type": "code",
   "execution_count": 73,
   "id": "07c4c998-5ad4-44fd-91d8-04eabf30b212",
   "metadata": {},
   "outputs": [],
   "source": [
    "# scipy style\n",
    "def repeat_string(s, n=2):\n",
    "    \"\"\"\n",
    "    Repeat the string s, n times.\n",
    "    \n",
    "    Parameters\n",
    "    ----------\n",
    "    s : str \n",
    "        the string\n",
    "    n : int, optional\n",
    "        the number of times, by default = 2\n",
    "        \n",
    "    Returns\n",
    "    -------\n",
    "    str\n",
    "        the repeated string\n",
    "        \n",
    "    Examples\n",
    "    --------\n",
    "    >>> repeat_string(\"Blah\", 3)\n",
    "    \"BlahBlahBlah\"\n",
    "    \"\"\"\n",
    "    return s * n"
   ]
  },
  {
   "cell_type": "markdown",
   "id": "4a5c5555-fc6c-48fb-980c-19876500655f",
   "metadata": {},
   "source": [
    "## Type Hints"
   ]
  },
  {
   "cell_type": "code",
   "execution_count": 76,
   "id": "e740fda2-be9b-4ee7-ba02-9d77d9d10d77",
   "metadata": {},
   "outputs": [],
   "source": [
    "# NumPy style\n",
    "def repeat_string(s: str, n: int = 2) -> str:  # <---- note the type hinting here\n",
    "    \"\"\"\n",
    "    Repeat the string s, n times.\n",
    "    \n",
    "    Parameters\n",
    "    ----------\n",
    "    s : str \n",
    "        the string\n",
    "    n : int, optional (default = 2)\n",
    "        the number of times\n",
    "        \n",
    "    Returns\n",
    "    -------\n",
    "    str\n",
    "        the repeated string\n",
    "        \n",
    "    Examples\n",
    "    --------\n",
    "    >>> repeat_string(\"Blah\", 3)\n",
    "    \"BlahBlahBlah\"\n",
    "    \"\"\"\n",
    "    return s * n"
   ]
  },
  {
   "cell_type": "code",
   "execution_count": 78,
   "id": "01f46bae-93a5-485c-bafb-8b67af190eac",
   "metadata": {},
   "outputs": [
    {
     "data": {
      "text/plain": [
       "\u001b[1;31mSignature:\u001b[0m \u001b[0mrepeat_string\u001b[0m\u001b[1;33m(\u001b[0m\u001b[0ms\u001b[0m\u001b[1;33m:\u001b[0m \u001b[0mstr\u001b[0m\u001b[1;33m,\u001b[0m \u001b[0mn\u001b[0m\u001b[1;33m:\u001b[0m \u001b[0mint\u001b[0m \u001b[1;33m=\u001b[0m \u001b[1;36m2\u001b[0m\u001b[1;33m)\u001b[0m \u001b[1;33m->\u001b[0m \u001b[0mstr\u001b[0m\u001b[1;33m\u001b[0m\u001b[1;33m\u001b[0m\u001b[0m\n",
       "\u001b[1;31mDocstring:\u001b[0m\n",
       "Repeat the string s, n times.\n",
       "\n",
       "Parameters\n",
       "----------\n",
       "s : str \n",
       "    the string\n",
       "n : int, optional (default = 2)\n",
       "    the number of times\n",
       "    \n",
       "Returns\n",
       "-------\n",
       "str\n",
       "    the repeated string\n",
       "    \n",
       "Examples\n",
       "--------\n",
       ">>> repeat_string(\"Blah\", 3)\n",
       "\"BlahBlahBlah\"\n",
       "\u001b[1;31mFile:\u001b[0m      c:\\users\\rahul\\appdata\\local\\temp\\ipykernel_10588\\4150788272.py\n",
       "\u001b[1;31mType:\u001b[0m      function"
      ]
     },
     "metadata": {},
     "output_type": "display_data"
    }
   ],
   "source": [
    "repeat_string?"
   ]
  },
  {
   "cell_type": "code",
   "execution_count": 80,
   "id": "703d192e-67bf-4b8c-9f8b-4567efd30131",
   "metadata": {},
   "outputs": [
    {
     "ename": "TypeError",
     "evalue": "unsupported operand type(s) for *: 'dict' and 'int'",
     "output_type": "error",
     "traceback": [
      "\u001b[1;31m---------------------------------------------------------------------------\u001b[0m",
      "\u001b[1;31mTypeError\u001b[0m                                 Traceback (most recent call last)",
      "Cell \u001b[1;32mIn[80], line 1\u001b[0m\n\u001b[1;32m----> 1\u001b[0m repeat_string({\u001b[38;5;124m'\u001b[39m\u001b[38;5;124mkey_1\u001b[39m\u001b[38;5;124m'\u001b[39m: \u001b[38;5;241m1\u001b[39m, \u001b[38;5;124m'\u001b[39m\u001b[38;5;124mkey_2\u001b[39m\u001b[38;5;124m'\u001b[39m: \u001b[38;5;241m2\u001b[39m})\n",
      "Cell \u001b[1;32mIn[76], line 23\u001b[0m, in \u001b[0;36mrepeat_string\u001b[1;34m(s, n)\u001b[0m\n\u001b[0;32m      2\u001b[0m \u001b[38;5;28;01mdef\u001b[39;00m \u001b[38;5;21mrepeat_string\u001b[39m(s: \u001b[38;5;28mstr\u001b[39m, n: \u001b[38;5;28mint\u001b[39m \u001b[38;5;241m=\u001b[39m \u001b[38;5;241m2\u001b[39m) \u001b[38;5;241m-\u001b[39m\u001b[38;5;241m>\u001b[39m \u001b[38;5;28mstr\u001b[39m:  \u001b[38;5;66;03m# <---- note the type hinting here\u001b[39;00m\n\u001b[0;32m      3\u001b[0m \u001b[38;5;250m    \u001b[39m\u001b[38;5;124;03m\"\"\"\u001b[39;00m\n\u001b[0;32m      4\u001b[0m \u001b[38;5;124;03m    Repeat the string s, n times.\u001b[39;00m\n\u001b[0;32m      5\u001b[0m \u001b[38;5;124;03m    \u001b[39;00m\n\u001b[1;32m   (...)\u001b[0m\n\u001b[0;32m     21\u001b[0m \u001b[38;5;124;03m    \"BlahBlahBlah\"\u001b[39;00m\n\u001b[0;32m     22\u001b[0m \u001b[38;5;124;03m    \"\"\"\u001b[39;00m\n\u001b[1;32m---> 23\u001b[0m     \u001b[38;5;28;01mreturn\u001b[39;00m s \u001b[38;5;241m*\u001b[39m n\n",
      "\u001b[1;31mTypeError\u001b[0m: unsupported operand type(s) for *: 'dict' and 'int'"
     ]
    }
   ],
   "source": [
    "repeat_string({'key_1': 1, 'key_2': 2})"
   ]
  }
 ],
 "metadata": {
  "kernelspec": {
   "display_name": "Python 3 (ipykernel)",
   "language": "python",
   "name": "python3"
  },
  "language_info": {
   "codemirror_mode": {
    "name": "ipython",
    "version": 3
   },
   "file_extension": ".py",
   "mimetype": "text/x-python",
   "name": "python",
   "nbconvert_exporter": "python",
   "pygments_lexer": "ipython3",
   "version": "3.12.7"
  }
 },
 "nbformat": 4,
 "nbformat_minor": 5
}
