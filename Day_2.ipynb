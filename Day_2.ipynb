{
 "cells": [
  {
   "cell_type": "markdown",
   "id": "a07dfe73-2af0-4ab4-9c0a-ddb07afbea55",
   "metadata": {},
   "source": [
    "### 1 String Manipulation:\n",
    "##### Write a Python function that takes a string and returns the string with all vowels removed."
   ]
  },
  {
   "cell_type": "code",
   "execution_count": 6,
   "id": "701a6869-0010-46b4-9df6-12263626b0e3",
   "metadata": {},
   "outputs": [
    {
     "name": "stdout",
     "output_type": "stream",
     "text": [
      "Hll Wrld\n"
     ]
    }
   ],
   "source": [
    "def remove_vowels(s):\n",
    "    vowels=\"aeiouAEIOU\"\n",
    "    return ''.join(char for char in s if char not in vowels)\n",
    "input_string=\"Hello World\"\n",
    "output_string = remove_vowels(input_string)\n",
    "print(output_string)"
   ]
  },
  {
   "cell_type": "markdown",
   "id": "7fb5966c-d0a0-4bf5-9bd5-2a5fc3905624",
   "metadata": {},
   "source": [
    "### 2 List Comprehension:\n",
    "#### Generate a list of all numbers from 1 to 100 that are divisible by both 3 and 5 using list comprehension."
   ]
  },
  {
   "cell_type": "code",
   "execution_count": 11,
   "id": "8b7ce685-73da-46ae-a296-52565ceec2ea",
   "metadata": {},
   "outputs": [
    {
     "name": "stdout",
     "output_type": "stream",
     "text": [
      "[15, 30, 45, 60, 75, 90]\n"
     ]
    }
   ],
   "source": [
    "numbers = [num for num in range(1,100) if num % 3==0 and num % 5==0]\n",
    "print(numbers)"
   ]
  },
  {
   "cell_type": "markdown",
   "id": "0676fbe9-c734-4633-853c-6778b241052d",
   "metadata": {},
   "source": [
    "#### 3 Dictionary Operations:\n",
    "#### Given a dictionary { 'a': 10, 'b': 20, 'c': 30 }, write a Python script to swap keys and values"
   ]
  },
  {
   "cell_type": "code",
   "execution_count": 16,
   "id": "cde8a38f-bd3a-4d2e-a4cf-75233db09a50",
   "metadata": {},
   "outputs": [
    {
     "name": "stdout",
     "output_type": "stream",
     "text": [
      "{10: 'a', 20: 'b', 30: 'c'}\n"
     ]
    }
   ],
   "source": [
    "original_dict ={'a': 10,'b':20,'c':30}\n",
    "swapped_dict = {value : key for key, value in original_dict.items()}\n",
    "print(swapped_dict)"
   ]
  },
  {
   "cell_type": "markdown",
   "id": "4aedf4da-76b5-4149-aa2d-5a57c2634d82",
   "metadata": {},
   "source": [
    "####  4 File Handling:\n",
    "#### Write a program to read a text file and count the number of occurrences of each word in the file."
   ]
  },
  {
   "cell_type": "code",
   "execution_count": 25,
   "id": "3cb22f7a-1937-4720-9fdf-cc6423864052",
   "metadata": {},
   "outputs": [
    {
     "name": "stdout",
     "output_type": "stream",
     "text": [
      "File not found. Please check the filename and path.\n"
     ]
    }
   ],
   "source": [
    "from collections import Counter  # Corrected import\n",
    "\n",
    "def count_word_occurrences(filename):  # Added colon\n",
    "    try:\n",
    "        with open(filename, 'r', encoding='utf-8') as file:\n",
    "            text = file.read().lower()  # Read file and convert to lowercase\n",
    "            words = text.split()  # Split text into words\n",
    "            word_counts = Counter(words)  # Use Counter correctly\n",
    "            return word_counts  # Corrected variable name\n",
    "    except FileNotFoundError:  # Fixed typo\n",
    "        print(\"File not found. Please check the filename and path.\")\n",
    "        return {}\n",
    "\n",
    "# Example usage\n",
    "filename = \"sample.txt\"\n",
    "word_counts = count_word_occurrences(filename)\n",
    "\n",
    "# Print word occurrences\n",
    "for word, count in word_counts.items():\n",
    "    print(f\"{word}: {count}\")\n"
   ]
  },
  {
   "cell_type": "markdown",
   "id": "e54451aa-46ec-4228-8045-b220941d1032",
   "metadata": {},
   "source": [
    "#### 5 Lambda Functions & Map:\n",
    "#### Write a Python program that takes a list of numbers and returns a new list where each number is squared using the map() function."
   ]
  },
  {
   "cell_type": "code",
   "execution_count": 28,
   "id": "50556487-dc40-48e1-840e-5854d94fe5d6",
   "metadata": {},
   "outputs": [
    {
     "name": "stdout",
     "output_type": "stream",
     "text": [
      "[1, 4, 9, 16, 25]\n"
     ]
    }
   ],
   "source": [
    "numbers = [1,2,3,4,5,]\n",
    "squard_numbers = list(map(lambda x: x**2,numbers))\n",
    "print(squard_numbers)"
   ]
  },
  {
   "cell_type": "markdown",
   "id": "06a780e3-4028-4cdc-b104-3f64dc540fcf",
   "metadata": {},
   "source": [
    "#### 6 Recursion:\n",
    "#### Write a recursive function to compute the factorial of a given number."
   ]
  },
  {
   "cell_type": "code",
   "execution_count": 37,
   "id": "ba2ef040-9406-422a-aa7a-fb3c5b594aac",
   "metadata": {},
   "outputs": [
    {
     "name": "stdin",
     "output_type": "stream",
     "text": [
      "Enter a number you want to find factorial 5\n"
     ]
    },
    {
     "name": "stdout",
     "output_type": "stream",
     "text": [
      "factorial of 5 is 120\n"
     ]
    }
   ],
   "source": [
    "def factorial(n):\n",
    "    if n ==0 or n == 1:\n",
    "        return 1\n",
    "    return n*factorial(n-1)\n",
    "num =int(input(\"Enter a number you want to find factorial\"))\n",
    "print(f\"factorial of {num} is {factorial(num)}\")"
   ]
  },
  {
   "cell_type": "markdown",
   "id": "1382ac39-1b17-4d40-b23f-f7c0e08248e1",
   "metadata": {},
   "source": [
    "#### 7 Exception Handling:\n",
    "#### Write a Python program that takes two numbers as input and divides them. Handle the case when the denominator is zero using exception handling."
   ]
  },
  {
   "cell_type": "code",
   "execution_count": 42,
   "id": "2eb44e61-3415-4134-a324-eca9828d100b",
   "metadata": {},
   "outputs": [
    {
     "name": "stdin",
     "output_type": "stream",
     "text": [
      "Enter a num1:  10\n",
      "Enter a num2:  2\n"
     ]
    },
    {
     "name": "stdout",
     "output_type": "stream",
     "text": [
      "result:5.0\n"
     ]
    }
   ],
   "source": [
    "def divide_numbers():\n",
    "    try:\n",
    "        num1 = float(input(\"Enter a num1: \"))\n",
    "        num2 = float(input(\"Enter a num2: \"))\n",
    "        result = num1/num2\n",
    "        print(f\"result:{result}\")\n",
    "    except ZeroError:\n",
    "        print(\"Error: Division of zero not allowed\")\n",
    "    except ValueError: \n",
    "        print(\"Error: please enter valid numeric values\")\n",
    "divide_numbers()"
   ]
  },
  {
   "cell_type": "markdown",
   "id": "075f15e2-f9df-4f02-9470-f0893b1dee46",
   "metadata": {},
   "source": [
    "#### 8 Regular Expressions:\n",
    "#### Write a Python script that validates if a given email address is in the correct format using regular expressions."
   ]
  },
  {
   "cell_type": "code",
   "execution_count": 49,
   "id": "9ff4ade7-959b-4473-a108-5be6ab330f4e",
   "metadata": {},
   "outputs": [
    {
     "name": "stdin",
     "output_type": "stream",
     "text": [
      "Enter an email address ra@.com\n"
     ]
    },
    {
     "name": "stdout",
     "output_type": "stream",
     "text": [
      "INvalid email address\n"
     ]
    }
   ],
   "source": [
    "import re \n",
    "def validate_Email(email):\n",
    "    pattern = r'^[a-zA-Z0-9._%+-]+@[a-zA-Z0-9.-]+\\.[a-zA-Z]{2,}$'\n",
    "    if re.match(pattern, email):\n",
    "        return \"Valid email address\"\n",
    "    else:\n",
    "        return \"INvalid email address\"\n",
    "\n",
    "email = input(\"Enter an email address\")\n",
    "print(validate_Email(email))\n"
   ]
  },
  {
   "cell_type": "markdown",
   "id": "0106c79b-894c-485a-b19f-20670bec437f",
   "metadata": {},
   "source": [
    "#### 9 Pandas DataFrame:\n",
    "#### Create a Pandas DataFrame from a dictionary and print only the rows where a particular column has values greater than 50"
   ]
  },
  {
   "cell_type": "code",
   "execution_count": 56,
   "id": "d306e8ca-220d-4db6-a22b-3b9735a27c95",
   "metadata": {},
   "outputs": [
    {
     "name": "stdout",
     "output_type": "stream",
     "text": [
      "      Name  Score\n",
      "1   akshay     67\n",
      "2    robin     89\n",
      "3   kaveri     90\n",
      "4  gayatri     87\n"
     ]
    }
   ],
   "source": [
    "import pandas as pd\n",
    "data = {\n",
    "    'Name':['rahul','akshay','robin','kaveri','gayatri','anu'],\n",
    "    'Score':[45,67,89,90,87,11]\n",
    "}\n",
    "\n",
    "df = pd.DataFrame(data)\n",
    "\n",
    "filtered_df = df[df['Score'] > 50]\n",
    "\n",
    "print(filtered_df)"
   ]
  },
  {
   "cell_type": "markdown",
   "id": "e9913e6d-3042-465b-919c-22619d08c3c2",
   "metadata": {},
   "source": [
    "#### 10  Matplotlib Visualization:\n",
    "#### Write a Python script to plot a line graph of y = x^2 for values of x ranging from -10 to 10."
   ]
  },
  {
   "cell_type": "code",
   "execution_count": 61,
   "id": "6a40a5c4-1f4d-4dc1-baf9-2318a836da92",
   "metadata": {},
   "outputs": [
    {
     "data": {
      "image/png": "[encoded data removed]",
      "text/plain": [
       "<Figure size 640x480 with 1 Axes>"
      ]
     },
     "metadata": {},
     "output_type": "display_data"
    }
   ],
   "source": [
    "import matplotlib.pyplot as plt\n",
    "import numpy as np\n",
    "\n",
    "x = np.arange(-10,11,1)\n",
    "y=x**2\n",
    "plt.plot(x,y, marker='o',linestyle='-', color='b',label='y=x²')\n",
    "\n",
    "plt.xlabel(\"X values\")\n",
    "plt.ylabel(\"Y values\")\n",
    "plt.title(\"Line graph of y =x²\")\n",
    "\n",
    "plt.grid(True)\n",
    "plt.legend()\n",
    "\n",
    "plt.show()"
   ]
  }
 ],
 "metadata": {
  "kernelspec": {
   "display_name": "Python 3 (ipykernel)",
   "language": "python",
   "name": "python3"
  },
  "language_info": {
   "codemirror_mode": {
    "name": "ipython",
    "version": 3
   },
   "file_extension": ".py",
   "mimetype": "text/x-python",
   "name": "python",
   "nbconvert_exporter": "python",
   "pygments_lexer": "ipython3",
   "version": "3.12.7"
  }
 },
 "nbformat": 4,
 "nbformat_minor": 5
}
