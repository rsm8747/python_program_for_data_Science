{
 "cells": [
  {
   "cell_type": "code",
   "execution_count": 12,
   "id": "0838ea43-085d-4a54-8d61-25629421bc42",
   "metadata": {},
   "outputs": [
    {
     "name": "stdin",
     "output_type": "stream",
     "text": [
      "Enter a number for table:  2\n"
     ]
    },
    {
     "name": "stdout",
     "output_type": "stream",
     "text": [
      "2 X 1 = 2\n",
      "2 X 2 = 4\n",
      "2 X 3 = 6\n",
      "2 X 4 = 8\n",
      "2 X 5 = 10\n",
      "2 X 6 = 12\n",
      "2 X 7 = 14\n",
      "2 X 8 = 16\n",
      "2 X 9 = 18\n",
      "2 X 10 = 20\n"
     ]
    }
   ],
   "source": [
    "# multiplication \n",
    "num = int(input(\"Enter a number for table: \"))\n",
    "for i in range(1,11):\n",
    "     \n",
    "    print(f\"{num} X {i} = {num * i}\")"
   ]
  },
  {
   "cell_type": "code",
   "execution_count": 14,
   "id": "41e2d116-a9d9-435c-8820-ece7de8828ad",
   "metadata": {},
   "outputs": [
    {
     "name": "stdin",
     "output_type": "stream",
     "text": [
      "Enter a number for table:  2\n"
     ]
    },
    {
     "name": "stdout",
     "output_type": "stream",
     "text": [
      "2 * 1 = 2\n",
      "2 * 2 = 4\n",
      "2 * 3 = 6\n",
      "2 * 4 = 8\n",
      "2 * 5 = 10\n",
      "2 * 6 = 12\n",
      "2 * 7 = 14\n",
      "2 * 8 = 16\n",
      "2 * 9 = 18\n",
      "2 * 10 = 20\n"
     ]
    }
   ],
   "source": [
    "num = int(input(\"Enter a number for table: \"))\n",
    "multifactor =1 \n",
    "while(multifactor <= 10):\n",
    "    print(num, \"*\", multifactor, \"=\", num*multifactor)\n",
    "    multifactor=multifactor+1"
   ]
  },
  {
   "cell_type": "markdown",
   "id": "fe5ca050-581b-413c-90ee-dd290d7769c2",
   "metadata": {},
   "source": [
    "### python program to take in two strings and display the larger string without using built in functions"
   ]
  },
  {
   "cell_type": "code",
   "execution_count": 20,
   "id": "f37341c9-d935-4925-9c4a-0d4d034a30ea",
   "metadata": {},
   "outputs": [
    {
     "name": "stdout",
     "output_type": "stream",
     "text": [
      "The string btechgeeks is larger string\n"
     ]
    }
   ],
   "source": [
    "fString = \"btechgeeks\"\n",
    "sString = \"python\"\n",
    "sLength1 = 0\n",
    "sLength2 = 0\n",
    "for charact in fString:\n",
    "    sLength1 = sLength1+1\n",
    "for charact in sString:\n",
    "    sLength2 = sLength2+1\n",
    "\n",
    "if(sLength1>sLength2):\n",
    "    print(\"The string\", fString, \"is larger string\")\n",
    "\n",
    "elif(sLength1 == sLength2):\n",
    "    print(\"The strings\",fString, \"and\",sString, \"are equal in size\")\n",
    "\n",
    "else:\n",
    "    print(\"The string\", sString, \"is larger string\")"
   ]
  },
  {
   "cell_type": "markdown",
   "id": "22985edf-5f85-4fba-8021-5b8d43403cd4",
   "metadata": {},
   "source": [
    "# 2)Using Count Variable and conditional statements(User Input)"
   ]
  },
  {
   "cell_type": "code",
   "execution_count": 25,
   "id": "a4830027-1fd9-4e7e-be00-4120686fecc7",
   "metadata": {},
   "outputs": [
    {
     "name": "stdin",
     "output_type": "stream",
     "text": [
      "Enter some random first string = rahul\n",
      "Enter some random second string =  morekorke\n"
     ]
    },
    {
     "name": "stdout",
     "output_type": "stream",
     "text": [
      "The string morekorke is larger string\n"
     ]
    }
   ],
   "source": [
    "fString = input(\"Enter some random first string =\")\n",
    "sString = input(\"Enter some random second string = \")\n",
    "\n",
    "sLength1=0\n",
    "\n",
    "for charact in fString:\n",
    "    sLength1 = sLength1+1\n",
    "\n",
    "for charact in sString:\n",
    "    sLength2 = sLength2+1\n",
    "\n",
    "if(sLength1 > sLength2):\n",
    "    print(\"The string\", fString,\"is larger string\")\n",
    "\n",
    "elif(sLength1 == sLength2):\n",
    "    print(\"The strings\", fString, \"and\",sString,\"are equal in size\")\n",
    "\n",
    "else:\n",
    "    print(\"The string\", sString,\"is larger string\")"
   ]
  },
  {
   "cell_type": "markdown",
   "id": "a8fb54aa-0896-4ec2-aeab-063f7f31143d",
   "metadata": {},
   "source": [
    "## Program to Display Calendar in Python"
   ]
  },
  {
   "cell_type": "code",
   "execution_count": 28,
   "id": "7b327924-13d4-464d-8c0d-60ba76fc79d1",
   "metadata": {},
   "outputs": [
    {
     "name": "stdout",
     "output_type": "stream",
     "text": [
      "     March 2025\n",
      "Mo Tu We Th Fr Sa Su\n",
      "                1  2\n",
      " 3  4  5  6  7  8  9\n",
      "10 11 12 13 14 15 16\n",
      "17 18 19 20 21 22 23\n",
      "24 25 26 27 28 29 30\n",
      "31\n",
      "\n"
     ]
    }
   ],
   "source": [
    "import calendar\n",
    "given_year = 2025\n",
    "given_month = 3\n",
    "print(calendar.month(given_year,given_month))"
   ]
  },
  {
   "cell_type": "markdown",
   "id": "d6779991-ab46-4fc4-9e16-e1a85908c252",
   "metadata": {},
   "source": [
    "### for whole year "
   ]
  },
  {
   "cell_type": "code",
   "execution_count": 31,
   "id": "4157dfe4-cfd3-47fd-aedb-c92e5b2d7fa0",
   "metadata": {},
   "outputs": [
    {
     "name": "stdout",
     "output_type": "stream",
     "text": [
      "                                  2025\n",
      "\n",
      "      January                   February                   March\n",
      "Mo Tu We Th Fr Sa Su      Mo Tu We Th Fr Sa Su      Mo Tu We Th Fr Sa Su\n",
      "       1  2  3  4  5                      1  2                      1  2\n",
      " 6  7  8  9 10 11 12       3  4  5  6  7  8  9       3  4  5  6  7  8  9\n",
      "13 14 15 16 17 18 19      10 11 12 13 14 15 16      10 11 12 13 14 15 16\n",
      "20 21 22 23 24 25 26      17 18 19 20 21 22 23      17 18 19 20 21 22 23\n",
      "27 28 29 30 31            24 25 26 27 28            24 25 26 27 28 29 30\n",
      "                                                    31\n",
      "\n",
      "       April                      May                       June\n",
      "Mo Tu We Th Fr Sa Su      Mo Tu We Th Fr Sa Su      Mo Tu We Th Fr Sa Su\n",
      "    1  2  3  4  5  6                1  2  3  4                         1\n",
      " 7  8  9 10 11 12 13       5  6  7  8  9 10 11       2  3  4  5  6  7  8\n",
      "14 15 16 17 18 19 20      12 13 14 15 16 17 18       9 10 11 12 13 14 15\n",
      "21 22 23 24 25 26 27      19 20 21 22 23 24 25      16 17 18 19 20 21 22\n",
      "28 29 30                  26 27 28 29 30 31         23 24 25 26 27 28 29\n",
      "                                                    30\n",
      "\n",
      "        July                     August                  September\n",
      "Mo Tu We Th Fr Sa Su      Mo Tu We Th Fr Sa Su      Mo Tu We Th Fr Sa Su\n",
      "    1  2  3  4  5  6                   1  2  3       1  2  3  4  5  6  7\n",
      " 7  8  9 10 11 12 13       4  5  6  7  8  9 10       8  9 10 11 12 13 14\n",
      "14 15 16 17 18 19 20      11 12 13 14 15 16 17      15 16 17 18 19 20 21\n",
      "21 22 23 24 25 26 27      18 19 20 21 22 23 24      22 23 24 25 26 27 28\n",
      "28 29 30 31               25 26 27 28 29 30 31      29 30\n",
      "\n",
      "      October                   November                  December\n",
      "Mo Tu We Th Fr Sa Su      Mo Tu We Th Fr Sa Su      Mo Tu We Th Fr Sa Su\n",
      "       1  2  3  4  5                      1  2       1  2  3  4  5  6  7\n",
      " 6  7  8  9 10 11 12       3  4  5  6  7  8  9       8  9 10 11 12 13 14\n",
      "13 14 15 16 17 18 19      10 11 12 13 14 15 16      15 16 17 18 19 20 21\n",
      "20 21 22 23 24 25 26      17 18 19 20 21 22 23      22 23 24 25 26 27 28\n",
      "27 28 29 30 31            24 25 26 27 28 29 30      29 30 31\n",
      "\n"
     ]
    }
   ],
   "source": [
    "import calendar\n",
    "given_year = 2025\n",
    "print(calendar.calendar(given_year))"
   ]
  }
 ],
 "metadata": {
  "kernelspec": {
   "display_name": "Python 3 (ipykernel)",
   "language": "python",
   "name": "python3"
  },
  "language_info": {
   "codemirror_mode": {
    "name": "ipython",
    "version": 3
   },
   "file_extension": ".py",
   "mimetype": "text/x-python",
   "name": "python",
   "nbconvert_exporter": "python",
   "pygments_lexer": "ipython3",
   "version": "3.12.7"
  }
 },
 "nbformat": 4,
 "nbformat_minor": 5
}
