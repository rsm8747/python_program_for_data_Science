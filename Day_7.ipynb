{
 "cells": [
  {
   "cell_type": "code",
   "execution_count": 1,
   "id": "e8390f45-8253-40c8-a84a-dc72561c5d07",
   "metadata": {},
   "outputs": [
    {
     "name": "stdout",
     "output_type": "stream",
     "text": [
      "The number is 2 and its suare is 4\n",
      "The number is 7 and its suare is 49\n",
      "The number is -1 and its suare is 1\n",
      "The number is 5 and its suare is 25\n",
      "I'm outside the loop!\n"
     ]
    }
   ],
   "source": [
    "for n in [2,7,-1,5]:\n",
    "    print(f\"The number is {n} and its suare is {n**2}\")\n",
    "print(\"I'm outside the loop!\")"
   ]
  },
  {
   "cell_type": "code",
   "execution_count": 3,
   "id": "2b4a6e0c-b4c3-4bae-98e0-c954a3b326fb",
   "metadata": {},
   "outputs": [
    {
     "name": "stdout",
     "output_type": "stream",
     "text": [
      "gimme a P!\n",
      "gimme a y!\n",
      "gimme a t!\n",
      "gimme a h!\n",
      "gimme a o!\n",
      "gimme a n!\n",
      "What's that spell?!! Python!\n"
     ]
    }
   ],
   "source": [
    "word = \"Python\"\n",
    "for letter in word:\n",
    "    print(\"gimme a \" + letter + \"!\")\n",
    "\n",
    "print(f\"What's that spell?!! {word}!\")"
   ]
  },
  {
   "cell_type": "code",
   "execution_count": 5,
   "id": "23a5fdf4-570c-413d-a0ba-b16ae03196c8",
   "metadata": {},
   "outputs": [
    {
     "name": "stdout",
     "output_type": "stream",
     "text": [
      "(1, 'a')\n",
      "(1, 'b')\n",
      "(1, 'c')\n",
      "(2, 'a')\n",
      "(2, 'b')\n",
      "(2, 'c')\n",
      "(3, 'a')\n",
      "(3, 'b')\n",
      "(3, 'c')\n"
     ]
    }
   ],
   "source": [
    "for x in [1,2,3]:\n",
    "    for y in [\"a\",\"b\",\"c\"]:\n",
    "        print((x,y))"
   ]
  },
  {
   "cell_type": "code",
   "execution_count": 9,
   "id": "467b0227-eebc-446b-9110-2698a8a6c44e",
   "metadata": {},
   "outputs": [
    {
     "name": "stdout",
     "output_type": "stream",
     "text": [
      "0 a\n",
      "1 b\n",
      "2 c\n"
     ]
    }
   ],
   "source": [
    "list_1 = [0,1,2]\n",
    "list_2 = [\"a\",\"b\",\"c\"]\n",
    "for i in range(3):\n",
    "    print(list_1[i], list_2[i])"
   ]
  },
  {
   "cell_type": "code",
   "execution_count": 11,
   "id": "6e3d2cbc-6a89-4324-88b2-4dec5233a5a2",
   "metadata": {},
   "outputs": [
    {
     "name": "stdout",
     "output_type": "stream",
     "text": [
      "(0, 'a')\n",
      "(1, 'b')\n",
      "(2, 'c')\n"
     ]
    }
   ],
   "source": [
    "for i in zip(list_1, list_2):\n",
    "    print(i)"
   ]
  },
  {
   "cell_type": "code",
   "execution_count": 13,
   "id": "585e2515-e2e4-4831-93e9-bab88ea6916c",
   "metadata": {},
   "outputs": [
    {
     "name": "stdout",
     "output_type": "stream",
     "text": [
      "0 a\n",
      "1 b\n",
      "2 c\n"
     ]
    }
   ],
   "source": [
    "for i,j in zip(list_1, list_2):\n",
    "    print(i,j)"
   ]
  },
  {
   "cell_type": "code",
   "execution_count": 15,
   "id": "8790e56e-03e3-4bf9-a814-38ed7c3832b9",
   "metadata": {},
   "outputs": [
    {
     "name": "stdout",
     "output_type": "stream",
     "text": [
      "(0, 'a')\n",
      "(1, 'b')\n",
      "(2, 'c')\n"
     ]
    }
   ],
   "source": [
    "for i in enumerate(list_2):\n",
    "    print(i)"
   ]
  },
  {
   "cell_type": "code",
   "execution_count": 17,
   "id": "84dec2a1-36d7-4071-871a-7ef2f3098bf4",
   "metadata": {},
   "outputs": [
    {
     "name": "stdout",
     "output_type": "stream",
     "text": [
      "index 0, value a\n",
      "index 1, value b\n",
      "index 2, value c\n"
     ]
    }
   ],
   "source": [
    "for n,i in enumerate(list_2):\n",
    "    print(f\"index {n}, value {i}\")"
   ]
  },
  {
   "cell_type": "code",
   "execution_count": 19,
   "id": "292db110-de60-4b2e-aefa-d0303530506e",
   "metadata": {},
   "outputs": [
    {
     "name": "stdout",
     "output_type": "stream",
     "text": [
      "DSCI 521, is awesome\n",
      "DSCI 551, is riveting\n",
      "DSCI 511, is naptime!\n"
     ]
    }
   ],
   "source": [
    "course = {521 : \"awesome\", 551 : \"riveting\", 511 : \"naptime!\"}\n",
    "for course_num, description in course.items():\n",
    "    print(f\"DSCI {course_num}, is {description}\")"
   ]
  },
  {
   "cell_type": "code",
   "execution_count": 21,
   "id": "fa70d89a-efe0-4214-bad6-38369b34d295",
   "metadata": {},
   "outputs": [
    {
     "name": "stdout",
     "output_type": "stream",
     "text": [
      "Item 0:DECI 521, is awesome\n",
      "Item 1:DECI 551, is riveting\n",
      "Item 2:DECI 511, is naptime!\n"
     ]
    }
   ],
   "source": [
    "for n, (course_num, description) in enumerate(course.items()):\n",
    "    print(f\"Item {n}:DECI {course_num}, is {description}\")"
   ]
  },
  {
   "cell_type": "code",
   "execution_count": 23,
   "id": "dd043738-ab24-471e-b9ab-8af1cf82c393",
   "metadata": {},
   "outputs": [
    {
     "name": "stdout",
     "output_type": "stream",
     "text": [
      "10\n",
      "9\n",
      "8\n",
      "7\n",
      "6\n",
      "5\n",
      "4\n",
      "3\n",
      "2\n",
      "1\n",
      "Blast off!\n"
     ]
    }
   ],
   "source": [
    "# 2 while loops\n",
    "n = 10\n",
    "while n > 0:\n",
    "    print(n)\n",
    "    n-=1\n",
    "\n",
    "print(\"Blast off!\")"
   ]
  },
  {
   "cell_type": "code",
   "execution_count": 25,
   "id": "242dea36-c7f1-4536-bc57-a757358b3d0d",
   "metadata": {},
   "outputs": [
    {
     "name": "stdout",
     "output_type": "stream",
     "text": [
      "11\n",
      "34\n",
      "17\n",
      "52\n",
      "26\n",
      "13\n",
      "40\n",
      "20\n",
      "10\n",
      "5\n",
      "16\n",
      "8\n",
      "4\n",
      "2\n",
      "1\n"
     ]
    }
   ],
   "source": [
    "n = 11\n",
    "while n!=1:\n",
    "    print(int(n))\n",
    "    if n % 2 ==0:\n",
    "        n = n/2\n",
    "    else:\n",
    "        n = n*3+1\n",
    "\n",
    "print(int(n))"
   ]
  }
 ],
 "metadata": {
  "kernelspec": {
   "display_name": "Python 3 (ipykernel)",
   "language": "python",
   "name": "python3"
  },
  "language_info": {
   "codemirror_mode": {
    "name": "ipython",
    "version": 3
   },
   "file_extension": ".py",
   "mimetype": "text/x-python",
   "name": "python",
   "nbconvert_exporter": "python",
   "pygments_lexer": "ipython3",
   "version": "3.12.7"
  }
 },
 "nbformat": 4,
 "nbformat_minor": 5
}
